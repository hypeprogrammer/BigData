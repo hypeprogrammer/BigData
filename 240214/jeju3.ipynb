{
 "cells": [
  {
   "cell_type": "code",
   "execution_count": 7,
   "id": "initial_id",
   "metadata": {
    "collapsed": true,
    "ExecuteTime": {
     "end_time": "2024-02-14T07:10:50.387015300Z",
     "start_time": "2024-02-14T07:10:50.375455700Z"
    }
   },
   "outputs": [],
   "source": [
    "import pandas as pd\n",
    "import numpy as np\n",
    "import datetime\n",
    "import random\n",
    "import os\n",
    "import sys\n",
    "import holidays\n",
    "\n",
    "\n",
    "import sklearn\n",
    "from sklearn.ensemble import VotingRegressor\n",
    "from sklearn.preprocessing import LabelEncoder\n",
    "from sklearn.metrics import mean_squared_error\n",
    "\n",
    "\n",
    "import xgboost\n",
    "from xgboost import XGBRegressor\n",
    "import catboost\n",
    "from catboost import CatBoostRegressor"
   ]
  },
  {
   "cell_type": "code",
   "outputs": [],
   "source": [
    "def seed_everything(seed: int = 2024):\n",
    "    random.seed(seed)\n",
    "    np.random.seed(seed)\n",
    "    os.environ[\"PYTHONHASHSEED\"] = str(seed)\n",
    "seed_everything(2024)"
   ],
   "metadata": {
    "collapsed": false,
    "ExecuteTime": {
     "end_time": "2024-02-14T07:10:50.406792400Z",
     "start_time": "2024-02-14T07:10:50.387015300Z"
    }
   },
   "id": "f3b67d6add524f96",
   "execution_count": 8
  },
  {
   "cell_type": "code",
   "outputs": [],
   "source": [
    "#데이터 로드\n",
    "\n",
    "train = pd.read_csv(\"./jejuData/train.csv\")\n",
    "test = pd.read_csv(\"./jejuData/test.csv\")"
   ],
   "metadata": {
    "collapsed": false,
    "ExecuteTime": {
     "end_time": "2024-02-14T07:10:50.445323800Z",
     "start_time": "2024-02-14T07:10:50.399932500Z"
    }
   },
   "id": "e5541268be41024c",
   "execution_count": 9
  },
  {
   "cell_type": "code",
   "outputs": [],
   "source": [
    "def pre_all(train, test):\n",
    "    print(f\"전처리 전 train 크기 : {train.shape}\")\n",
    "    print(f\"전처리 전 test 크기 : {test.shape}\")\n",
    "    print(\"=================전처리 중=================\")\n",
    "\n",
    "    # 합쳐서 전처리하기\n",
    "    train[\"timestamp\"] = pd.to_datetime(train[\"timestamp\"])\n",
    "    test[\"timestamp\"] = pd.to_datetime(test[\"timestamp\"])\n",
    "    df = pd.concat([train,test]).reset_index(drop = True)\n",
    "\n",
    "    df.rename(columns={'supply(kg)':'supply', 'price(원/kg)':'price'},inplace=True)\n",
    "\n",
    "    #년/월/일 추가\n",
    "    df['year']=df['timestamp'].dt.year\n",
    "    df['month']=df['timestamp'].dt.month\n",
    "    df['day']=df['timestamp'].dt.day\n",
    "\n",
    "    #요일 추가\n",
    "    df['week_day']=df['timestamp'].dt.weekday\n",
    "\n",
    "    # 년-월 변수 추가 : year-month의 형태, 개월단위 누적값\n",
    "    le = LabelEncoder()\n",
    "    df[\"year_month\"] = df[\"timestamp\"].map(lambda x :str(x.year) + \"-\"+str(x.month))\n",
    "\n",
    "    # 라벨 인코딩\n",
    "    df[\"year_month\"] = le.fit_transform(df[\"year_month\"])\n",
    "\n",
    "\n",
    "    # 주차 변수 추가\n",
    "    df[\"week\"] = df[\"timestamp\"].map(lambda x: datetime.datetime(x.year, x.month, x.day).isocalendar()[1])\n",
    "\n",
    "    # 주차 누적값\n",
    "    week_list=[]\n",
    "    for i in range(len(df['year'])) :\n",
    "        if df['year'][i] == 2019 :\n",
    "            week_list.append(int(df['week'][i]))\n",
    "        elif df['year'][i] == 2020 :\n",
    "            week_list.append(int(df['week'][i])+52)\n",
    "        elif df['year'][i] == 2021 :\n",
    "            week_list.append(int(df['week'][i])+52+53)\n",
    "        elif df['year'][i] == 2022 :\n",
    "            week_list.append(int(df['week'][i])+52+53+53)\n",
    "        elif df['year'][i] == 2023 :\n",
    "            week_list.append(int(df['week'][i])+52+53+53+52)\n",
    "    df['week_num']= week_list\n",
    "\n",
    "    # datetime 패키지에서 19년 12월 마지막주가 첫째주로 들어가는거 발견하여 수정\n",
    "    df.loc[df['timestamp']=='2019-12-30','week_num']=52\n",
    "    df.loc[df['timestamp']=='2019-12-31','week_num']=52\n",
    "\n",
    "\n",
    "    # 공휴일 변수 추가\n",
    "    def make_holi(x):\n",
    "        kr_holi = holidays.KR()\n",
    "\n",
    "        if x in kr_holi:\n",
    "            return 1\n",
    "        else:\n",
    "            return 0\n",
    "\n",
    "    df[\"holiday\"] = df[\"timestamp\"].map(lambda x : make_holi(x))\n",
    "\n",
    "\n",
    "    # train, test 분리하기\n",
    "    train = df[~df[\"price\"].isnull()].sort_values(\"timestamp\").reset_index(drop = True)\n",
    "    test = df[df[\"price\"].isnull()].sort_values(\"timestamp\").reset_index(drop=True)\n",
    "\n",
    "\n",
    "    print(f\"전처리 후 train 크기 : {train.shape}\")\n",
    "    print(f\"전처리 후 test 크기 : {test.shape}\")\n",
    "\n",
    "    return train, test"
   ],
   "metadata": {
    "collapsed": false,
    "ExecuteTime": {
     "end_time": "2024-02-14T07:10:50.461182700Z",
     "start_time": "2024-02-14T07:10:50.452682400Z"
    }
   },
   "id": "c7adb0157a1c3c57",
   "execution_count": 10
  },
  {
   "cell_type": "code",
   "outputs": [
    {
     "name": "stdout",
     "output_type": "stream",
     "text": [
      "전처리 전 train 크기 : (59397, 7)\n",
      "전처리 전 test 크기 : (1092, 5)\n",
      "=================전처리 중=================\n",
      "전처리 후 train 크기 : (59397, 15)\n",
      "전처리 후 test 크기 : (1092, 15)\n"
     ]
    }
   ],
   "source": [
    "train_pre, test_pre = pre_all(train, test)"
   ],
   "metadata": {
    "collapsed": false,
    "ExecuteTime": {
     "end_time": "2024-02-14T07:11:56.521785500Z",
     "start_time": "2024-02-14T07:10:50.462272200Z"
    }
   },
   "id": "662bd1c45d676d2f",
   "execution_count": 11
  },
  {
   "cell_type": "code",
   "outputs": [
    {
     "name": "stdout",
     "output_type": "stream",
     "text": [
      "train의 컬럼 : Index(['ID', 'timestamp', 'item', 'corporation', 'location', 'supply', 'price',\n",
      "       'year', 'month', 'day', 'week_day', 'year_month', 'week', 'week_num',\n",
      "       'holiday'],\n",
      "      dtype='object')\n",
      "test의 컬럼 : Index(['ID', 'timestamp', 'item', 'corporation', 'location', 'supply', 'price',\n",
      "       'year', 'month', 'day', 'week_day', 'year_month', 'week', 'week_num',\n",
      "       'holiday'],\n",
      "      dtype='object')\n",
      "Index(['ID', 'timestamp', 'price', 'year', 'month', 'day', 'week_day',\n",
      "       'year_month', 'week', 'week_num', 'holiday', 'item_BC', 'item_CB',\n",
      "       'item_CR', 'item_RD', 'corporation_A', 'corporation_B', 'corporation_C',\n",
      "       'corporation_D', 'corporation_E', 'corporation_F', 'location_J',\n",
      "       'location_S'],\n",
      "      dtype='object')\n"
     ]
    }
   ],
   "source": [
    "## 전처리\n",
    "\n",
    "# 극 이상치 제거\n",
    "tg_idx = train_pre[(train_pre[\"item\"]==\"TG\") & (train_pre[\"price\"]>20000)].index\n",
    "rd_idx = train_pre[(train_pre[\"item\"]==\"RD\") & (train_pre[\"price\"]>5000)].index\n",
    "bc_idx = train_pre[(train_pre[\"item\"]==\"BC\") & (train_pre[\"price\"]>8000)].index\n",
    "cb_idx = train_pre[(train_pre[\"item\"]==\"CB\") & (train_pre[\"price\"]>2300)].index\n",
    "\n",
    "train_pre.loc[tg_idx,\"price\"] = train_pre[(train_pre[\"item\"]==\"TG\") & (train_pre[\"price\"]!=0)][\"price\"].mean()\n",
    "train_pre.loc[rd_idx,\"price\"] = train_pre[(train_pre[\"item\"]==\"RD\") & (train_pre[\"price\"]!=0)][\"price\"].mean()\n",
    "train_pre.loc[bc_idx,\"price\"] = train_pre[(train_pre[\"item\"]==\"BC\") & (train_pre[\"price\"]!=0)][\"price\"].mean()\n",
    "train_pre.loc[cb_idx,\"price\"] = train_pre[(train_pre[\"item\"]==\"CB\") & (train_pre[\"price\"]!=0)][\"price\"].mean()\n",
    "\n",
    "\n",
    "# 감귤이 아닌것\n",
    "print(f\"train의 컬럼 : {train_pre.columns}\")\n",
    "print(f\"test의 컬럼 : {test_pre.columns}\")\n",
    "\n",
    "train_notg = train_pre[train_pre[\"item\"] !=\"TG\"]\n",
    "test_notg = test_pre[test_pre[\"item\"] != \"TG\"]\n",
    "\n",
    "\n",
    "#인코딩\n",
    "Xy = pd.get_dummies(train_notg.sort_values(by = [\"timestamp\"]).reset_index(drop=True).drop(columns = [\"supply\"]), columns = [\"item\",\"corporation\",\"location\"])\n",
    "answer_notg = pd.get_dummies(test_notg.drop(columns = [\"timestamp\",\"supply\",\"price\"]), columns = [ \"item\",\"corporation\",\"location\"])\n",
    "print(Xy.columns)"
   ],
   "metadata": {
    "collapsed": false,
    "ExecuteTime": {
     "end_time": "2024-02-14T07:12:38.471399900Z",
     "start_time": "2024-02-14T07:12:38.401633100Z"
    }
   },
   "id": "cf26efccd13a9b88",
   "execution_count": 12
  },
  {
   "cell_type": "code",
   "outputs": [
    {
     "name": "stdout",
     "output_type": "stream",
     "text": [
      "0:\tlearn: 934.3461033\ttotal: 301ms\tremaining: 5m\n",
      "999:\tlearn: 376.6995081\ttotal: 10.8s\tremaining: 0us\n"
     ]
    },
    {
     "data": {
      "text/plain": "                   ID       answer\n2     BC_B_J_20230304  2384.968678\n4     BC_B_S_20230304   100.733655\n6     BC_C_J_20230304  2293.269558\n7     BC_A_S_20230304  2751.574472\n10    BC_D_J_20230304  2776.219702\n...               ...          ...\n1085  RD_D_S_20230331   457.576344\n1086  CR_C_J_20230331  1783.102829\n1088  RD_D_J_20230331   398.828636\n1089  CR_D_J_20230331  1822.411070\n1091  RD_F_J_20230331   552.992025\n\n[812 rows x 2 columns]",
      "text/html": "<div>\n<style scoped>\n    .dataframe tbody tr th:only-of-type {\n        vertical-align: middle;\n    }\n\n    .dataframe tbody tr th {\n        vertical-align: top;\n    }\n\n    .dataframe thead th {\n        text-align: right;\n    }\n</style>\n<table border=\"1\" class=\"dataframe\">\n  <thead>\n    <tr style=\"text-align: right;\">\n      <th></th>\n      <th>ID</th>\n      <th>answer</th>\n    </tr>\n  </thead>\n  <tbody>\n    <tr>\n      <th>2</th>\n      <td>BC_B_J_20230304</td>\n      <td>2384.968678</td>\n    </tr>\n    <tr>\n      <th>4</th>\n      <td>BC_B_S_20230304</td>\n      <td>100.733655</td>\n    </tr>\n    <tr>\n      <th>6</th>\n      <td>BC_C_J_20230304</td>\n      <td>2293.269558</td>\n    </tr>\n    <tr>\n      <th>7</th>\n      <td>BC_A_S_20230304</td>\n      <td>2751.574472</td>\n    </tr>\n    <tr>\n      <th>10</th>\n      <td>BC_D_J_20230304</td>\n      <td>2776.219702</td>\n    </tr>\n    <tr>\n      <th>...</th>\n      <td>...</td>\n      <td>...</td>\n    </tr>\n    <tr>\n      <th>1085</th>\n      <td>RD_D_S_20230331</td>\n      <td>457.576344</td>\n    </tr>\n    <tr>\n      <th>1086</th>\n      <td>CR_C_J_20230331</td>\n      <td>1783.102829</td>\n    </tr>\n    <tr>\n      <th>1088</th>\n      <td>RD_D_J_20230331</td>\n      <td>398.828636</td>\n    </tr>\n    <tr>\n      <th>1089</th>\n      <td>CR_D_J_20230331</td>\n      <td>1822.411070</td>\n    </tr>\n    <tr>\n      <th>1091</th>\n      <td>RD_F_J_20230331</td>\n      <td>552.992025</td>\n    </tr>\n  </tbody>\n</table>\n<p>812 rows × 2 columns</p>\n</div>"
     },
     "execution_count": 13,
     "metadata": {},
     "output_type": "execute_result"
    }
   ],
   "source": [
    "## 앙상블 모델 정의\n",
    "\n",
    "cat = CatBoostRegressor(random_state = 2024,\n",
    "                        n_estimators = 1000,\n",
    "                        learning_rate = 0.01,\n",
    "                        depth = 10,\n",
    "                        l2_leaf_reg = 3,\n",
    "                        metric_period = 1000)\n",
    "\n",
    "xgb = XGBRegressor(n_estimators = 1000, random_state = 2024, learning_rate = 0.01, max_depth = 10)\n",
    "\n",
    "\n",
    "# voting\n",
    "vote_model = VotingRegressor(\n",
    "    estimators =[(\"cat\",cat), (\"xgb\", xgb)]\n",
    ")\n",
    "\n",
    "vote_model.fit(Xy.drop(columns = [\"timestamp\", \"ID\",\"price\"]), Xy[\"price\"])\n",
    "\n",
    "pred = vote_model.predict(answer_notg.drop(columns = [\"ID\"]))\n",
    "for idx in range(len(pred)):\n",
    "    if pred[idx]<0:\n",
    "        pred[idx]= 0\n",
    "answer_notg[\"answer\"] = pred\n",
    "\n",
    "answer_notg[[\"ID\",\"answer\"]]"
   ],
   "metadata": {
    "collapsed": false,
    "ExecuteTime": {
     "end_time": "2024-02-14T07:13:02.802490400Z",
     "start_time": "2024-02-14T07:12:46.751398Z"
    }
   },
   "id": "1cae7fccd0b841c3",
   "execution_count": 13
  },
  {
   "cell_type": "code",
   "outputs": [
    {
     "name": "stdout",
     "output_type": "stream",
     "text": [
      "전처리 전 train 크기 : (59397, 7)\n",
      "전처리 전 test 크기 : (1092, 5)\n",
      "=================전처리 중=================\n",
      "전처리 후 train 크기 : (59397, 15)\n",
      "전처리 후 test 크기 : (1092, 15)\n",
      "train의 컬럼 : Index(['ID', 'timestamp', 'price', 'year', 'month', 'day', 'week_day',\n",
      "       'year_month', 'week', 'week_num', 'holiday', 'item_TG', 'corporation_A',\n",
      "       'corporation_B', 'corporation_C', 'corporation_D', 'corporation_E',\n",
      "       'location_J', 'location_S'],\n",
      "      dtype='object')\n",
      "test의 컬럼 : Index(['ID', 'year', 'month', 'day', 'week_day', 'year_month', 'week',\n",
      "       'week_num', 'holiday', 'item_TG', 'corporation_A', 'corporation_B',\n",
      "       'corporation_C', 'corporation_D', 'corporation_E', 'location_J',\n",
      "       'location_S'],\n",
      "      dtype='object')\n"
     ]
    }
   ],
   "source": [
    "train_pre, test_pre = pre_all(train, test)\n",
    "\n",
    "# 공휴일이지만 안쉬는 날 제외하기\n",
    "no_holi = list(train_pre[(train_pre[\"item\"] ==\"TG\") &(train_pre[\"holiday\"]==1) & (train_pre[\"price\"]!=0)].groupby(\"timestamp\").count().reset_index()[\"timestamp\"])\n",
    "noholi_idx = train_pre[train_pre[\"timestamp\"].isin(no_holi)][\"holiday\"].index\n",
    "for idx in noholi_idx:\n",
    "    train_pre.loc[idx, \"holiday\"] = 0\n",
    "\n",
    "# train 및 test 시간 순서로 정렬하기\n",
    "train_tg = train_pre[train_pre[\"item\"] == \"TG\"].sort_values(by = [\"timestamp\"]).reset_index(drop= True)\n",
    "test_tg = test_pre[test_pre[\"item\"] == \"TG\"].sort_values(by = [\"timestamp\"]).reset_index(drop= True)\n",
    "\n",
    "Xy = pd.get_dummies(train_tg, columns = [ \"item\",\"corporation\",\"location\"]).drop(columns = [\"supply\"])\n",
    "answer_tg1 = pd.get_dummies(test_tg, columns = [ \"item\",\"corporation\",\"location\"]).drop(columns = [\"timestamp\",\"supply\",\"price\"])\n",
    "print(f\"train의 컬럼 : {Xy.columns}\")\n",
    "print(f\"test의 컬럼 : {answer_tg1.columns}\")\n",
    "Xy[\"price\"] = np.sqrt(Xy[\"price\"])"
   ],
   "metadata": {
    "collapsed": false,
    "ExecuteTime": {
     "end_time": "2024-02-14T07:15:03.080888500Z",
     "start_time": "2024-02-14T07:13:57.831640900Z"
    }
   },
   "id": "9fc63ab868356cab",
   "execution_count": 14
  },
  {
   "cell_type": "code",
   "outputs": [
    {
     "name": "stdout",
     "output_type": "stream",
     "text": [
      "0:\tlearn: 30.9664058\ttotal: 9.56ms\tremaining: 9.55s\n",
      "999:\tlearn: 15.5181153\ttotal: 9.36s\tremaining: 0us\n"
     ]
    },
    {
     "data": {
      "text/plain": "                  ID       answer\n0    TG_A_J_20230304  2563.261796\n1    TG_E_S_20230304  3458.001764\n2    TG_E_J_20230304   377.066719\n3    TG_D_S_20230304  3662.783068\n4    TG_D_J_20230304   607.878918\n..               ...          ...\n275  TG_D_J_20230331  2804.801999\n276  TG_D_S_20230331  4860.908623\n277  TG_A_S_20230331  5304.802147\n278  TG_E_S_20230331  4859.787923\n279  TG_E_J_20230331  1911.300384\n\n[280 rows x 2 columns]",
      "text/html": "<div>\n<style scoped>\n    .dataframe tbody tr th:only-of-type {\n        vertical-align: middle;\n    }\n\n    .dataframe tbody tr th {\n        vertical-align: top;\n    }\n\n    .dataframe thead th {\n        text-align: right;\n    }\n</style>\n<table border=\"1\" class=\"dataframe\">\n  <thead>\n    <tr style=\"text-align: right;\">\n      <th></th>\n      <th>ID</th>\n      <th>answer</th>\n    </tr>\n  </thead>\n  <tbody>\n    <tr>\n      <th>0</th>\n      <td>TG_A_J_20230304</td>\n      <td>2563.261796</td>\n    </tr>\n    <tr>\n      <th>1</th>\n      <td>TG_E_S_20230304</td>\n      <td>3458.001764</td>\n    </tr>\n    <tr>\n      <th>2</th>\n      <td>TG_E_J_20230304</td>\n      <td>377.066719</td>\n    </tr>\n    <tr>\n      <th>3</th>\n      <td>TG_D_S_20230304</td>\n      <td>3662.783068</td>\n    </tr>\n    <tr>\n      <th>4</th>\n      <td>TG_D_J_20230304</td>\n      <td>607.878918</td>\n    </tr>\n    <tr>\n      <th>...</th>\n      <td>...</td>\n      <td>...</td>\n    </tr>\n    <tr>\n      <th>275</th>\n      <td>TG_D_J_20230331</td>\n      <td>2804.801999</td>\n    </tr>\n    <tr>\n      <th>276</th>\n      <td>TG_D_S_20230331</td>\n      <td>4860.908623</td>\n    </tr>\n    <tr>\n      <th>277</th>\n      <td>TG_A_S_20230331</td>\n      <td>5304.802147</td>\n    </tr>\n    <tr>\n      <th>278</th>\n      <td>TG_E_S_20230331</td>\n      <td>4859.787923</td>\n    </tr>\n    <tr>\n      <th>279</th>\n      <td>TG_E_J_20230331</td>\n      <td>1911.300384</td>\n    </tr>\n  </tbody>\n</table>\n<p>280 rows × 2 columns</p>\n</div>"
     },
     "execution_count": 15,
     "metadata": {},
     "output_type": "execute_result"
    }
   ],
   "source": [
    "# # 모델 정의\n",
    "cat = CatBoostRegressor(random_state = 2024,\n",
    "                        n_estimators = 1000,\n",
    "                        learning_rate = 0.01,\n",
    "                        depth = 10,\n",
    "                        l2_leaf_reg = 3,\n",
    "                        metric_period = 1000)\n",
    "\n",
    "xgb = XGBRegressor(n_estimators = 1000, random_state = 2024, learning_rate = 0.01, max_depth = 10)\n",
    "\n",
    "\n",
    "# voting\n",
    "vote_model = VotingRegressor(\n",
    "    estimators =[(\"cat\",cat), (\"xgb\", xgb)]\n",
    ")\n",
    "\n",
    "vote_model.fit(Xy.drop(columns = [\"timestamp\", \"ID\",\"price\"]), Xy[\"price\"])\n",
    "\n",
    "pred = vote_model.predict(answer_tg1.drop(columns = [\"ID\"]))\n",
    "for idx in range(len(pred)):\n",
    "    if pred[idx]<0:\n",
    "        pred[idx]= 0\n",
    "answer_tg1[\"answer\"] = np.power(pred,2)\n",
    "\n",
    "answer_tg1[[\"ID\",\"answer\"]]"
   ],
   "metadata": {
    "collapsed": false,
    "ExecuteTime": {
     "end_time": "2024-02-14T07:16:57.929686100Z",
     "start_time": "2024-02-14T07:16:45.340552200Z"
    }
   },
   "id": "c543ba140e671283",
   "execution_count": 15
  },
  {
   "cell_type": "code",
   "outputs": [
    {
     "name": "stdout",
     "output_type": "stream",
     "text": [
      "Index(['ID', 'timestamp', 'price', 'year', 'month', 'day', 'week_day',\n",
      "       'year_month', 'week', 'week_num', 'holiday', 'corporation_A',\n",
      "       'corporation_B', 'corporation_C', 'corporation_D', 'corporation_E',\n",
      "       'location_J', 'location_S'],\n",
      "      dtype='object')\n"
     ]
    }
   ],
   "source": [
    "train_tg2 = train_pre[train_pre[\"item\"] ==\"TG\"]\n",
    "test_tg2 = test_pre[test_pre[\"item\"] == \"TG\"]\n",
    "\n",
    "Xy2 = pd.get_dummies(train_tg2.sort_values(by = [\"timestamp\", \"corporation\",\"location\"]).reset_index(drop=True).drop(columns = [\"item\",\"supply\"]), columns = [ \"corporation\",\"location\"])\n",
    "answer_tg2 = pd.get_dummies(test_tg2.drop(columns = [\"timestamp\",\"supply\",\"price\",\"item\"]), columns = [ \"corporation\",\"location\"])\n",
    "print(Xy2.columns)\n",
    "\n",
    "# 종속변수 루트값\n",
    "Xy2[\"price\"] = np.sqrt(Xy2[\"price\"])"
   ],
   "metadata": {
    "collapsed": false,
    "ExecuteTime": {
     "end_time": "2024-02-14T07:17:15.075719800Z",
     "start_time": "2024-02-14T07:17:15.038104800Z"
    }
   },
   "id": "4569a7a60d3af18f",
   "execution_count": 16
  },
  {
   "cell_type": "code",
   "outputs": [
    {
     "name": "stdout",
     "output_type": "stream",
     "text": [
      "0:\tlearn: 30.2823698\ttotal: 10.9ms\tremaining: 10.8s\n",
      "999:\tlearn: 11.0655757\ttotal: 9.8s\tremaining: 0us\n"
     ]
    },
    {
     "data": {
      "text/plain": "                   ID       answer\n0     TG_A_J_20230304  2742.172780\n1     TG_E_S_20230304  3354.003496\n3     TG_E_J_20230304   760.581106\n5     TG_D_S_20230304  3769.615969\n8     TG_D_J_20230304    53.451592\n...               ...          ...\n1074  TG_D_S_20230331  4727.895634\n1077  TG_A_S_20230331  5403.967583\n1079  TG_E_S_20230331  4715.201735\n1087  TG_A_J_20230331  6813.935154\n1090  TG_E_J_20230331  2810.642810\n\n[280 rows x 2 columns]",
      "text/html": "<div>\n<style scoped>\n    .dataframe tbody tr th:only-of-type {\n        vertical-align: middle;\n    }\n\n    .dataframe tbody tr th {\n        vertical-align: top;\n    }\n\n    .dataframe thead th {\n        text-align: right;\n    }\n</style>\n<table border=\"1\" class=\"dataframe\">\n  <thead>\n    <tr style=\"text-align: right;\">\n      <th></th>\n      <th>ID</th>\n      <th>answer</th>\n    </tr>\n  </thead>\n  <tbody>\n    <tr>\n      <th>0</th>\n      <td>TG_A_J_20230304</td>\n      <td>2742.172780</td>\n    </tr>\n    <tr>\n      <th>1</th>\n      <td>TG_E_S_20230304</td>\n      <td>3354.003496</td>\n    </tr>\n    <tr>\n      <th>3</th>\n      <td>TG_E_J_20230304</td>\n      <td>760.581106</td>\n    </tr>\n    <tr>\n      <th>5</th>\n      <td>TG_D_S_20230304</td>\n      <td>3769.615969</td>\n    </tr>\n    <tr>\n      <th>8</th>\n      <td>TG_D_J_20230304</td>\n      <td>53.451592</td>\n    </tr>\n    <tr>\n      <th>...</th>\n      <td>...</td>\n      <td>...</td>\n    </tr>\n    <tr>\n      <th>1074</th>\n      <td>TG_D_S_20230331</td>\n      <td>4727.895634</td>\n    </tr>\n    <tr>\n      <th>1077</th>\n      <td>TG_A_S_20230331</td>\n      <td>5403.967583</td>\n    </tr>\n    <tr>\n      <th>1079</th>\n      <td>TG_E_S_20230331</td>\n      <td>4715.201735</td>\n    </tr>\n    <tr>\n      <th>1087</th>\n      <td>TG_A_J_20230331</td>\n      <td>6813.935154</td>\n    </tr>\n    <tr>\n      <th>1090</th>\n      <td>TG_E_J_20230331</td>\n      <td>2810.642810</td>\n    </tr>\n  </tbody>\n</table>\n<p>280 rows × 2 columns</p>\n</div>"
     },
     "execution_count": 17,
     "metadata": {},
     "output_type": "execute_result"
    }
   ],
   "source": [
    "# 모델 정의 및 훈련 예측\n",
    "n_estimators =1000\n",
    "lrs = 0.05\n",
    "max_depths = 10\n",
    "l2_leaf_reg = 3\n",
    "\n",
    "cat = CatBoostRegressor(random_state = 2024,\n",
    "                        n_estimators = n_estimators,\n",
    "                        learning_rate = lrs,\n",
    "                        depth = max_depths,\n",
    "                        l2_leaf_reg = l2_leaf_reg,\n",
    "                        metric_period = 1000)\n",
    "\n",
    "cat.fit(Xy2.drop(columns = [\"timestamp\", \"ID\",\"price\"]), Xy2[\"price\"])\n",
    "\n",
    "pred2 = cat.predict(answer_tg2.drop(columns = [\"ID\"]))\n",
    "for idx in range(len(pred2)):\n",
    "    if pred2[idx]<0:\n",
    "        pred2[idx]= 0\n",
    "answer_tg2[\"answer\"] = np.power(pred2,2)\n",
    "\n",
    "answer_tg2[[\"ID\",\"answer\"]]"
   ],
   "metadata": {
    "collapsed": false,
    "ExecuteTime": {
     "end_time": "2024-02-14T07:17:33.875733300Z",
     "start_time": "2024-02-14T07:17:23.830726900Z"
    }
   },
   "id": "249788d1a8bf58e6",
   "execution_count": 17
  },
  {
   "cell_type": "code",
   "outputs": [],
   "source": [
    "total1 = pd.concat([answer_tg1[[\"ID\",\"answer\"]],answer_notg[[\"ID\",\"answer\"]]])\n",
    "total2 = pd.concat([answer_tg2[[\"ID\",\"answer\"]],answer_notg[[\"ID\",\"answer\"]]])"
   ],
   "metadata": {
    "collapsed": false,
    "ExecuteTime": {
     "end_time": "2024-02-14T07:17:43.988615300Z",
     "start_time": "2024-02-14T07:17:43.972875600Z"
    }
   },
   "id": "f6d76480fcf6e0bb",
   "execution_count": 18
  },
  {
   "cell_type": "code",
   "outputs": [],
   "source": [
    "# TG 앙상블 (평균)\n",
    "\n",
    "df = pd.merge(total1, total2, how = \"inner\", on=\"ID\")\n",
    "df[\"answer\"] = (df[\"answer_x\"]+df[\"answer_y\"])/2\n",
    "df[\"item\"] = df[\"ID\"].map(lambda x :x.split(\"_\")[0])"
   ],
   "metadata": {
    "collapsed": false,
    "ExecuteTime": {
     "end_time": "2024-02-14T07:17:48.558859200Z",
     "start_time": "2024-02-14T07:17:48.548150200Z"
    }
   },
   "id": "f7b11084f5f0aa2e",
   "execution_count": 19
  },
  {
   "cell_type": "code",
   "outputs": [],
   "source": [
    "# 후처리 \n",
    "## 전체 min값 | 3월의 min값 확인\n",
    "df.loc[(df['item']=='TG')&(df['answer']<400),'answer'] =0 # 551   #3월 675\n",
    "df.loc[(df['item']=='CB')&(df['answer']<50),'answer'] =0 # 162  # 3월 200\n",
    "df.loc[(df['item']=='RD')&(df['answer']<10),'answer'] =0 # 50     # 3월 124\n",
    "df.loc[(df['item']=='CR')&(df['answer']<150),'answer'] =0 # 250   # 3월 450\n",
    "df.loc[(df['item']=='BC')&(df['answer']<100),'answer'] =0 #205 3월 205.0"
   ],
   "metadata": {
    "collapsed": false,
    "ExecuteTime": {
     "end_time": "2024-02-14T07:17:59.637352200Z",
     "start_time": "2024-02-14T07:17:59.616091400Z"
    }
   },
   "id": "e6b42d9ece484d18",
   "execution_count": 20
  },
  {
   "cell_type": "code",
   "outputs": [
    {
     "data": {
      "text/plain": "                   ID       answer\n0     TG_A_J_20230304  2652.717288\n1     TG_E_S_20230304  3406.002630\n2     TG_E_J_20230304   568.823912\n3     TG_D_S_20230304  3716.199518\n4     TG_D_J_20230304     0.000000\n...               ...          ...\n1087  RD_D_S_20230331   457.576344\n1088  CR_C_J_20230331  1783.102829\n1089  RD_D_J_20230331   398.828636\n1090  CR_D_J_20230331  1822.411070\n1091  RD_F_J_20230331   552.992025\n\n[1092 rows x 2 columns]",
      "text/html": "<div>\n<style scoped>\n    .dataframe tbody tr th:only-of-type {\n        vertical-align: middle;\n    }\n\n    .dataframe tbody tr th {\n        vertical-align: top;\n    }\n\n    .dataframe thead th {\n        text-align: right;\n    }\n</style>\n<table border=\"1\" class=\"dataframe\">\n  <thead>\n    <tr style=\"text-align: right;\">\n      <th></th>\n      <th>ID</th>\n      <th>answer</th>\n    </tr>\n  </thead>\n  <tbody>\n    <tr>\n      <th>0</th>\n      <td>TG_A_J_20230304</td>\n      <td>2652.717288</td>\n    </tr>\n    <tr>\n      <th>1</th>\n      <td>TG_E_S_20230304</td>\n      <td>3406.002630</td>\n    </tr>\n    <tr>\n      <th>2</th>\n      <td>TG_E_J_20230304</td>\n      <td>568.823912</td>\n    </tr>\n    <tr>\n      <th>3</th>\n      <td>TG_D_S_20230304</td>\n      <td>3716.199518</td>\n    </tr>\n    <tr>\n      <th>4</th>\n      <td>TG_D_J_20230304</td>\n      <td>0.000000</td>\n    </tr>\n    <tr>\n      <th>...</th>\n      <td>...</td>\n      <td>...</td>\n    </tr>\n    <tr>\n      <th>1087</th>\n      <td>RD_D_S_20230331</td>\n      <td>457.576344</td>\n    </tr>\n    <tr>\n      <th>1088</th>\n      <td>CR_C_J_20230331</td>\n      <td>1783.102829</td>\n    </tr>\n    <tr>\n      <th>1089</th>\n      <td>RD_D_J_20230331</td>\n      <td>398.828636</td>\n    </tr>\n    <tr>\n      <th>1090</th>\n      <td>CR_D_J_20230331</td>\n      <td>1822.411070</td>\n    </tr>\n    <tr>\n      <th>1091</th>\n      <td>RD_F_J_20230331</td>\n      <td>552.992025</td>\n    </tr>\n  </tbody>\n</table>\n<p>1092 rows × 2 columns</p>\n</div>"
     },
     "execution_count": 21,
     "metadata": {},
     "output_type": "execute_result"
    }
   ],
   "source": [
    "df = df.drop(columns = [\"answer_x\",\"answer_y\", \"item\"])\n",
    "df"
   ],
   "metadata": {
    "collapsed": false,
    "ExecuteTime": {
     "end_time": "2024-02-14T07:18:04.698046400Z",
     "start_time": "2024-02-14T07:18:04.681793500Z"
    }
   },
   "id": "e855b3ca26c1dec2",
   "execution_count": 21
  },
  {
   "cell_type": "code",
   "outputs": [],
   "source": [],
   "metadata": {
    "collapsed": false
   },
   "id": "1e7b9a9b710fde04"
  }
 ],
 "metadata": {
  "kernelspec": {
   "display_name": "Python 3",
   "language": "python",
   "name": "python3"
  },
  "language_info": {
   "codemirror_mode": {
    "name": "ipython",
    "version": 2
   },
   "file_extension": ".py",
   "mimetype": "text/x-python",
   "name": "python",
   "nbconvert_exporter": "python",
   "pygments_lexer": "ipython2",
   "version": "2.7.6"
  }
 },
 "nbformat": 4,
 "nbformat_minor": 5
}
