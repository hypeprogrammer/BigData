{
 "cells": [
  {
   "cell_type": "code",
   "execution_count": 1,
   "id": "initial_id",
   "metadata": {
    "collapsed": true,
    "ExecuteTime": {
     "end_time": "2024-02-15T01:32:27.393715900Z",
     "start_time": "2024-02-15T01:32:20.565466100Z"
    }
   },
   "outputs": [
    {
     "ename": "ModuleNotFoundError",
     "evalue": "No module named 'lightgbm'",
     "output_type": "error",
     "traceback": [
      "\u001B[1;31m---------------------------------------------------------------------------\u001B[0m",
      "\u001B[1;31mModuleNotFoundError\u001B[0m                       Traceback (most recent call last)",
      "Cell \u001B[1;32mIn[1], line 11\u001B[0m\n\u001B[0;32m      9\u001B[0m \u001B[38;5;28;01mfrom\u001B[39;00m \u001B[38;5;21;01msklearn\u001B[39;00m\u001B[38;5;21;01m.\u001B[39;00m\u001B[38;5;21;01mensemble\u001B[39;00m \u001B[38;5;28;01mimport\u001B[39;00m VotingClassifier\n\u001B[0;32m     10\u001B[0m \u001B[38;5;28;01mfrom\u001B[39;00m \u001B[38;5;21;01mxgboost\u001B[39;00m \u001B[38;5;28;01mimport\u001B[39;00m XGBClassifier\n\u001B[1;32m---> 11\u001B[0m \u001B[38;5;28;01mfrom\u001B[39;00m \u001B[38;5;21;01mlightgbm\u001B[39;00m \u001B[38;5;28;01mimport\u001B[39;00m LGBMClassifier\n\u001B[0;32m     12\u001B[0m \u001B[38;5;28;01mfrom\u001B[39;00m \u001B[38;5;21;01mcatboost\u001B[39;00m \u001B[38;5;28;01mimport\u001B[39;00m CatBoostClassifier, Pool, cv\n\u001B[0;32m     13\u001B[0m \u001B[38;5;28;01mimport\u001B[39;00m \u001B[38;5;21;01mcatboost\u001B[39;00m\n",
      "\u001B[1;31mModuleNotFoundError\u001B[0m: No module named 'lightgbm'"
     ]
    }
   ],
   "source": [
    "import os\n",
    "import pandas as pd\n",
    "import numpy as np\n",
    "import matplotlib.pyplot as plt\n",
    "import xgboost as xgb\n",
    "from sklearn.tree import DecisionTreeClassifier, plot_tree\n",
    "from sklearn.ensemble import GradientBoostingClassifier\n",
    "from sklearn.ensemble import RandomForestClassifier\n",
    "from sklearn.ensemble import VotingClassifier\n",
    "from xgboost import XGBClassifier\n",
    "from lightgbm import LGBMClassifier\n",
    "from catboost import CatBoostClassifier, Pool, cv\n",
    "import catboost\n",
    "from sklearn.model_selection import GridSearchCV\n",
    "\n",
    "from sklearn.metrics import confusion_matrix, accuracy_score\n",
    "from sklearn.metrics import precision_score, recall_score\n",
    "from sklearn.metrics import f1_score, roc_auc_score\n",
    "from sklearn.metrics import log_loss\n"
   ]
  },
  {
   "cell_type": "code",
   "outputs": [],
   "source": [
    "train = pd.read_csv('jejuData/train.csv')\n",
    "test = pd.read_csv('jejuData/test.csv')\n",
    "trade = pd.read_csv('jejuData/international_trade.csv')"
   ],
   "metadata": {
    "collapsed": false,
    "ExecuteTime": {
     "end_time": "2024-02-15T01:32:57.380932600Z",
     "start_time": "2024-02-15T01:32:57.325538900Z"
    }
   },
   "id": "803bf467e08a5575",
   "execution_count": 2
  },
  {
   "cell_type": "code",
   "outputs": [
    {
     "data": {
      "text/plain": "                ID   timestamp item corporation location  supply(kg)  \\\n0  TG_A_J_20190101  2019-01-01   TG           A        J         0.0   \n1  TG_A_J_20190102  2019-01-02   TG           A        J         0.0   \n2  TG_A_J_20190103  2019-01-03   TG           A        J     60601.0   \n3  TG_A_J_20190104  2019-01-04   TG           A        J     25000.0   \n4  TG_A_J_20190105  2019-01-05   TG           A        J     32352.0   \n\n   price(원/kg)  \n0          0.0  \n1          0.0  \n2       1728.0  \n3       1408.0  \n4       1250.0  ",
      "text/html": "<div>\n<style scoped>\n    .dataframe tbody tr th:only-of-type {\n        vertical-align: middle;\n    }\n\n    .dataframe tbody tr th {\n        vertical-align: top;\n    }\n\n    .dataframe thead th {\n        text-align: right;\n    }\n</style>\n<table border=\"1\" class=\"dataframe\">\n  <thead>\n    <tr style=\"text-align: right;\">\n      <th></th>\n      <th>ID</th>\n      <th>timestamp</th>\n      <th>item</th>\n      <th>corporation</th>\n      <th>location</th>\n      <th>supply(kg)</th>\n      <th>price(원/kg)</th>\n    </tr>\n  </thead>\n  <tbody>\n    <tr>\n      <th>0</th>\n      <td>TG_A_J_20190101</td>\n      <td>2019-01-01</td>\n      <td>TG</td>\n      <td>A</td>\n      <td>J</td>\n      <td>0.0</td>\n      <td>0.0</td>\n    </tr>\n    <tr>\n      <th>1</th>\n      <td>TG_A_J_20190102</td>\n      <td>2019-01-02</td>\n      <td>TG</td>\n      <td>A</td>\n      <td>J</td>\n      <td>0.0</td>\n      <td>0.0</td>\n    </tr>\n    <tr>\n      <th>2</th>\n      <td>TG_A_J_20190103</td>\n      <td>2019-01-03</td>\n      <td>TG</td>\n      <td>A</td>\n      <td>J</td>\n      <td>60601.0</td>\n      <td>1728.0</td>\n    </tr>\n    <tr>\n      <th>3</th>\n      <td>TG_A_J_20190104</td>\n      <td>2019-01-04</td>\n      <td>TG</td>\n      <td>A</td>\n      <td>J</td>\n      <td>25000.0</td>\n      <td>1408.0</td>\n    </tr>\n    <tr>\n      <th>4</th>\n      <td>TG_A_J_20190105</td>\n      <td>2019-01-05</td>\n      <td>TG</td>\n      <td>A</td>\n      <td>J</td>\n      <td>32352.0</td>\n      <td>1250.0</td>\n    </tr>\n  </tbody>\n</table>\n</div>"
     },
     "execution_count": 3,
     "metadata": {},
     "output_type": "execute_result"
    }
   ],
   "source": [
    "train.head()   #날짜데이터 2019-01-01 ~ 2023-03-03 "
   ],
   "metadata": {
    "collapsed": false,
    "ExecuteTime": {
     "end_time": "2024-02-15T01:33:05.268964200Z",
     "start_time": "2024-02-15T01:33:05.253297600Z"
    }
   },
   "id": "f806eeea40623793",
   "execution_count": 3
  },
  {
   "cell_type": "code",
   "outputs": [
    {
     "data": {
      "text/plain": "                ID  timestamp item corporation location  supply(kg)  \\\n0  TG_A_J_20190101 2019-01-01   TG           A        J         0.0   \n1  TG_A_J_20190102 2019-01-02   TG           A        J         0.0   \n2  TG_A_J_20190103 2019-01-03   TG           A        J     60601.0   \n3  TG_A_J_20190104 2019-01-04   TG           A        J     25000.0   \n4  TG_A_J_20190105 2019-01-05   TG           A        J     32352.0   \n\n   price(원/kg)  \n0          0.0  \n1          0.0  \n2       1728.0  \n3       1408.0  \n4       1250.0  ",
      "text/html": "<div>\n<style scoped>\n    .dataframe tbody tr th:only-of-type {\n        vertical-align: middle;\n    }\n\n    .dataframe tbody tr th {\n        vertical-align: top;\n    }\n\n    .dataframe thead th {\n        text-align: right;\n    }\n</style>\n<table border=\"1\" class=\"dataframe\">\n  <thead>\n    <tr style=\"text-align: right;\">\n      <th></th>\n      <th>ID</th>\n      <th>timestamp</th>\n      <th>item</th>\n      <th>corporation</th>\n      <th>location</th>\n      <th>supply(kg)</th>\n      <th>price(원/kg)</th>\n    </tr>\n  </thead>\n  <tbody>\n    <tr>\n      <th>0</th>\n      <td>TG_A_J_20190101</td>\n      <td>2019-01-01</td>\n      <td>TG</td>\n      <td>A</td>\n      <td>J</td>\n      <td>0.0</td>\n      <td>0.0</td>\n    </tr>\n    <tr>\n      <th>1</th>\n      <td>TG_A_J_20190102</td>\n      <td>2019-01-02</td>\n      <td>TG</td>\n      <td>A</td>\n      <td>J</td>\n      <td>0.0</td>\n      <td>0.0</td>\n    </tr>\n    <tr>\n      <th>2</th>\n      <td>TG_A_J_20190103</td>\n      <td>2019-01-03</td>\n      <td>TG</td>\n      <td>A</td>\n      <td>J</td>\n      <td>60601.0</td>\n      <td>1728.0</td>\n    </tr>\n    <tr>\n      <th>3</th>\n      <td>TG_A_J_20190104</td>\n      <td>2019-01-04</td>\n      <td>TG</td>\n      <td>A</td>\n      <td>J</td>\n      <td>25000.0</td>\n      <td>1408.0</td>\n    </tr>\n    <tr>\n      <th>4</th>\n      <td>TG_A_J_20190105</td>\n      <td>2019-01-05</td>\n      <td>TG</td>\n      <td>A</td>\n      <td>J</td>\n      <td>32352.0</td>\n      <td>1250.0</td>\n    </tr>\n  </tbody>\n</table>\n</div>"
     },
     "execution_count": 4,
     "metadata": {},
     "output_type": "execute_result"
    }
   ],
   "source": [
    "# 'date'를 제외한 컬럼 저장하기\n",
    "# 'timestamp' 컬럼을 datetime 타입으로 변경\n",
    "train['timestamp'] = pd.to_datetime(train['timestamp'])\n",
    "test['timestamp'] = pd.to_datetime(test['timestamp'])\n",
    "\n",
    "train.head()"
   ],
   "metadata": {
    "collapsed": false,
    "ExecuteTime": {
     "end_time": "2024-02-15T01:33:13.561824900Z",
     "start_time": "2024-02-15T01:33:13.534216800Z"
    }
   },
   "id": "3753943a826e464",
   "execution_count": 4
  },
  {
   "cell_type": "code",
   "outputs": [],
   "source": [
    "# 날짜 관련 feature 추가 하기\n",
    "\n",
    "train['year'] = train['timestamp'].dt.year\n",
    "train['month'] = train['timestamp'].dt.month\n",
    "train['week'] = train['timestamp'].dt.isocalendar().week.astype(np.int32)\n",
    "train['weekday']  = train['timestamp'].dt.weekday\n",
    "\n",
    "# 날짜 관련 피처를 저장해 둔다.\n",
    "features_date = ['month', 'week', 'weekday']"
   ],
   "metadata": {
    "collapsed": false,
    "ExecuteTime": {
     "end_time": "2024-02-15T01:37:57.058851400Z",
     "start_time": "2024-02-15T01:37:57.026768800Z"
    }
   },
   "id": "ad5d9d6c5b509968",
   "execution_count": 5
  },
  {
   "cell_type": "code",
   "outputs": [
    {
     "data": {
      "text/plain": "                    ID  timestamp item corporation location    supply   price  \\\n0      TG_A_J_20190101 2019-01-01   TG           A        J       0.0     0.0   \n1      TG_A_J_20190102 2019-01-02   TG           A        J       0.0     0.0   \n2      TG_A_J_20190103 2019-01-03   TG           A        J   60601.0  1728.0   \n3      TG_A_J_20190104 2019-01-04   TG           A        J   25000.0  1408.0   \n4      TG_A_J_20190105 2019-01-05   TG           A        J   32352.0  1250.0   \n...                ...        ...  ...         ...      ...       ...     ...   \n59392  RD_F_J_20230227 2023-02-27   RD           F        J  452440.0   468.0   \n59393  RD_F_J_20230228 2023-02-28   RD           F        J  421980.0   531.0   \n59394  RD_F_J_20230301 2023-03-01   RD           F        J  382980.0   574.0   \n59395  RD_F_J_20230302 2023-03-02   RD           F        J  477220.0   523.0   \n59396  RD_F_J_20230303 2023-03-03   RD           F        J  427520.0   529.0   \n\n       year  month  week  weekday  \n0      2019      1     1        1  \n1      2019      1     1        2  \n2      2019      1     1        3  \n3      2019      1     1        4  \n4      2019      1     1        5  \n...     ...    ...   ...      ...  \n59392  2023      2     9        0  \n59393  2023      2     9        1  \n59394  2023      3     9        2  \n59395  2023      3     9        3  \n59396  2023      3     9        4  \n\n[59397 rows x 11 columns]",
      "text/html": "<div>\n<style scoped>\n    .dataframe tbody tr th:only-of-type {\n        vertical-align: middle;\n    }\n\n    .dataframe tbody tr th {\n        vertical-align: top;\n    }\n\n    .dataframe thead th {\n        text-align: right;\n    }\n</style>\n<table border=\"1\" class=\"dataframe\">\n  <thead>\n    <tr style=\"text-align: right;\">\n      <th></th>\n      <th>ID</th>\n      <th>timestamp</th>\n      <th>item</th>\n      <th>corporation</th>\n      <th>location</th>\n      <th>supply</th>\n      <th>price</th>\n      <th>year</th>\n      <th>month</th>\n      <th>week</th>\n      <th>weekday</th>\n    </tr>\n  </thead>\n  <tbody>\n    <tr>\n      <th>0</th>\n      <td>TG_A_J_20190101</td>\n      <td>2019-01-01</td>\n      <td>TG</td>\n      <td>A</td>\n      <td>J</td>\n      <td>0.0</td>\n      <td>0.0</td>\n      <td>2019</td>\n      <td>1</td>\n      <td>1</td>\n      <td>1</td>\n    </tr>\n    <tr>\n      <th>1</th>\n      <td>TG_A_J_20190102</td>\n      <td>2019-01-02</td>\n      <td>TG</td>\n      <td>A</td>\n      <td>J</td>\n      <td>0.0</td>\n      <td>0.0</td>\n      <td>2019</td>\n      <td>1</td>\n      <td>1</td>\n      <td>2</td>\n    </tr>\n    <tr>\n      <th>2</th>\n      <td>TG_A_J_20190103</td>\n      <td>2019-01-03</td>\n      <td>TG</td>\n      <td>A</td>\n      <td>J</td>\n      <td>60601.0</td>\n      <td>1728.0</td>\n      <td>2019</td>\n      <td>1</td>\n      <td>1</td>\n      <td>3</td>\n    </tr>\n    <tr>\n      <th>3</th>\n      <td>TG_A_J_20190104</td>\n      <td>2019-01-04</td>\n      <td>TG</td>\n      <td>A</td>\n      <td>J</td>\n      <td>25000.0</td>\n      <td>1408.0</td>\n      <td>2019</td>\n      <td>1</td>\n      <td>1</td>\n      <td>4</td>\n    </tr>\n    <tr>\n      <th>4</th>\n      <td>TG_A_J_20190105</td>\n      <td>2019-01-05</td>\n      <td>TG</td>\n      <td>A</td>\n      <td>J</td>\n      <td>32352.0</td>\n      <td>1250.0</td>\n      <td>2019</td>\n      <td>1</td>\n      <td>1</td>\n      <td>5</td>\n    </tr>\n    <tr>\n      <th>...</th>\n      <td>...</td>\n      <td>...</td>\n      <td>...</td>\n      <td>...</td>\n      <td>...</td>\n      <td>...</td>\n      <td>...</td>\n      <td>...</td>\n      <td>...</td>\n      <td>...</td>\n      <td>...</td>\n    </tr>\n    <tr>\n      <th>59392</th>\n      <td>RD_F_J_20230227</td>\n      <td>2023-02-27</td>\n      <td>RD</td>\n      <td>F</td>\n      <td>J</td>\n      <td>452440.0</td>\n      <td>468.0</td>\n      <td>2023</td>\n      <td>2</td>\n      <td>9</td>\n      <td>0</td>\n    </tr>\n    <tr>\n      <th>59393</th>\n      <td>RD_F_J_20230228</td>\n      <td>2023-02-28</td>\n      <td>RD</td>\n      <td>F</td>\n      <td>J</td>\n      <td>421980.0</td>\n      <td>531.0</td>\n      <td>2023</td>\n      <td>2</td>\n      <td>9</td>\n      <td>1</td>\n    </tr>\n    <tr>\n      <th>59394</th>\n      <td>RD_F_J_20230301</td>\n      <td>2023-03-01</td>\n      <td>RD</td>\n      <td>F</td>\n      <td>J</td>\n      <td>382980.0</td>\n      <td>574.0</td>\n      <td>2023</td>\n      <td>3</td>\n      <td>9</td>\n      <td>2</td>\n    </tr>\n    <tr>\n      <th>59395</th>\n      <td>RD_F_J_20230302</td>\n      <td>2023-03-02</td>\n      <td>RD</td>\n      <td>F</td>\n      <td>J</td>\n      <td>477220.0</td>\n      <td>523.0</td>\n      <td>2023</td>\n      <td>3</td>\n      <td>9</td>\n      <td>3</td>\n    </tr>\n    <tr>\n      <th>59396</th>\n      <td>RD_F_J_20230303</td>\n      <td>2023-03-03</td>\n      <td>RD</td>\n      <td>F</td>\n      <td>J</td>\n      <td>427520.0</td>\n      <td>529.0</td>\n      <td>2023</td>\n      <td>3</td>\n      <td>9</td>\n      <td>4</td>\n    </tr>\n  </tbody>\n</table>\n<p>59397 rows × 11 columns</p>\n</div>"
     },
     "execution_count": 6,
     "metadata": {},
     "output_type": "execute_result"
    }
   ],
   "source": [
    "# 컬럼명 변경\n",
    "train = train.rename(columns = {'price(원/kg)' : 'price', 'supply(kg)' : 'supply'})\n",
    "train"
   ],
   "metadata": {
    "collapsed": false,
    "ExecuteTime": {
     "end_time": "2024-02-15T01:39:49.483767Z",
     "start_time": "2024-02-15T01:39:49.450996600Z"
    }
   },
   "id": "9cc1dbaaa5bb81ba",
   "execution_count": 6
  },
  {
   "cell_type": "code",
   "outputs": [
    {
     "data": {
      "text/plain": "['TG', 'BC', 'RD', 'CR', 'CB']"
     },
     "execution_count": 7,
     "metadata": {},
     "output_type": "execute_result"
    }
   ],
   "source": [
    "items = train['item'].value_counts().index.to_list()\n",
    "items"
   ],
   "metadata": {
    "collapsed": false,
    "ExecuteTime": {
     "end_time": "2024-02-15T01:39:57.881059800Z",
     "start_time": "2024-02-15T01:39:57.849249600Z"
    }
   },
   "id": "a56dd61d10fb8fe8",
   "execution_count": 7
  },
  {
   "cell_type": "code",
   "outputs": [
    {
     "data": {
      "text/plain": "['A', 'E', 'D', 'C', 'B', 'F']"
     },
     "execution_count": 8,
     "metadata": {},
     "output_type": "execute_result"
    }
   ],
   "source": [
    "corp = train['corporation'].value_counts().index.to_list()\n",
    "corp"
   ],
   "metadata": {
    "collapsed": false,
    "ExecuteTime": {
     "end_time": "2024-02-15T01:40:03.241842200Z",
     "start_time": "2024-02-15T01:40:03.215478600Z"
    }
   },
   "id": "74a00849479a12fb",
   "execution_count": 8
  },
  {
   "cell_type": "code",
   "outputs": [
    {
     "data": {
      "text/plain": "                    ID  timestamp item corporation location  supply  price  \\\n0      TG_A_J_20190101 2019-01-01   TG           A        J     0.0    0.0   \n1      TG_A_J_20190102 2019-01-02   TG           A        J     0.0    0.0   \n5      TG_A_J_20190106 2019-01-06   TG           A        J     0.0    0.0   \n12     TG_A_J_20190113 2019-01-13   TG           A        J     0.0    0.0   \n19     TG_A_J_20190120 2019-01-20   TG           A        J     0.0    0.0   \n...                ...        ...  ...         ...      ...     ...    ...   \n59363  RD_F_J_20230129 2023-01-29   RD           F        J     0.0    0.0   \n59370  RD_F_J_20230205 2023-02-05   RD           F        J     0.0    0.0   \n59377  RD_F_J_20230212 2023-02-12   RD           F        J     0.0    0.0   \n59384  RD_F_J_20230219 2023-02-19   RD           F        J     0.0    0.0   \n59391  RD_F_J_20230226 2023-02-26   RD           F        J     0.0    0.0   \n\n       year  month  week  weekday  \n0      2019      1     1        1  \n1      2019      1     1        2  \n5      2019      1     1        6  \n12     2019      1     2        6  \n19     2019      1     3        6  \n...     ...    ...   ...      ...  \n59363  2023      1     4        6  \n59370  2023      2     5        6  \n59377  2023      2     6        6  \n59384  2023      2     7        6  \n59391  2023      2     8        6  \n\n[35452 rows x 11 columns]",
      "text/html": "<div>\n<style scoped>\n    .dataframe tbody tr th:only-of-type {\n        vertical-align: middle;\n    }\n\n    .dataframe tbody tr th {\n        vertical-align: top;\n    }\n\n    .dataframe thead th {\n        text-align: right;\n    }\n</style>\n<table border=\"1\" class=\"dataframe\">\n  <thead>\n    <tr style=\"text-align: right;\">\n      <th></th>\n      <th>ID</th>\n      <th>timestamp</th>\n      <th>item</th>\n      <th>corporation</th>\n      <th>location</th>\n      <th>supply</th>\n      <th>price</th>\n      <th>year</th>\n      <th>month</th>\n      <th>week</th>\n      <th>weekday</th>\n    </tr>\n  </thead>\n  <tbody>\n    <tr>\n      <th>0</th>\n      <td>TG_A_J_20190101</td>\n      <td>2019-01-01</td>\n      <td>TG</td>\n      <td>A</td>\n      <td>J</td>\n      <td>0.0</td>\n      <td>0.0</td>\n      <td>2019</td>\n      <td>1</td>\n      <td>1</td>\n      <td>1</td>\n    </tr>\n    <tr>\n      <th>1</th>\n      <td>TG_A_J_20190102</td>\n      <td>2019-01-02</td>\n      <td>TG</td>\n      <td>A</td>\n      <td>J</td>\n      <td>0.0</td>\n      <td>0.0</td>\n      <td>2019</td>\n      <td>1</td>\n      <td>1</td>\n      <td>2</td>\n    </tr>\n    <tr>\n      <th>5</th>\n      <td>TG_A_J_20190106</td>\n      <td>2019-01-06</td>\n      <td>TG</td>\n      <td>A</td>\n      <td>J</td>\n      <td>0.0</td>\n      <td>0.0</td>\n      <td>2019</td>\n      <td>1</td>\n      <td>1</td>\n      <td>6</td>\n    </tr>\n    <tr>\n      <th>12</th>\n      <td>TG_A_J_20190113</td>\n      <td>2019-01-13</td>\n      <td>TG</td>\n      <td>A</td>\n      <td>J</td>\n      <td>0.0</td>\n      <td>0.0</td>\n      <td>2019</td>\n      <td>1</td>\n      <td>2</td>\n      <td>6</td>\n    </tr>\n    <tr>\n      <th>19</th>\n      <td>TG_A_J_20190120</td>\n      <td>2019-01-20</td>\n      <td>TG</td>\n      <td>A</td>\n      <td>J</td>\n      <td>0.0</td>\n      <td>0.0</td>\n      <td>2019</td>\n      <td>1</td>\n      <td>3</td>\n      <td>6</td>\n    </tr>\n    <tr>\n      <th>...</th>\n      <td>...</td>\n      <td>...</td>\n      <td>...</td>\n      <td>...</td>\n      <td>...</td>\n      <td>...</td>\n      <td>...</td>\n      <td>...</td>\n      <td>...</td>\n      <td>...</td>\n      <td>...</td>\n    </tr>\n    <tr>\n      <th>59363</th>\n      <td>RD_F_J_20230129</td>\n      <td>2023-01-29</td>\n      <td>RD</td>\n      <td>F</td>\n      <td>J</td>\n      <td>0.0</td>\n      <td>0.0</td>\n      <td>2023</td>\n      <td>1</td>\n      <td>4</td>\n      <td>6</td>\n    </tr>\n    <tr>\n      <th>59370</th>\n      <td>RD_F_J_20230205</td>\n      <td>2023-02-05</td>\n      <td>RD</td>\n      <td>F</td>\n      <td>J</td>\n      <td>0.0</td>\n      <td>0.0</td>\n      <td>2023</td>\n      <td>2</td>\n      <td>5</td>\n      <td>6</td>\n    </tr>\n    <tr>\n      <th>59377</th>\n      <td>RD_F_J_20230212</td>\n      <td>2023-02-12</td>\n      <td>RD</td>\n      <td>F</td>\n      <td>J</td>\n      <td>0.0</td>\n      <td>0.0</td>\n      <td>2023</td>\n      <td>2</td>\n      <td>6</td>\n      <td>6</td>\n    </tr>\n    <tr>\n      <th>59384</th>\n      <td>RD_F_J_20230219</td>\n      <td>2023-02-19</td>\n      <td>RD</td>\n      <td>F</td>\n      <td>J</td>\n      <td>0.0</td>\n      <td>0.0</td>\n      <td>2023</td>\n      <td>2</td>\n      <td>7</td>\n      <td>6</td>\n    </tr>\n    <tr>\n      <th>59391</th>\n      <td>RD_F_J_20230226</td>\n      <td>2023-02-26</td>\n      <td>RD</td>\n      <td>F</td>\n      <td>J</td>\n      <td>0.0</td>\n      <td>0.0</td>\n      <td>2023</td>\n      <td>2</td>\n      <td>8</td>\n      <td>6</td>\n    </tr>\n  </tbody>\n</table>\n<p>35452 rows × 11 columns</p>\n</div>"
     },
     "execution_count": 9,
     "metadata": {},
     "output_type": "execute_result"
    }
   ],
   "source": [
    "train[train['supply']==0]"
   ],
   "metadata": {
    "collapsed": false,
    "ExecuteTime": {
     "end_time": "2024-02-15T01:40:07.657456700Z",
     "start_time": "2024-02-15T01:40:07.632833500Z"
    }
   },
   "id": "38102c07a991a424",
   "execution_count": 9
  },
  {
   "cell_type": "code",
   "outputs": [
    {
     "data": {
      "text/plain": "                    ID  timestamp item corporation location    supply   price  \\\n2      TG_A_J_20190103 2019-01-03   TG           A        J   60601.0  1728.0   \n3      TG_A_J_20190104 2019-01-04   TG           A        J   25000.0  1408.0   \n4      TG_A_J_20190105 2019-01-05   TG           A        J   32352.0  1250.0   \n6      TG_A_J_20190107 2019-01-07   TG           A        J   44995.0  1474.0   \n7      TG_A_J_20190108 2019-01-08   TG           A        J   26975.0  1326.0   \n...                ...        ...  ...         ...      ...       ...     ...   \n59392  RD_F_J_20230227 2023-02-27   RD           F        J  452440.0   468.0   \n59393  RD_F_J_20230228 2023-02-28   RD           F        J  421980.0   531.0   \n59394  RD_F_J_20230301 2023-03-01   RD           F        J  382980.0   574.0   \n59395  RD_F_J_20230302 2023-03-02   RD           F        J  477220.0   523.0   \n59396  RD_F_J_20230303 2023-03-03   RD           F        J  427520.0   529.0   \n\n       year  month  week  weekday  \n2      2019      1     1        3  \n3      2019      1     1        4  \n4      2019      1     1        5  \n6      2019      1     2        0  \n7      2019      1     2        1  \n...     ...    ...   ...      ...  \n59392  2023      2     9        0  \n59393  2023      2     9        1  \n59394  2023      3     9        2  \n59395  2023      3     9        3  \n59396  2023      3     9        4  \n\n[23945 rows x 11 columns]",
      "text/html": "<div>\n<style scoped>\n    .dataframe tbody tr th:only-of-type {\n        vertical-align: middle;\n    }\n\n    .dataframe tbody tr th {\n        vertical-align: top;\n    }\n\n    .dataframe thead th {\n        text-align: right;\n    }\n</style>\n<table border=\"1\" class=\"dataframe\">\n  <thead>\n    <tr style=\"text-align: right;\">\n      <th></th>\n      <th>ID</th>\n      <th>timestamp</th>\n      <th>item</th>\n      <th>corporation</th>\n      <th>location</th>\n      <th>supply</th>\n      <th>price</th>\n      <th>year</th>\n      <th>month</th>\n      <th>week</th>\n      <th>weekday</th>\n    </tr>\n  </thead>\n  <tbody>\n    <tr>\n      <th>2</th>\n      <td>TG_A_J_20190103</td>\n      <td>2019-01-03</td>\n      <td>TG</td>\n      <td>A</td>\n      <td>J</td>\n      <td>60601.0</td>\n      <td>1728.0</td>\n      <td>2019</td>\n      <td>1</td>\n      <td>1</td>\n      <td>3</td>\n    </tr>\n    <tr>\n      <th>3</th>\n      <td>TG_A_J_20190104</td>\n      <td>2019-01-04</td>\n      <td>TG</td>\n      <td>A</td>\n      <td>J</td>\n      <td>25000.0</td>\n      <td>1408.0</td>\n      <td>2019</td>\n      <td>1</td>\n      <td>1</td>\n      <td>4</td>\n    </tr>\n    <tr>\n      <th>4</th>\n      <td>TG_A_J_20190105</td>\n      <td>2019-01-05</td>\n      <td>TG</td>\n      <td>A</td>\n      <td>J</td>\n      <td>32352.0</td>\n      <td>1250.0</td>\n      <td>2019</td>\n      <td>1</td>\n      <td>1</td>\n      <td>5</td>\n    </tr>\n    <tr>\n      <th>6</th>\n      <td>TG_A_J_20190107</td>\n      <td>2019-01-07</td>\n      <td>TG</td>\n      <td>A</td>\n      <td>J</td>\n      <td>44995.0</td>\n      <td>1474.0</td>\n      <td>2019</td>\n      <td>1</td>\n      <td>2</td>\n      <td>0</td>\n    </tr>\n    <tr>\n      <th>7</th>\n      <td>TG_A_J_20190108</td>\n      <td>2019-01-08</td>\n      <td>TG</td>\n      <td>A</td>\n      <td>J</td>\n      <td>26975.0</td>\n      <td>1326.0</td>\n      <td>2019</td>\n      <td>1</td>\n      <td>2</td>\n      <td>1</td>\n    </tr>\n    <tr>\n      <th>...</th>\n      <td>...</td>\n      <td>...</td>\n      <td>...</td>\n      <td>...</td>\n      <td>...</td>\n      <td>...</td>\n      <td>...</td>\n      <td>...</td>\n      <td>...</td>\n      <td>...</td>\n      <td>...</td>\n    </tr>\n    <tr>\n      <th>59392</th>\n      <td>RD_F_J_20230227</td>\n      <td>2023-02-27</td>\n      <td>RD</td>\n      <td>F</td>\n      <td>J</td>\n      <td>452440.0</td>\n      <td>468.0</td>\n      <td>2023</td>\n      <td>2</td>\n      <td>9</td>\n      <td>0</td>\n    </tr>\n    <tr>\n      <th>59393</th>\n      <td>RD_F_J_20230228</td>\n      <td>2023-02-28</td>\n      <td>RD</td>\n      <td>F</td>\n      <td>J</td>\n      <td>421980.0</td>\n      <td>531.0</td>\n      <td>2023</td>\n      <td>2</td>\n      <td>9</td>\n      <td>1</td>\n    </tr>\n    <tr>\n      <th>59394</th>\n      <td>RD_F_J_20230301</td>\n      <td>2023-03-01</td>\n      <td>RD</td>\n      <td>F</td>\n      <td>J</td>\n      <td>382980.0</td>\n      <td>574.0</td>\n      <td>2023</td>\n      <td>3</td>\n      <td>9</td>\n      <td>2</td>\n    </tr>\n    <tr>\n      <th>59395</th>\n      <td>RD_F_J_20230302</td>\n      <td>2023-03-02</td>\n      <td>RD</td>\n      <td>F</td>\n      <td>J</td>\n      <td>477220.0</td>\n      <td>523.0</td>\n      <td>2023</td>\n      <td>3</td>\n      <td>9</td>\n      <td>3</td>\n    </tr>\n    <tr>\n      <th>59396</th>\n      <td>RD_F_J_20230303</td>\n      <td>2023-03-03</td>\n      <td>RD</td>\n      <td>F</td>\n      <td>J</td>\n      <td>427520.0</td>\n      <td>529.0</td>\n      <td>2023</td>\n      <td>3</td>\n      <td>9</td>\n      <td>4</td>\n    </tr>\n  </tbody>\n</table>\n<p>23945 rows × 11 columns</p>\n</div>"
     },
     "execution_count": 10,
     "metadata": {},
     "output_type": "execute_result"
    }
   ],
   "source": [
    "not_zero = train[train['supply']!=0]\n",
    "not_zero"
   ],
   "metadata": {
    "collapsed": false,
    "ExecuteTime": {
     "end_time": "2024-02-15T01:40:15.423912400Z",
     "start_time": "2024-02-15T01:40:15.399027400Z"
    }
   },
   "id": "3f517c60458a3f35",
   "execution_count": 10
  },
  {
   "cell_type": "code",
   "outputs": [
    {
     "name": "stderr",
     "output_type": "stream",
     "text": [
      "C:\\Users\\pione\\AppData\\Local\\Temp\\ipykernel_10580\\4066358988.py:1: SettingWithCopyWarning: \n",
      "A value is trying to be set on a copy of a slice from a DataFrame.\n",
      "Try using .loc[row_indexer,col_indexer] = value instead\n",
      "\n",
      "See the caveats in the documentation: https://pandas.pydata.org/pandas-docs/stable/user_guide/indexing.html#returning-a-view-versus-a-copy\n",
      "  not_zero['y-m']=not_zero['timestamp'].dt.strftime('%Y-%m')\n"
     ]
    },
    {
     "data": {
      "text/plain": "2        2019-01\n3        2019-01\n4        2019-01\n6        2019-01\n7        2019-01\n          ...   \n59392    2023-02\n59393    2023-02\n59394    2023-03\n59395    2023-03\n59396    2023-03\nName: y-m, Length: 23945, dtype: object"
     },
     "execution_count": 11,
     "metadata": {},
     "output_type": "execute_result"
    }
   ],
   "source": [
    "not_zero['y-m']=not_zero['timestamp'].dt.strftime('%Y-%m')\n",
    "not_zero['y-m']"
   ],
   "metadata": {
    "collapsed": false,
    "ExecuteTime": {
     "end_time": "2024-02-15T01:40:23.378990500Z",
     "start_time": "2024-02-15T01:40:23.279138800Z"
    }
   },
   "id": "e19f282174edd7b9",
   "execution_count": 11
  },
  {
   "cell_type": "code",
   "outputs": [
    {
     "data": {
      "text/plain": "       timestamp item corporation location    supply   price  year  month  \\\n2     2019-01-03   TG           A        J   60601.0  1728.0  2019      1   \n3     2019-01-04   TG           A        J   25000.0  1408.0  2019      1   \n4     2019-01-05   TG           A        J   32352.0  1250.0  2019      1   \n6     2019-01-07   TG           A        J   44995.0  1474.0  2019      1   \n7     2019-01-08   TG           A        J   26975.0  1326.0  2019      1   \n...          ...  ...         ...      ...       ...     ...   ...    ...   \n59392 2023-02-27   RD           F        J  452440.0   468.0  2023      2   \n59393 2023-02-28   RD           F        J  421980.0   531.0  2023      2   \n59394 2023-03-01   RD           F        J  382980.0   574.0  2023      3   \n59395 2023-03-02   RD           F        J  477220.0   523.0  2023      3   \n59396 2023-03-03   RD           F        J  427520.0   529.0  2023      3   \n\n       week  weekday      y-m  \n2         1        3  2019-01  \n3         1        4  2019-01  \n4         1        5  2019-01  \n6         2        0  2019-01  \n7         2        1  2019-01  \n...     ...      ...      ...  \n59392     9        0  2023-02  \n59393     9        1  2023-02  \n59394     9        2  2023-03  \n59395     9        3  2023-03  \n59396     9        4  2023-03  \n\n[23945 rows x 11 columns]",
      "text/html": "<div>\n<style scoped>\n    .dataframe tbody tr th:only-of-type {\n        vertical-align: middle;\n    }\n\n    .dataframe tbody tr th {\n        vertical-align: top;\n    }\n\n    .dataframe thead th {\n        text-align: right;\n    }\n</style>\n<table border=\"1\" class=\"dataframe\">\n  <thead>\n    <tr style=\"text-align: right;\">\n      <th></th>\n      <th>timestamp</th>\n      <th>item</th>\n      <th>corporation</th>\n      <th>location</th>\n      <th>supply</th>\n      <th>price</th>\n      <th>year</th>\n      <th>month</th>\n      <th>week</th>\n      <th>weekday</th>\n      <th>y-m</th>\n    </tr>\n  </thead>\n  <tbody>\n    <tr>\n      <th>2</th>\n      <td>2019-01-03</td>\n      <td>TG</td>\n      <td>A</td>\n      <td>J</td>\n      <td>60601.0</td>\n      <td>1728.0</td>\n      <td>2019</td>\n      <td>1</td>\n      <td>1</td>\n      <td>3</td>\n      <td>2019-01</td>\n    </tr>\n    <tr>\n      <th>3</th>\n      <td>2019-01-04</td>\n      <td>TG</td>\n      <td>A</td>\n      <td>J</td>\n      <td>25000.0</td>\n      <td>1408.0</td>\n      <td>2019</td>\n      <td>1</td>\n      <td>1</td>\n      <td>4</td>\n      <td>2019-01</td>\n    </tr>\n    <tr>\n      <th>4</th>\n      <td>2019-01-05</td>\n      <td>TG</td>\n      <td>A</td>\n      <td>J</td>\n      <td>32352.0</td>\n      <td>1250.0</td>\n      <td>2019</td>\n      <td>1</td>\n      <td>1</td>\n      <td>5</td>\n      <td>2019-01</td>\n    </tr>\n    <tr>\n      <th>6</th>\n      <td>2019-01-07</td>\n      <td>TG</td>\n      <td>A</td>\n      <td>J</td>\n      <td>44995.0</td>\n      <td>1474.0</td>\n      <td>2019</td>\n      <td>1</td>\n      <td>2</td>\n      <td>0</td>\n      <td>2019-01</td>\n    </tr>\n    <tr>\n      <th>7</th>\n      <td>2019-01-08</td>\n      <td>TG</td>\n      <td>A</td>\n      <td>J</td>\n      <td>26975.0</td>\n      <td>1326.0</td>\n      <td>2019</td>\n      <td>1</td>\n      <td>2</td>\n      <td>1</td>\n      <td>2019-01</td>\n    </tr>\n    <tr>\n      <th>...</th>\n      <td>...</td>\n      <td>...</td>\n      <td>...</td>\n      <td>...</td>\n      <td>...</td>\n      <td>...</td>\n      <td>...</td>\n      <td>...</td>\n      <td>...</td>\n      <td>...</td>\n      <td>...</td>\n    </tr>\n    <tr>\n      <th>59392</th>\n      <td>2023-02-27</td>\n      <td>RD</td>\n      <td>F</td>\n      <td>J</td>\n      <td>452440.0</td>\n      <td>468.0</td>\n      <td>2023</td>\n      <td>2</td>\n      <td>9</td>\n      <td>0</td>\n      <td>2023-02</td>\n    </tr>\n    <tr>\n      <th>59393</th>\n      <td>2023-02-28</td>\n      <td>RD</td>\n      <td>F</td>\n      <td>J</td>\n      <td>421980.0</td>\n      <td>531.0</td>\n      <td>2023</td>\n      <td>2</td>\n      <td>9</td>\n      <td>1</td>\n      <td>2023-02</td>\n    </tr>\n    <tr>\n      <th>59394</th>\n      <td>2023-03-01</td>\n      <td>RD</td>\n      <td>F</td>\n      <td>J</td>\n      <td>382980.0</td>\n      <td>574.0</td>\n      <td>2023</td>\n      <td>3</td>\n      <td>9</td>\n      <td>2</td>\n      <td>2023-03</td>\n    </tr>\n    <tr>\n      <th>59395</th>\n      <td>2023-03-02</td>\n      <td>RD</td>\n      <td>F</td>\n      <td>J</td>\n      <td>477220.0</td>\n      <td>523.0</td>\n      <td>2023</td>\n      <td>3</td>\n      <td>9</td>\n      <td>3</td>\n      <td>2023-03</td>\n    </tr>\n    <tr>\n      <th>59396</th>\n      <td>2023-03-03</td>\n      <td>RD</td>\n      <td>F</td>\n      <td>J</td>\n      <td>427520.0</td>\n      <td>529.0</td>\n      <td>2023</td>\n      <td>3</td>\n      <td>9</td>\n      <td>4</td>\n      <td>2023-03</td>\n    </tr>\n  </tbody>\n</table>\n<p>23945 rows × 11 columns</p>\n</div>"
     },
     "execution_count": 12,
     "metadata": {},
     "output_type": "execute_result"
    }
   ],
   "source": [
    "#ID 열 제거\n",
    "not_zero = not_zero.drop('ID', axis = 1)\n",
    "not_zero"
   ],
   "metadata": {
    "collapsed": false,
    "ExecuteTime": {
     "end_time": "2024-02-15T01:40:40.579286400Z",
     "start_time": "2024-02-15T01:40:40.569161700Z"
    }
   },
   "id": "6044ffb5eb254517",
   "execution_count": 12
  },
  {
   "cell_type": "code",
   "outputs": [
    {
     "data": {
      "text/plain": "                    ID  timestamp item corporation location  supply  price  \\\n0      TG_A_J_20190101 2019-01-01   TG           A        J     0.0    0.0   \n1      TG_A_J_20190102 2019-01-02   TG           A        J     0.0    0.0   \n5      TG_A_J_20190106 2019-01-06   TG           A        J     0.0    0.0   \n12     TG_A_J_20190113 2019-01-13   TG           A        J     0.0    0.0   \n19     TG_A_J_20190120 2019-01-20   TG           A        J     0.0    0.0   \n...                ...        ...  ...         ...      ...     ...    ...   \n59363  RD_F_J_20230129 2023-01-29   RD           F        J     0.0    0.0   \n59370  RD_F_J_20230205 2023-02-05   RD           F        J     0.0    0.0   \n59377  RD_F_J_20230212 2023-02-12   RD           F        J     0.0    0.0   \n59384  RD_F_J_20230219 2023-02-19   RD           F        J     0.0    0.0   \n59391  RD_F_J_20230226 2023-02-26   RD           F        J     0.0    0.0   \n\n       year  month  week  weekday  \n0      2019      1     1        1  \n1      2019      1     1        2  \n5      2019      1     1        6  \n12     2019      1     2        6  \n19     2019      1     3        6  \n...     ...    ...   ...      ...  \n59363  2023      1     4        6  \n59370  2023      2     5        6  \n59377  2023      2     6        6  \n59384  2023      2     7        6  \n59391  2023      2     8        6  \n\n[35452 rows x 11 columns]",
      "text/html": "<div>\n<style scoped>\n    .dataframe tbody tr th:only-of-type {\n        vertical-align: middle;\n    }\n\n    .dataframe tbody tr th {\n        vertical-align: top;\n    }\n\n    .dataframe thead th {\n        text-align: right;\n    }\n</style>\n<table border=\"1\" class=\"dataframe\">\n  <thead>\n    <tr style=\"text-align: right;\">\n      <th></th>\n      <th>ID</th>\n      <th>timestamp</th>\n      <th>item</th>\n      <th>corporation</th>\n      <th>location</th>\n      <th>supply</th>\n      <th>price</th>\n      <th>year</th>\n      <th>month</th>\n      <th>week</th>\n      <th>weekday</th>\n    </tr>\n  </thead>\n  <tbody>\n    <tr>\n      <th>0</th>\n      <td>TG_A_J_20190101</td>\n      <td>2019-01-01</td>\n      <td>TG</td>\n      <td>A</td>\n      <td>J</td>\n      <td>0.0</td>\n      <td>0.0</td>\n      <td>2019</td>\n      <td>1</td>\n      <td>1</td>\n      <td>1</td>\n    </tr>\n    <tr>\n      <th>1</th>\n      <td>TG_A_J_20190102</td>\n      <td>2019-01-02</td>\n      <td>TG</td>\n      <td>A</td>\n      <td>J</td>\n      <td>0.0</td>\n      <td>0.0</td>\n      <td>2019</td>\n      <td>1</td>\n      <td>1</td>\n      <td>2</td>\n    </tr>\n    <tr>\n      <th>5</th>\n      <td>TG_A_J_20190106</td>\n      <td>2019-01-06</td>\n      <td>TG</td>\n      <td>A</td>\n      <td>J</td>\n      <td>0.0</td>\n      <td>0.0</td>\n      <td>2019</td>\n      <td>1</td>\n      <td>1</td>\n      <td>6</td>\n    </tr>\n    <tr>\n      <th>12</th>\n      <td>TG_A_J_20190113</td>\n      <td>2019-01-13</td>\n      <td>TG</td>\n      <td>A</td>\n      <td>J</td>\n      <td>0.0</td>\n      <td>0.0</td>\n      <td>2019</td>\n      <td>1</td>\n      <td>2</td>\n      <td>6</td>\n    </tr>\n    <tr>\n      <th>19</th>\n      <td>TG_A_J_20190120</td>\n      <td>2019-01-20</td>\n      <td>TG</td>\n      <td>A</td>\n      <td>J</td>\n      <td>0.0</td>\n      <td>0.0</td>\n      <td>2019</td>\n      <td>1</td>\n      <td>3</td>\n      <td>6</td>\n    </tr>\n    <tr>\n      <th>...</th>\n      <td>...</td>\n      <td>...</td>\n      <td>...</td>\n      <td>...</td>\n      <td>...</td>\n      <td>...</td>\n      <td>...</td>\n      <td>...</td>\n      <td>...</td>\n      <td>...</td>\n      <td>...</td>\n    </tr>\n    <tr>\n      <th>59363</th>\n      <td>RD_F_J_20230129</td>\n      <td>2023-01-29</td>\n      <td>RD</td>\n      <td>F</td>\n      <td>J</td>\n      <td>0.0</td>\n      <td>0.0</td>\n      <td>2023</td>\n      <td>1</td>\n      <td>4</td>\n      <td>6</td>\n    </tr>\n    <tr>\n      <th>59370</th>\n      <td>RD_F_J_20230205</td>\n      <td>2023-02-05</td>\n      <td>RD</td>\n      <td>F</td>\n      <td>J</td>\n      <td>0.0</td>\n      <td>0.0</td>\n      <td>2023</td>\n      <td>2</td>\n      <td>5</td>\n      <td>6</td>\n    </tr>\n    <tr>\n      <th>59377</th>\n      <td>RD_F_J_20230212</td>\n      <td>2023-02-12</td>\n      <td>RD</td>\n      <td>F</td>\n      <td>J</td>\n      <td>0.0</td>\n      <td>0.0</td>\n      <td>2023</td>\n      <td>2</td>\n      <td>6</td>\n      <td>6</td>\n    </tr>\n    <tr>\n      <th>59384</th>\n      <td>RD_F_J_20230219</td>\n      <td>2023-02-19</td>\n      <td>RD</td>\n      <td>F</td>\n      <td>J</td>\n      <td>0.0</td>\n      <td>0.0</td>\n      <td>2023</td>\n      <td>2</td>\n      <td>7</td>\n      <td>6</td>\n    </tr>\n    <tr>\n      <th>59391</th>\n      <td>RD_F_J_20230226</td>\n      <td>2023-02-26</td>\n      <td>RD</td>\n      <td>F</td>\n      <td>J</td>\n      <td>0.0</td>\n      <td>0.0</td>\n      <td>2023</td>\n      <td>2</td>\n      <td>8</td>\n      <td>6</td>\n    </tr>\n  </tbody>\n</table>\n<p>35452 rows × 11 columns</p>\n</div>"
     },
     "execution_count": 13,
     "metadata": {},
     "output_type": "execute_result"
    }
   ],
   "source": [
    "train[train['supply']==0]"
   ],
   "metadata": {
    "collapsed": false,
    "ExecuteTime": {
     "end_time": "2024-02-15T01:43:48.500776100Z",
     "start_time": "2024-02-15T01:43:48.450932600Z"
    }
   },
   "id": "c98594f16a14dcfc",
   "execution_count": 13
  },
  {
   "cell_type": "code",
   "outputs": [],
   "source": [
    "from pytimekr import pytimekr\n",
    "\n",
    "year_2019 = pytimekr.holidays(year=2019)\n",
    "year_2020 = pytimekr.holidays(year=2020)\n",
    "year_2021 = pytimekr.holidays(year=2021)\n",
    "year_2022 = pytimekr.holidays(year=2022)\n",
    "year_2023 = pytimekr.holidays(year=2023)\n",
    "\n",
    "\n",
    "\n",
    "def holidays(x):\n",
    "    if x.weekday() in range(5,8):\n",
    "        return 1\n",
    "    if x.year == 2019  and x in year_2019 :\n",
    "        return 1\n",
    "    elif x.year == 2020 and x in year_2020:\n",
    "        return 1\n",
    "    elif x.year == 2021 and x in year_2021 :\n",
    "        return 1\n",
    "    elif x.year == 2022 and x in year_2022 :\n",
    "        return 1\n",
    "    elif x.year == 2023 and x in year_2023:\n",
    "        return 1\n",
    "    else:\n",
    "        return 0"
   ],
   "metadata": {
    "collapsed": false,
    "ExecuteTime": {
     "end_time": "2024-02-15T01:46:01.059528200Z",
     "start_time": "2024-02-15T01:46:01.038372Z"
    }
   },
   "id": "713abb69453204a4",
   "execution_count": 15
  },
  {
   "cell_type": "code",
   "outputs": [
    {
     "data": {
      "text/plain": "                    ID  timestamp item corporation location    supply   price  \\\n0      TG_A_J_20190101 2019-01-01   TG           A        J       0.0     0.0   \n1      TG_A_J_20190102 2019-01-02   TG           A        J       0.0     0.0   \n2      TG_A_J_20190103 2019-01-03   TG           A        J   60601.0  1728.0   \n3      TG_A_J_20190104 2019-01-04   TG           A        J   25000.0  1408.0   \n4      TG_A_J_20190105 2019-01-05   TG           A        J   32352.0  1250.0   \n...                ...        ...  ...         ...      ...       ...     ...   \n59392  RD_F_J_20230227 2023-02-27   RD           F        J  452440.0   468.0   \n59393  RD_F_J_20230228 2023-02-28   RD           F        J  421980.0   531.0   \n59394  RD_F_J_20230301 2023-03-01   RD           F        J  382980.0   574.0   \n59395  RD_F_J_20230302 2023-03-02   RD           F        J  477220.0   523.0   \n59396  RD_F_J_20230303 2023-03-03   RD           F        J  427520.0   529.0   \n\n       year  month  week  weekday  holiday  \n0      2019      1     1        1        0  \n1      2019      1     1        2        0  \n2      2019      1     1        3        0  \n3      2019      1     1        4        0  \n4      2019      1     1        5        1  \n...     ...    ...   ...      ...      ...  \n59392  2023      2     9        0        0  \n59393  2023      2     9        1        0  \n59394  2023      3     9        2        0  \n59395  2023      3     9        3        0  \n59396  2023      3     9        4        0  \n\n[59397 rows x 12 columns]",
      "text/html": "<div>\n<style scoped>\n    .dataframe tbody tr th:only-of-type {\n        vertical-align: middle;\n    }\n\n    .dataframe tbody tr th {\n        vertical-align: top;\n    }\n\n    .dataframe thead th {\n        text-align: right;\n    }\n</style>\n<table border=\"1\" class=\"dataframe\">\n  <thead>\n    <tr style=\"text-align: right;\">\n      <th></th>\n      <th>ID</th>\n      <th>timestamp</th>\n      <th>item</th>\n      <th>corporation</th>\n      <th>location</th>\n      <th>supply</th>\n      <th>price</th>\n      <th>year</th>\n      <th>month</th>\n      <th>week</th>\n      <th>weekday</th>\n      <th>holiday</th>\n    </tr>\n  </thead>\n  <tbody>\n    <tr>\n      <th>0</th>\n      <td>TG_A_J_20190101</td>\n      <td>2019-01-01</td>\n      <td>TG</td>\n      <td>A</td>\n      <td>J</td>\n      <td>0.0</td>\n      <td>0.0</td>\n      <td>2019</td>\n      <td>1</td>\n      <td>1</td>\n      <td>1</td>\n      <td>0</td>\n    </tr>\n    <tr>\n      <th>1</th>\n      <td>TG_A_J_20190102</td>\n      <td>2019-01-02</td>\n      <td>TG</td>\n      <td>A</td>\n      <td>J</td>\n      <td>0.0</td>\n      <td>0.0</td>\n      <td>2019</td>\n      <td>1</td>\n      <td>1</td>\n      <td>2</td>\n      <td>0</td>\n    </tr>\n    <tr>\n      <th>2</th>\n      <td>TG_A_J_20190103</td>\n      <td>2019-01-03</td>\n      <td>TG</td>\n      <td>A</td>\n      <td>J</td>\n      <td>60601.0</td>\n      <td>1728.0</td>\n      <td>2019</td>\n      <td>1</td>\n      <td>1</td>\n      <td>3</td>\n      <td>0</td>\n    </tr>\n    <tr>\n      <th>3</th>\n      <td>TG_A_J_20190104</td>\n      <td>2019-01-04</td>\n      <td>TG</td>\n      <td>A</td>\n      <td>J</td>\n      <td>25000.0</td>\n      <td>1408.0</td>\n      <td>2019</td>\n      <td>1</td>\n      <td>1</td>\n      <td>4</td>\n      <td>0</td>\n    </tr>\n    <tr>\n      <th>4</th>\n      <td>TG_A_J_20190105</td>\n      <td>2019-01-05</td>\n      <td>TG</td>\n      <td>A</td>\n      <td>J</td>\n      <td>32352.0</td>\n      <td>1250.0</td>\n      <td>2019</td>\n      <td>1</td>\n      <td>1</td>\n      <td>5</td>\n      <td>1</td>\n    </tr>\n    <tr>\n      <th>...</th>\n      <td>...</td>\n      <td>...</td>\n      <td>...</td>\n      <td>...</td>\n      <td>...</td>\n      <td>...</td>\n      <td>...</td>\n      <td>...</td>\n      <td>...</td>\n      <td>...</td>\n      <td>...</td>\n      <td>...</td>\n    </tr>\n    <tr>\n      <th>59392</th>\n      <td>RD_F_J_20230227</td>\n      <td>2023-02-27</td>\n      <td>RD</td>\n      <td>F</td>\n      <td>J</td>\n      <td>452440.0</td>\n      <td>468.0</td>\n      <td>2023</td>\n      <td>2</td>\n      <td>9</td>\n      <td>0</td>\n      <td>0</td>\n    </tr>\n    <tr>\n      <th>59393</th>\n      <td>RD_F_J_20230228</td>\n      <td>2023-02-28</td>\n      <td>RD</td>\n      <td>F</td>\n      <td>J</td>\n      <td>421980.0</td>\n      <td>531.0</td>\n      <td>2023</td>\n      <td>2</td>\n      <td>9</td>\n      <td>1</td>\n      <td>0</td>\n    </tr>\n    <tr>\n      <th>59394</th>\n      <td>RD_F_J_20230301</td>\n      <td>2023-03-01</td>\n      <td>RD</td>\n      <td>F</td>\n      <td>J</td>\n      <td>382980.0</td>\n      <td>574.0</td>\n      <td>2023</td>\n      <td>3</td>\n      <td>9</td>\n      <td>2</td>\n      <td>0</td>\n    </tr>\n    <tr>\n      <th>59395</th>\n      <td>RD_F_J_20230302</td>\n      <td>2023-03-02</td>\n      <td>RD</td>\n      <td>F</td>\n      <td>J</td>\n      <td>477220.0</td>\n      <td>523.0</td>\n      <td>2023</td>\n      <td>3</td>\n      <td>9</td>\n      <td>3</td>\n      <td>0</td>\n    </tr>\n    <tr>\n      <th>59396</th>\n      <td>RD_F_J_20230303</td>\n      <td>2023-03-03</td>\n      <td>RD</td>\n      <td>F</td>\n      <td>J</td>\n      <td>427520.0</td>\n      <td>529.0</td>\n      <td>2023</td>\n      <td>3</td>\n      <td>9</td>\n      <td>4</td>\n      <td>0</td>\n    </tr>\n  </tbody>\n</table>\n<p>59397 rows × 12 columns</p>\n</div>"
     },
     "execution_count": 16,
     "metadata": {},
     "output_type": "execute_result"
    }
   ],
   "source": [
    "import warnings\n",
    "warnings.filterwarnings('ignore')\n",
    "train['holiday'] = train['timestamp'].apply(holidays)\n",
    "train"
   ],
   "metadata": {
    "collapsed": false,
    "ExecuteTime": {
     "end_time": "2024-02-15T01:46:08.205074700Z",
     "start_time": "2024-02-15T01:46:08.038004600Z"
    }
   },
   "id": "cf9ba5642b585ebf",
   "execution_count": 16
  },
  {
   "cell_type": "code",
   "outputs": [
    {
     "data": {
      "text/plain": "0        2019-01\n1        2019-01\n2        2019-01\n3        2019-01\n4        2019-01\n          ...   \n59392    2023-02\n59393    2023-02\n59394    2023-03\n59395    2023-03\n59396    2023-03\nName: y-m, Length: 59397, dtype: object"
     },
     "execution_count": 17,
     "metadata": {},
     "output_type": "execute_result"
    }
   ],
   "source": [
    "train['y-m']=train['timestamp'].dt.strftime('%Y-%m')\n",
    "train['y-m']"
   ],
   "metadata": {
    "collapsed": false,
    "ExecuteTime": {
     "end_time": "2024-02-15T01:48:22.428004700Z",
     "start_time": "2024-02-15T01:48:22.186455100Z"
    }
   },
   "id": "433518dc4d58f963",
   "execution_count": 17
  },
  {
   "cell_type": "code",
   "outputs": [
    {
     "data": {
      "text/plain": "holiday\n0    42471\n1    16926\nName: count, dtype: int64"
     },
     "execution_count": 18,
     "metadata": {},
     "output_type": "execute_result"
    }
   ],
   "source": [
    "train['holiday'].value_counts()"
   ],
   "metadata": {
    "collapsed": false,
    "ExecuteTime": {
     "end_time": "2024-02-15T01:48:28.660268300Z",
     "start_time": "2024-02-15T01:48:28.639149700Z"
    }
   },
   "id": "c23d4c0259e50c5e",
   "execution_count": 18
  },
  {
   "cell_type": "code",
   "outputs": [
    {
     "data": {
      "text/plain": "           기간                              품목명    수출 중량  수출 금액    수입 중량  \\\n0     2019-01        토마토(신선한 것이나 냉장한 것으로 한정한다)   356571    990        0   \n1     2019-01                               양파   821330    222  4003206   \n2     2019-01                               쪽파       60      1    93405   \n3     2019-01             꽃양배추와 브로콜리(broccoli)      160      1   638913   \n4     2019-01                        방울다다기 양배추        0      0     7580   \n...       ...                              ...      ...    ...      ...   \n1269  2023-02           포포(papaw)[파파야(papaya)]        0      0    23830   \n1270  2023-02                               사과   135165    351        0   \n1271  2023-02                                배  2206012   5411        1   \n1272  2023-02  신 체리[프루너스 체라서스(Prunus cerasus)]        5      0        0   \n1273  2023-02                               자두        0      0        2   \n\n      수입 금액  무역수지  \n0         0   990  \n1      1118  -896  \n2       128  -127  \n3       563  -562  \n4        38   -38  \n...     ...   ...  \n1269     71   -71  \n1270      0   351  \n1271      0  5411  \n1272      0     0  \n1273      0     0  \n\n[1274 rows x 7 columns]",
      "text/html": "<div>\n<style scoped>\n    .dataframe tbody tr th:only-of-type {\n        vertical-align: middle;\n    }\n\n    .dataframe tbody tr th {\n        vertical-align: top;\n    }\n\n    .dataframe thead th {\n        text-align: right;\n    }\n</style>\n<table border=\"1\" class=\"dataframe\">\n  <thead>\n    <tr style=\"text-align: right;\">\n      <th></th>\n      <th>기간</th>\n      <th>품목명</th>\n      <th>수출 중량</th>\n      <th>수출 금액</th>\n      <th>수입 중량</th>\n      <th>수입 금액</th>\n      <th>무역수지</th>\n    </tr>\n  </thead>\n  <tbody>\n    <tr>\n      <th>0</th>\n      <td>2019-01</td>\n      <td>토마토(신선한 것이나 냉장한 것으로 한정한다)</td>\n      <td>356571</td>\n      <td>990</td>\n      <td>0</td>\n      <td>0</td>\n      <td>990</td>\n    </tr>\n    <tr>\n      <th>1</th>\n      <td>2019-01</td>\n      <td>양파</td>\n      <td>821330</td>\n      <td>222</td>\n      <td>4003206</td>\n      <td>1118</td>\n      <td>-896</td>\n    </tr>\n    <tr>\n      <th>2</th>\n      <td>2019-01</td>\n      <td>쪽파</td>\n      <td>60</td>\n      <td>1</td>\n      <td>93405</td>\n      <td>128</td>\n      <td>-127</td>\n    </tr>\n    <tr>\n      <th>3</th>\n      <td>2019-01</td>\n      <td>꽃양배추와 브로콜리(broccoli)</td>\n      <td>160</td>\n      <td>1</td>\n      <td>638913</td>\n      <td>563</td>\n      <td>-562</td>\n    </tr>\n    <tr>\n      <th>4</th>\n      <td>2019-01</td>\n      <td>방울다다기 양배추</td>\n      <td>0</td>\n      <td>0</td>\n      <td>7580</td>\n      <td>38</td>\n      <td>-38</td>\n    </tr>\n    <tr>\n      <th>...</th>\n      <td>...</td>\n      <td>...</td>\n      <td>...</td>\n      <td>...</td>\n      <td>...</td>\n      <td>...</td>\n      <td>...</td>\n    </tr>\n    <tr>\n      <th>1269</th>\n      <td>2023-02</td>\n      <td>포포(papaw)[파파야(papaya)]</td>\n      <td>0</td>\n      <td>0</td>\n      <td>23830</td>\n      <td>71</td>\n      <td>-71</td>\n    </tr>\n    <tr>\n      <th>1270</th>\n      <td>2023-02</td>\n      <td>사과</td>\n      <td>135165</td>\n      <td>351</td>\n      <td>0</td>\n      <td>0</td>\n      <td>351</td>\n    </tr>\n    <tr>\n      <th>1271</th>\n      <td>2023-02</td>\n      <td>배</td>\n      <td>2206012</td>\n      <td>5411</td>\n      <td>1</td>\n      <td>0</td>\n      <td>5411</td>\n    </tr>\n    <tr>\n      <th>1272</th>\n      <td>2023-02</td>\n      <td>신 체리[프루너스 체라서스(Prunus cerasus)]</td>\n      <td>5</td>\n      <td>0</td>\n      <td>0</td>\n      <td>0</td>\n      <td>0</td>\n    </tr>\n    <tr>\n      <th>1273</th>\n      <td>2023-02</td>\n      <td>자두</td>\n      <td>0</td>\n      <td>0</td>\n      <td>2</td>\n      <td>0</td>\n      <td>0</td>\n    </tr>\n  </tbody>\n</table>\n<p>1274 rows × 7 columns</p>\n</div>"
     },
     "execution_count": 19,
     "metadata": {},
     "output_type": "execute_result"
    }
   ],
   "source": [
    "trade"
   ],
   "metadata": {
    "collapsed": false,
    "ExecuteTime": {
     "end_time": "2024-02-15T02:05:00.778351200Z",
     "start_time": "2024-02-15T02:05:00.760438300Z"
    }
   },
   "id": "524385cac0fd03e2",
   "execution_count": 19
  },
  {
   "cell_type": "code",
   "outputs": [
    {
     "data": {
      "text/plain": "           기간                   품목명   수출 중량  수출 금액    수입 중량  수입 금액  무역수지\n3     2019-01  꽃양배추와 브로콜리(broccoli)     160      1   638913    563  -562\n4     2019-01             방울다다기 양배추       0      0     7580     38   -38\n5     2019-01                   양배추  184650     94   395802     90     4\n8     2019-01                    당근   23150     22  7466150   2955 -2934\n12    2019-01                   무화과    2627     23    94529    464  -441\n...       ...                   ...     ...    ...      ...    ...   ...\n1250  2023-02                   양배추   13188     13   377456    104   -91\n1253  2023-02                    당근   22510     20  9260020   3758 -3737\n1254  2023-02                    순무    4000      4        2      0     4\n1258  2023-02                   무화과    1319     14   104566    454  -440\n1264  2023-02                    감귤    6895     34    27765     98   -64\n\n[306 rows x 7 columns]",
      "text/html": "<div>\n<style scoped>\n    .dataframe tbody tr th:only-of-type {\n        vertical-align: middle;\n    }\n\n    .dataframe tbody tr th {\n        vertical-align: top;\n    }\n\n    .dataframe thead th {\n        text-align: right;\n    }\n</style>\n<table border=\"1\" class=\"dataframe\">\n  <thead>\n    <tr style=\"text-align: right;\">\n      <th></th>\n      <th>기간</th>\n      <th>품목명</th>\n      <th>수출 중량</th>\n      <th>수출 금액</th>\n      <th>수입 중량</th>\n      <th>수입 금액</th>\n      <th>무역수지</th>\n    </tr>\n  </thead>\n  <tbody>\n    <tr>\n      <th>3</th>\n      <td>2019-01</td>\n      <td>꽃양배추와 브로콜리(broccoli)</td>\n      <td>160</td>\n      <td>1</td>\n      <td>638913</td>\n      <td>563</td>\n      <td>-562</td>\n    </tr>\n    <tr>\n      <th>4</th>\n      <td>2019-01</td>\n      <td>방울다다기 양배추</td>\n      <td>0</td>\n      <td>0</td>\n      <td>7580</td>\n      <td>38</td>\n      <td>-38</td>\n    </tr>\n    <tr>\n      <th>5</th>\n      <td>2019-01</td>\n      <td>양배추</td>\n      <td>184650</td>\n      <td>94</td>\n      <td>395802</td>\n      <td>90</td>\n      <td>4</td>\n    </tr>\n    <tr>\n      <th>8</th>\n      <td>2019-01</td>\n      <td>당근</td>\n      <td>23150</td>\n      <td>22</td>\n      <td>7466150</td>\n      <td>2955</td>\n      <td>-2934</td>\n    </tr>\n    <tr>\n      <th>12</th>\n      <td>2019-01</td>\n      <td>무화과</td>\n      <td>2627</td>\n      <td>23</td>\n      <td>94529</td>\n      <td>464</td>\n      <td>-441</td>\n    </tr>\n    <tr>\n      <th>...</th>\n      <td>...</td>\n      <td>...</td>\n      <td>...</td>\n      <td>...</td>\n      <td>...</td>\n      <td>...</td>\n      <td>...</td>\n    </tr>\n    <tr>\n      <th>1250</th>\n      <td>2023-02</td>\n      <td>양배추</td>\n      <td>13188</td>\n      <td>13</td>\n      <td>377456</td>\n      <td>104</td>\n      <td>-91</td>\n    </tr>\n    <tr>\n      <th>1253</th>\n      <td>2023-02</td>\n      <td>당근</td>\n      <td>22510</td>\n      <td>20</td>\n      <td>9260020</td>\n      <td>3758</td>\n      <td>-3737</td>\n    </tr>\n    <tr>\n      <th>1254</th>\n      <td>2023-02</td>\n      <td>순무</td>\n      <td>4000</td>\n      <td>4</td>\n      <td>2</td>\n      <td>0</td>\n      <td>4</td>\n    </tr>\n    <tr>\n      <th>1258</th>\n      <td>2023-02</td>\n      <td>무화과</td>\n      <td>1319</td>\n      <td>14</td>\n      <td>104566</td>\n      <td>454</td>\n      <td>-440</td>\n    </tr>\n    <tr>\n      <th>1264</th>\n      <td>2023-02</td>\n      <td>감귤</td>\n      <td>6895</td>\n      <td>34</td>\n      <td>27765</td>\n      <td>98</td>\n      <td>-64</td>\n    </tr>\n  </tbody>\n</table>\n<p>306 rows × 7 columns</p>\n</div>"
     },
     "execution_count": 20,
     "metadata": {},
     "output_type": "execute_result"
    }
   ],
   "source": [
    "df_test = trade[trade.품목명.str.contains('감귤|브로콜리|무|당근|양배추')]\n",
    "df_test"
   ],
   "metadata": {
    "collapsed": false,
    "ExecuteTime": {
     "end_time": "2024-02-15T02:10:34.261028Z",
     "start_time": "2024-02-15T02:10:34.196561800Z"
    }
   },
   "id": "57f931c86e369a01",
   "execution_count": 20
  },
  {
   "cell_type": "code",
   "outputs": [
    {
     "data": {
      "text/plain": "           기간   품목명   수출 중량  수출 금액    수입 중량  수입 금액  무역수지\n3     2019-01  브로콜리     160      1   638913    563  -562\n5     2019-01   양배추  184650     94   395802     90     4\n8     2019-01    당근   23150     22  7466150   2955 -2934\n17    2019-01    감귤   58368    172        0      0   172\n28    2019-02  브로콜리     780      1   396870    399  -398\n...       ...   ...     ...    ...      ...    ...   ...\n1248  2023-02  브로콜리      24      0   332640    352  -352\n1250  2023-02   양배추   13188     13   377456    104   -91\n1253  2023-02    당근   22510     20  9260020   3758 -3737\n1254  2023-02     무    4000      4        2      0     4\n1264  2023-02    감귤    6895     34    27765     98   -64\n\n[206 rows x 7 columns]",
      "text/html": "<div>\n<style scoped>\n    .dataframe tbody tr th:only-of-type {\n        vertical-align: middle;\n    }\n\n    .dataframe tbody tr th {\n        vertical-align: top;\n    }\n\n    .dataframe thead th {\n        text-align: right;\n    }\n</style>\n<table border=\"1\" class=\"dataframe\">\n  <thead>\n    <tr style=\"text-align: right;\">\n      <th></th>\n      <th>기간</th>\n      <th>품목명</th>\n      <th>수출 중량</th>\n      <th>수출 금액</th>\n      <th>수입 중량</th>\n      <th>수입 금액</th>\n      <th>무역수지</th>\n    </tr>\n  </thead>\n  <tbody>\n    <tr>\n      <th>3</th>\n      <td>2019-01</td>\n      <td>브로콜리</td>\n      <td>160</td>\n      <td>1</td>\n      <td>638913</td>\n      <td>563</td>\n      <td>-562</td>\n    </tr>\n    <tr>\n      <th>5</th>\n      <td>2019-01</td>\n      <td>양배추</td>\n      <td>184650</td>\n      <td>94</td>\n      <td>395802</td>\n      <td>90</td>\n      <td>4</td>\n    </tr>\n    <tr>\n      <th>8</th>\n      <td>2019-01</td>\n      <td>당근</td>\n      <td>23150</td>\n      <td>22</td>\n      <td>7466150</td>\n      <td>2955</td>\n      <td>-2934</td>\n    </tr>\n    <tr>\n      <th>17</th>\n      <td>2019-01</td>\n      <td>감귤</td>\n      <td>58368</td>\n      <td>172</td>\n      <td>0</td>\n      <td>0</td>\n      <td>172</td>\n    </tr>\n    <tr>\n      <th>28</th>\n      <td>2019-02</td>\n      <td>브로콜리</td>\n      <td>780</td>\n      <td>1</td>\n      <td>396870</td>\n      <td>399</td>\n      <td>-398</td>\n    </tr>\n    <tr>\n      <th>...</th>\n      <td>...</td>\n      <td>...</td>\n      <td>...</td>\n      <td>...</td>\n      <td>...</td>\n      <td>...</td>\n      <td>...</td>\n    </tr>\n    <tr>\n      <th>1248</th>\n      <td>2023-02</td>\n      <td>브로콜리</td>\n      <td>24</td>\n      <td>0</td>\n      <td>332640</td>\n      <td>352</td>\n      <td>-352</td>\n    </tr>\n    <tr>\n      <th>1250</th>\n      <td>2023-02</td>\n      <td>양배추</td>\n      <td>13188</td>\n      <td>13</td>\n      <td>377456</td>\n      <td>104</td>\n      <td>-91</td>\n    </tr>\n    <tr>\n      <th>1253</th>\n      <td>2023-02</td>\n      <td>당근</td>\n      <td>22510</td>\n      <td>20</td>\n      <td>9260020</td>\n      <td>3758</td>\n      <td>-3737</td>\n    </tr>\n    <tr>\n      <th>1254</th>\n      <td>2023-02</td>\n      <td>무</td>\n      <td>4000</td>\n      <td>4</td>\n      <td>2</td>\n      <td>0</td>\n      <td>4</td>\n    </tr>\n    <tr>\n      <th>1264</th>\n      <td>2023-02</td>\n      <td>감귤</td>\n      <td>6895</td>\n      <td>34</td>\n      <td>27765</td>\n      <td>98</td>\n      <td>-64</td>\n    </tr>\n  </tbody>\n</table>\n<p>206 rows × 7 columns</p>\n</div>"
     },
     "execution_count": 21,
     "metadata": {},
     "output_type": "execute_result"
    }
   ],
   "source": [
    "df_test.loc[df_test['품목명']=='꽃양배추와 브로콜리(broccoli)','품목명'] = '브로콜리'\n",
    "df_test = df_test[df_test['품목명'] != '방울다다기 양배추']\n",
    "df_test.loc[df_test['품목명']=='순무','품목명'] = '무'\n",
    "df_test = df_test[df_test['품목명']!='무화과']\n",
    "df_test"
   ],
   "metadata": {
    "collapsed": false,
    "ExecuteTime": {
     "end_time": "2024-02-15T02:10:44.875537800Z",
     "start_time": "2024-02-15T02:10:44.850866300Z"
    }
   },
   "id": "6f306e2a9ecc1056",
   "execution_count": 21
  },
  {
   "cell_type": "code",
   "outputs": [
    {
     "data": {
      "text/plain": "품목명\n브로콜리    50\n양배추     50\n당근      50\n감귤      50\n무        6\nName: count, dtype: int64"
     },
     "execution_count": 22,
     "metadata": {},
     "output_type": "execute_result"
    }
   ],
   "source": [
    "df_test['품목명'].value_counts()"
   ],
   "metadata": {
    "collapsed": false,
    "ExecuteTime": {
     "end_time": "2024-02-15T02:12:59.561121200Z",
     "start_time": "2024-02-15T02:12:59.545496600Z"
    }
   },
   "id": "696bb763e5d5c2e7",
   "execution_count": 22
  },
  {
   "cell_type": "code",
   "outputs": [
    {
     "data": {
      "text/plain": "{'감귤': 'TG', '브로콜리': 'BC', '무': 'RD', '당근': 'CR', '양배추': 'CB'}"
     },
     "execution_count": 23,
     "metadata": {},
     "output_type": "execute_result"
    }
   ],
   "source": [
    "fruits_dict = {'감귤':'TG' ,'브로콜리':'BC' ,'무':'RD' ,'당근':'CR' ,'양배추':'CB'}\n",
    "fruits_dict"
   ],
   "metadata": {
    "collapsed": false,
    "ExecuteTime": {
     "end_time": "2024-02-15T02:13:21.492312800Z",
     "start_time": "2024-02-15T02:13:21.485911600Z"
    }
   },
   "id": "f6241fd4fcc1cf47",
   "execution_count": 23
  },
  {
   "cell_type": "code",
   "outputs": [],
   "source": [
    "df_test['품목명'] = df_test['품목명'].map(fruits_dict)"
   ],
   "metadata": {
    "collapsed": false,
    "ExecuteTime": {
     "end_time": "2024-02-15T02:14:08.917428300Z",
     "start_time": "2024-02-15T02:14:08.907903400Z"
    }
   },
   "id": "11a92f8e1ed80a77",
   "execution_count": 24
  },
  {
   "cell_type": "code",
   "outputs": [
    {
     "data": {
      "text/plain": "     index       기간 품목명   수출 중량  수출 금액    수입 중량  수입 금액  무역수지\n0        3  2019-01  BC     160      1   638913    563  -562\n1        5  2019-01  CB  184650     94   395802     90     4\n2        8  2019-01  CR   23150     22  7466150   2955 -2934\n3       17  2019-01  TG   58368    172        0      0   172\n4       28  2019-02  BC     780      1   396870    399  -398\n..     ...      ...  ..     ...    ...      ...    ...   ...\n201   1248  2023-02  BC      24      0   332640    352  -352\n202   1250  2023-02  CB   13188     13   377456    104   -91\n203   1253  2023-02  CR   22510     20  9260020   3758 -3737\n204   1254  2023-02  RD    4000      4        2      0     4\n205   1264  2023-02  TG    6895     34    27765     98   -64\n\n[206 rows x 8 columns]",
      "text/html": "<div>\n<style scoped>\n    .dataframe tbody tr th:only-of-type {\n        vertical-align: middle;\n    }\n\n    .dataframe tbody tr th {\n        vertical-align: top;\n    }\n\n    .dataframe thead th {\n        text-align: right;\n    }\n</style>\n<table border=\"1\" class=\"dataframe\">\n  <thead>\n    <tr style=\"text-align: right;\">\n      <th></th>\n      <th>index</th>\n      <th>기간</th>\n      <th>품목명</th>\n      <th>수출 중량</th>\n      <th>수출 금액</th>\n      <th>수입 중량</th>\n      <th>수입 금액</th>\n      <th>무역수지</th>\n    </tr>\n  </thead>\n  <tbody>\n    <tr>\n      <th>0</th>\n      <td>3</td>\n      <td>2019-01</td>\n      <td>BC</td>\n      <td>160</td>\n      <td>1</td>\n      <td>638913</td>\n      <td>563</td>\n      <td>-562</td>\n    </tr>\n    <tr>\n      <th>1</th>\n      <td>5</td>\n      <td>2019-01</td>\n      <td>CB</td>\n      <td>184650</td>\n      <td>94</td>\n      <td>395802</td>\n      <td>90</td>\n      <td>4</td>\n    </tr>\n    <tr>\n      <th>2</th>\n      <td>8</td>\n      <td>2019-01</td>\n      <td>CR</td>\n      <td>23150</td>\n      <td>22</td>\n      <td>7466150</td>\n      <td>2955</td>\n      <td>-2934</td>\n    </tr>\n    <tr>\n      <th>3</th>\n      <td>17</td>\n      <td>2019-01</td>\n      <td>TG</td>\n      <td>58368</td>\n      <td>172</td>\n      <td>0</td>\n      <td>0</td>\n      <td>172</td>\n    </tr>\n    <tr>\n      <th>4</th>\n      <td>28</td>\n      <td>2019-02</td>\n      <td>BC</td>\n      <td>780</td>\n      <td>1</td>\n      <td>396870</td>\n      <td>399</td>\n      <td>-398</td>\n    </tr>\n    <tr>\n      <th>...</th>\n      <td>...</td>\n      <td>...</td>\n      <td>...</td>\n      <td>...</td>\n      <td>...</td>\n      <td>...</td>\n      <td>...</td>\n      <td>...</td>\n    </tr>\n    <tr>\n      <th>201</th>\n      <td>1248</td>\n      <td>2023-02</td>\n      <td>BC</td>\n      <td>24</td>\n      <td>0</td>\n      <td>332640</td>\n      <td>352</td>\n      <td>-352</td>\n    </tr>\n    <tr>\n      <th>202</th>\n      <td>1250</td>\n      <td>2023-02</td>\n      <td>CB</td>\n      <td>13188</td>\n      <td>13</td>\n      <td>377456</td>\n      <td>104</td>\n      <td>-91</td>\n    </tr>\n    <tr>\n      <th>203</th>\n      <td>1253</td>\n      <td>2023-02</td>\n      <td>CR</td>\n      <td>22510</td>\n      <td>20</td>\n      <td>9260020</td>\n      <td>3758</td>\n      <td>-3737</td>\n    </tr>\n    <tr>\n      <th>204</th>\n      <td>1254</td>\n      <td>2023-02</td>\n      <td>RD</td>\n      <td>4000</td>\n      <td>4</td>\n      <td>2</td>\n      <td>0</td>\n      <td>4</td>\n    </tr>\n    <tr>\n      <th>205</th>\n      <td>1264</td>\n      <td>2023-02</td>\n      <td>TG</td>\n      <td>6895</td>\n      <td>34</td>\n      <td>27765</td>\n      <td>98</td>\n      <td>-64</td>\n    </tr>\n  </tbody>\n</table>\n<p>206 rows × 8 columns</p>\n</div>"
     },
     "execution_count": 25,
     "metadata": {},
     "output_type": "execute_result"
    }
   ],
   "source": [
    "df_test.reset_index()"
   ],
   "metadata": {
    "collapsed": false,
    "ExecuteTime": {
     "end_time": "2024-02-15T02:14:12.237708700Z",
     "start_time": "2024-02-15T02:14:12.222437600Z"
    }
   },
   "id": "e891856a36060fe",
   "execution_count": 25
  },
  {
   "cell_type": "code",
   "outputs": [
    {
     "data": {
      "text/plain": "           기간 item   수출 중량  수출 금액    수입 중량  수입 금액  무역수지\n3     2019-01   BC     160      1   638913    563  -562\n5     2019-01   CB  184650     94   395802     90     4\n8     2019-01   CR   23150     22  7466150   2955 -2934\n17    2019-01   TG   58368    172        0      0   172\n28    2019-02   BC     780      1   396870    399  -398\n...       ...  ...     ...    ...      ...    ...   ...\n1248  2023-02   BC      24      0   332640    352  -352\n1250  2023-02   CB   13188     13   377456    104   -91\n1253  2023-02   CR   22510     20  9260020   3758 -3737\n1254  2023-02   RD    4000      4        2      0     4\n1264  2023-02   TG    6895     34    27765     98   -64\n\n[206 rows x 7 columns]",
      "text/html": "<div>\n<style scoped>\n    .dataframe tbody tr th:only-of-type {\n        vertical-align: middle;\n    }\n\n    .dataframe tbody tr th {\n        vertical-align: top;\n    }\n\n    .dataframe thead th {\n        text-align: right;\n    }\n</style>\n<table border=\"1\" class=\"dataframe\">\n  <thead>\n    <tr style=\"text-align: right;\">\n      <th></th>\n      <th>기간</th>\n      <th>item</th>\n      <th>수출 중량</th>\n      <th>수출 금액</th>\n      <th>수입 중량</th>\n      <th>수입 금액</th>\n      <th>무역수지</th>\n    </tr>\n  </thead>\n  <tbody>\n    <tr>\n      <th>3</th>\n      <td>2019-01</td>\n      <td>BC</td>\n      <td>160</td>\n      <td>1</td>\n      <td>638913</td>\n      <td>563</td>\n      <td>-562</td>\n    </tr>\n    <tr>\n      <th>5</th>\n      <td>2019-01</td>\n      <td>CB</td>\n      <td>184650</td>\n      <td>94</td>\n      <td>395802</td>\n      <td>90</td>\n      <td>4</td>\n    </tr>\n    <tr>\n      <th>8</th>\n      <td>2019-01</td>\n      <td>CR</td>\n      <td>23150</td>\n      <td>22</td>\n      <td>7466150</td>\n      <td>2955</td>\n      <td>-2934</td>\n    </tr>\n    <tr>\n      <th>17</th>\n      <td>2019-01</td>\n      <td>TG</td>\n      <td>58368</td>\n      <td>172</td>\n      <td>0</td>\n      <td>0</td>\n      <td>172</td>\n    </tr>\n    <tr>\n      <th>28</th>\n      <td>2019-02</td>\n      <td>BC</td>\n      <td>780</td>\n      <td>1</td>\n      <td>396870</td>\n      <td>399</td>\n      <td>-398</td>\n    </tr>\n    <tr>\n      <th>...</th>\n      <td>...</td>\n      <td>...</td>\n      <td>...</td>\n      <td>...</td>\n      <td>...</td>\n      <td>...</td>\n      <td>...</td>\n    </tr>\n    <tr>\n      <th>1248</th>\n      <td>2023-02</td>\n      <td>BC</td>\n      <td>24</td>\n      <td>0</td>\n      <td>332640</td>\n      <td>352</td>\n      <td>-352</td>\n    </tr>\n    <tr>\n      <th>1250</th>\n      <td>2023-02</td>\n      <td>CB</td>\n      <td>13188</td>\n      <td>13</td>\n      <td>377456</td>\n      <td>104</td>\n      <td>-91</td>\n    </tr>\n    <tr>\n      <th>1253</th>\n      <td>2023-02</td>\n      <td>CR</td>\n      <td>22510</td>\n      <td>20</td>\n      <td>9260020</td>\n      <td>3758</td>\n      <td>-3737</td>\n    </tr>\n    <tr>\n      <th>1254</th>\n      <td>2023-02</td>\n      <td>RD</td>\n      <td>4000</td>\n      <td>4</td>\n      <td>2</td>\n      <td>0</td>\n      <td>4</td>\n    </tr>\n    <tr>\n      <th>1264</th>\n      <td>2023-02</td>\n      <td>TG</td>\n      <td>6895</td>\n      <td>34</td>\n      <td>27765</td>\n      <td>98</td>\n      <td>-64</td>\n    </tr>\n  </tbody>\n</table>\n<p>206 rows × 7 columns</p>\n</div>"
     },
     "execution_count": 26,
     "metadata": {},
     "output_type": "execute_result"
    }
   ],
   "source": [
    "# 컬럼명 변경\n",
    "trade = df_test.rename(columns = {'품목명' : 'item'})\n",
    "trade"
   ],
   "metadata": {
    "collapsed": false,
    "ExecuteTime": {
     "end_time": "2024-02-15T02:15:24.042517600Z",
     "start_time": "2024-02-15T02:15:24.026894100Z"
    }
   },
   "id": "f1011a3449397b8a",
   "execution_count": 26
  },
  {
   "cell_type": "code",
   "outputs": [
    {
     "data": {
      "text/plain": "           기간 item   수출 중량  수출 금액    수입 중량  수입 금액  무역수지\n3     2019-01   BC     160      1   638913    563  -562\n5     2019-01   CB  184650     94   395802     90     4\n8     2019-01   CR   23150     22  7466150   2955 -2934\n17    2019-01   TG   58368    172        0      0   172\n28    2019-02   BC     780      1   396870    399  -398\n...       ...  ...     ...    ...      ...    ...   ...\n1236  2023-01   TG   81509    269        0      0   269\n1248  2023-02   BC      24      0   332640    352  -352\n1250  2023-02   CB   13188     13   377456    104   -91\n1253  2023-02   CR   22510     20  9260020   3758 -3737\n1264  2023-02   TG    6895     34    27765     98   -64\n\n[200 rows x 7 columns]",
      "text/html": "<div>\n<style scoped>\n    .dataframe tbody tr th:only-of-type {\n        vertical-align: middle;\n    }\n\n    .dataframe tbody tr th {\n        vertical-align: top;\n    }\n\n    .dataframe thead th {\n        text-align: right;\n    }\n</style>\n<table border=\"1\" class=\"dataframe\">\n  <thead>\n    <tr style=\"text-align: right;\">\n      <th></th>\n      <th>기간</th>\n      <th>item</th>\n      <th>수출 중량</th>\n      <th>수출 금액</th>\n      <th>수입 중량</th>\n      <th>수입 금액</th>\n      <th>무역수지</th>\n    </tr>\n  </thead>\n  <tbody>\n    <tr>\n      <th>3</th>\n      <td>2019-01</td>\n      <td>BC</td>\n      <td>160</td>\n      <td>1</td>\n      <td>638913</td>\n      <td>563</td>\n      <td>-562</td>\n    </tr>\n    <tr>\n      <th>5</th>\n      <td>2019-01</td>\n      <td>CB</td>\n      <td>184650</td>\n      <td>94</td>\n      <td>395802</td>\n      <td>90</td>\n      <td>4</td>\n    </tr>\n    <tr>\n      <th>8</th>\n      <td>2019-01</td>\n      <td>CR</td>\n      <td>23150</td>\n      <td>22</td>\n      <td>7466150</td>\n      <td>2955</td>\n      <td>-2934</td>\n    </tr>\n    <tr>\n      <th>17</th>\n      <td>2019-01</td>\n      <td>TG</td>\n      <td>58368</td>\n      <td>172</td>\n      <td>0</td>\n      <td>0</td>\n      <td>172</td>\n    </tr>\n    <tr>\n      <th>28</th>\n      <td>2019-02</td>\n      <td>BC</td>\n      <td>780</td>\n      <td>1</td>\n      <td>396870</td>\n      <td>399</td>\n      <td>-398</td>\n    </tr>\n    <tr>\n      <th>...</th>\n      <td>...</td>\n      <td>...</td>\n      <td>...</td>\n      <td>...</td>\n      <td>...</td>\n      <td>...</td>\n      <td>...</td>\n    </tr>\n    <tr>\n      <th>1236</th>\n      <td>2023-01</td>\n      <td>TG</td>\n      <td>81509</td>\n      <td>269</td>\n      <td>0</td>\n      <td>0</td>\n      <td>269</td>\n    </tr>\n    <tr>\n      <th>1248</th>\n      <td>2023-02</td>\n      <td>BC</td>\n      <td>24</td>\n      <td>0</td>\n      <td>332640</td>\n      <td>352</td>\n      <td>-352</td>\n    </tr>\n    <tr>\n      <th>1250</th>\n      <td>2023-02</td>\n      <td>CB</td>\n      <td>13188</td>\n      <td>13</td>\n      <td>377456</td>\n      <td>104</td>\n      <td>-91</td>\n    </tr>\n    <tr>\n      <th>1253</th>\n      <td>2023-02</td>\n      <td>CR</td>\n      <td>22510</td>\n      <td>20</td>\n      <td>9260020</td>\n      <td>3758</td>\n      <td>-3737</td>\n    </tr>\n    <tr>\n      <th>1264</th>\n      <td>2023-02</td>\n      <td>TG</td>\n      <td>6895</td>\n      <td>34</td>\n      <td>27765</td>\n      <td>98</td>\n      <td>-64</td>\n    </tr>\n  </tbody>\n</table>\n<p>200 rows × 7 columns</p>\n</div>"
     },
     "execution_count": 27,
     "metadata": {},
     "output_type": "execute_result"
    }
   ],
   "source": [
    "not_RD_trade = trade[trade['item'] != 'RD']\n",
    "not_RD_trade"
   ],
   "metadata": {
    "collapsed": false,
    "ExecuteTime": {
     "end_time": "2024-02-15T02:24:22.585399200Z",
     "start_time": "2024-02-15T02:24:22.566285400Z"
    }
   },
   "id": "dee38c9a1eee99bb",
   "execution_count": 27
  },
  {
   "cell_type": "code",
   "outputs": [
    {
     "data": {
      "text/plain": "           기간 item  수출 중량  수출 금액  수입 중량  수입 금액  무역수지\n536   2020-10   RD    450      8      0      0     8\n681   2021-04   RD    577      0      0      0     0\n705   2021-05   RD    312      0      0      0     0\n732   2021-06   RD    130      0      0      0     0\n861   2021-11   RD      0      0      1      0     0\n1254  2023-02   RD   4000      4      2      0     4",
      "text/html": "<div>\n<style scoped>\n    .dataframe tbody tr th:only-of-type {\n        vertical-align: middle;\n    }\n\n    .dataframe tbody tr th {\n        vertical-align: top;\n    }\n\n    .dataframe thead th {\n        text-align: right;\n    }\n</style>\n<table border=\"1\" class=\"dataframe\">\n  <thead>\n    <tr style=\"text-align: right;\">\n      <th></th>\n      <th>기간</th>\n      <th>item</th>\n      <th>수출 중량</th>\n      <th>수출 금액</th>\n      <th>수입 중량</th>\n      <th>수입 금액</th>\n      <th>무역수지</th>\n    </tr>\n  </thead>\n  <tbody>\n    <tr>\n      <th>536</th>\n      <td>2020-10</td>\n      <td>RD</td>\n      <td>450</td>\n      <td>8</td>\n      <td>0</td>\n      <td>0</td>\n      <td>8</td>\n    </tr>\n    <tr>\n      <th>681</th>\n      <td>2021-04</td>\n      <td>RD</td>\n      <td>577</td>\n      <td>0</td>\n      <td>0</td>\n      <td>0</td>\n      <td>0</td>\n    </tr>\n    <tr>\n      <th>705</th>\n      <td>2021-05</td>\n      <td>RD</td>\n      <td>312</td>\n      <td>0</td>\n      <td>0</td>\n      <td>0</td>\n      <td>0</td>\n    </tr>\n    <tr>\n      <th>732</th>\n      <td>2021-06</td>\n      <td>RD</td>\n      <td>130</td>\n      <td>0</td>\n      <td>0</td>\n      <td>0</td>\n      <td>0</td>\n    </tr>\n    <tr>\n      <th>861</th>\n      <td>2021-11</td>\n      <td>RD</td>\n      <td>0</td>\n      <td>0</td>\n      <td>1</td>\n      <td>0</td>\n      <td>0</td>\n    </tr>\n    <tr>\n      <th>1254</th>\n      <td>2023-02</td>\n      <td>RD</td>\n      <td>4000</td>\n      <td>4</td>\n      <td>2</td>\n      <td>0</td>\n      <td>4</td>\n    </tr>\n  </tbody>\n</table>\n</div>"
     },
     "execution_count": 28,
     "metadata": {},
     "output_type": "execute_result"
    }
   ],
   "source": [
    "RD_trade = trade[trade['item'] == 'RD']\n",
    "RD_trade"
   ],
   "metadata": {
    "collapsed": false,
    "ExecuteTime": {
     "end_time": "2024-02-15T02:24:35.307196400Z",
     "start_time": "2024-02-15T02:24:35.280988200Z"
    }
   },
   "id": "ad593e89ca876dd8",
   "execution_count": 28
  },
  {
   "cell_type": "code",
   "outputs": [
    {
     "data": {
      "text/plain": "                    ID  timestamp item corporation location   supply   price  \\\n0      TG_A_J_20190101 2019-01-01   TG           A        J      0.0     0.0   \n1      TG_A_J_20190102 2019-01-02   TG           A        J      0.0     0.0   \n2      TG_A_J_20190103 2019-01-03   TG           A        J  60601.0  1728.0   \n3      TG_A_J_20190104 2019-01-04   TG           A        J  25000.0  1408.0   \n4      TG_A_J_20190105 2019-01-05   TG           A        J  32352.0  1250.0   \n...                ...        ...  ...         ...      ...      ...     ...   \n48555  BC_E_S_20230224 2023-02-24   BC           E        S   2104.0  2025.0   \n48556  BC_E_S_20230225 2023-02-25   BC           E        S   1032.0  2353.0   \n48557  BC_E_S_20230226 2023-02-26   BC           E        S      0.0     0.0   \n48558  BC_E_S_20230227 2023-02-27   BC           E        S   2200.0  2488.0   \n48559  BC_E_S_20230228 2023-02-28   BC           E        S   1024.0  3232.0   \n\n       year  month  week  weekday  holiday      y-m       기간  수출 중량  수출 금액  \\\n0      2019      1     1        1        0  2019-01  2019-01  58368    172   \n1      2019      1     1        2        0  2019-01  2019-01  58368    172   \n2      2019      1     1        3        0  2019-01  2019-01  58368    172   \n3      2019      1     1        4        0  2019-01  2019-01  58368    172   \n4      2019      1     1        5        1  2019-01  2019-01  58368    172   \n...     ...    ...   ...      ...      ...      ...      ...    ...    ...   \n48555  2023      2     8        4        0  2023-02  2023-02     24      0   \n48556  2023      2     8        5        1  2023-02  2023-02     24      0   \n48557  2023      2     8        6        1  2023-02  2023-02     24      0   \n48558  2023      2     9        0        0  2023-02  2023-02     24      0   \n48559  2023      2     9        1        0  2023-02  2023-02     24      0   \n\n        수입 중량  수입 금액  무역수지  \n0           0      0   172  \n1           0      0   172  \n2           0      0   172  \n3           0      0   172  \n4           0      0   172  \n...       ...    ...   ...  \n48555  332640    352  -352  \n48556  332640    352  -352  \n48557  332640    352  -352  \n48558  332640    352  -352  \n48559  332640    352  -352  \n\n[48560 rows x 19 columns]",
      "text/html": "<div>\n<style scoped>\n    .dataframe tbody tr th:only-of-type {\n        vertical-align: middle;\n    }\n\n    .dataframe tbody tr th {\n        vertical-align: top;\n    }\n\n    .dataframe thead th {\n        text-align: right;\n    }\n</style>\n<table border=\"1\" class=\"dataframe\">\n  <thead>\n    <tr style=\"text-align: right;\">\n      <th></th>\n      <th>ID</th>\n      <th>timestamp</th>\n      <th>item</th>\n      <th>corporation</th>\n      <th>location</th>\n      <th>supply</th>\n      <th>price</th>\n      <th>year</th>\n      <th>month</th>\n      <th>week</th>\n      <th>weekday</th>\n      <th>holiday</th>\n      <th>y-m</th>\n      <th>기간</th>\n      <th>수출 중량</th>\n      <th>수출 금액</th>\n      <th>수입 중량</th>\n      <th>수입 금액</th>\n      <th>무역수지</th>\n    </tr>\n  </thead>\n  <tbody>\n    <tr>\n      <th>0</th>\n      <td>TG_A_J_20190101</td>\n      <td>2019-01-01</td>\n      <td>TG</td>\n      <td>A</td>\n      <td>J</td>\n      <td>0.0</td>\n      <td>0.0</td>\n      <td>2019</td>\n      <td>1</td>\n      <td>1</td>\n      <td>1</td>\n      <td>0</td>\n      <td>2019-01</td>\n      <td>2019-01</td>\n      <td>58368</td>\n      <td>172</td>\n      <td>0</td>\n      <td>0</td>\n      <td>172</td>\n    </tr>\n    <tr>\n      <th>1</th>\n      <td>TG_A_J_20190102</td>\n      <td>2019-01-02</td>\n      <td>TG</td>\n      <td>A</td>\n      <td>J</td>\n      <td>0.0</td>\n      <td>0.0</td>\n      <td>2019</td>\n      <td>1</td>\n      <td>1</td>\n      <td>2</td>\n      <td>0</td>\n      <td>2019-01</td>\n      <td>2019-01</td>\n      <td>58368</td>\n      <td>172</td>\n      <td>0</td>\n      <td>0</td>\n      <td>172</td>\n    </tr>\n    <tr>\n      <th>2</th>\n      <td>TG_A_J_20190103</td>\n      <td>2019-01-03</td>\n      <td>TG</td>\n      <td>A</td>\n      <td>J</td>\n      <td>60601.0</td>\n      <td>1728.0</td>\n      <td>2019</td>\n      <td>1</td>\n      <td>1</td>\n      <td>3</td>\n      <td>0</td>\n      <td>2019-01</td>\n      <td>2019-01</td>\n      <td>58368</td>\n      <td>172</td>\n      <td>0</td>\n      <td>0</td>\n      <td>172</td>\n    </tr>\n    <tr>\n      <th>3</th>\n      <td>TG_A_J_20190104</td>\n      <td>2019-01-04</td>\n      <td>TG</td>\n      <td>A</td>\n      <td>J</td>\n      <td>25000.0</td>\n      <td>1408.0</td>\n      <td>2019</td>\n      <td>1</td>\n      <td>1</td>\n      <td>4</td>\n      <td>0</td>\n      <td>2019-01</td>\n      <td>2019-01</td>\n      <td>58368</td>\n      <td>172</td>\n      <td>0</td>\n      <td>0</td>\n      <td>172</td>\n    </tr>\n    <tr>\n      <th>4</th>\n      <td>TG_A_J_20190105</td>\n      <td>2019-01-05</td>\n      <td>TG</td>\n      <td>A</td>\n      <td>J</td>\n      <td>32352.0</td>\n      <td>1250.0</td>\n      <td>2019</td>\n      <td>1</td>\n      <td>1</td>\n      <td>5</td>\n      <td>1</td>\n      <td>2019-01</td>\n      <td>2019-01</td>\n      <td>58368</td>\n      <td>172</td>\n      <td>0</td>\n      <td>0</td>\n      <td>172</td>\n    </tr>\n    <tr>\n      <th>...</th>\n      <td>...</td>\n      <td>...</td>\n      <td>...</td>\n      <td>...</td>\n      <td>...</td>\n      <td>...</td>\n      <td>...</td>\n      <td>...</td>\n      <td>...</td>\n      <td>...</td>\n      <td>...</td>\n      <td>...</td>\n      <td>...</td>\n      <td>...</td>\n      <td>...</td>\n      <td>...</td>\n      <td>...</td>\n      <td>...</td>\n      <td>...</td>\n    </tr>\n    <tr>\n      <th>48555</th>\n      <td>BC_E_S_20230224</td>\n      <td>2023-02-24</td>\n      <td>BC</td>\n      <td>E</td>\n      <td>S</td>\n      <td>2104.0</td>\n      <td>2025.0</td>\n      <td>2023</td>\n      <td>2</td>\n      <td>8</td>\n      <td>4</td>\n      <td>0</td>\n      <td>2023-02</td>\n      <td>2023-02</td>\n      <td>24</td>\n      <td>0</td>\n      <td>332640</td>\n      <td>352</td>\n      <td>-352</td>\n    </tr>\n    <tr>\n      <th>48556</th>\n      <td>BC_E_S_20230225</td>\n      <td>2023-02-25</td>\n      <td>BC</td>\n      <td>E</td>\n      <td>S</td>\n      <td>1032.0</td>\n      <td>2353.0</td>\n      <td>2023</td>\n      <td>2</td>\n      <td>8</td>\n      <td>5</td>\n      <td>1</td>\n      <td>2023-02</td>\n      <td>2023-02</td>\n      <td>24</td>\n      <td>0</td>\n      <td>332640</td>\n      <td>352</td>\n      <td>-352</td>\n    </tr>\n    <tr>\n      <th>48557</th>\n      <td>BC_E_S_20230226</td>\n      <td>2023-02-26</td>\n      <td>BC</td>\n      <td>E</td>\n      <td>S</td>\n      <td>0.0</td>\n      <td>0.0</td>\n      <td>2023</td>\n      <td>2</td>\n      <td>8</td>\n      <td>6</td>\n      <td>1</td>\n      <td>2023-02</td>\n      <td>2023-02</td>\n      <td>24</td>\n      <td>0</td>\n      <td>332640</td>\n      <td>352</td>\n      <td>-352</td>\n    </tr>\n    <tr>\n      <th>48558</th>\n      <td>BC_E_S_20230227</td>\n      <td>2023-02-27</td>\n      <td>BC</td>\n      <td>E</td>\n      <td>S</td>\n      <td>2200.0</td>\n      <td>2488.0</td>\n      <td>2023</td>\n      <td>2</td>\n      <td>9</td>\n      <td>0</td>\n      <td>0</td>\n      <td>2023-02</td>\n      <td>2023-02</td>\n      <td>24</td>\n      <td>0</td>\n      <td>332640</td>\n      <td>352</td>\n      <td>-352</td>\n    </tr>\n    <tr>\n      <th>48559</th>\n      <td>BC_E_S_20230228</td>\n      <td>2023-02-28</td>\n      <td>BC</td>\n      <td>E</td>\n      <td>S</td>\n      <td>1024.0</td>\n      <td>3232.0</td>\n      <td>2023</td>\n      <td>2</td>\n      <td>9</td>\n      <td>1</td>\n      <td>0</td>\n      <td>2023-02</td>\n      <td>2023-02</td>\n      <td>24</td>\n      <td>0</td>\n      <td>332640</td>\n      <td>352</td>\n      <td>-352</td>\n    </tr>\n  </tbody>\n</table>\n<p>48560 rows × 19 columns</p>\n</div>"
     },
     "execution_count": 29,
     "metadata": {},
     "output_type": "execute_result"
    }
   ],
   "source": [
    "dr_merged = pd.merge(train, trade, left_on=['item', 'y-m'], right_on=['item', '기간'])\n",
    "dr_merged"
   ],
   "metadata": {
    "collapsed": false,
    "ExecuteTime": {
     "end_time": "2024-02-15T02:24:47.820631Z",
     "start_time": "2024-02-15T02:24:47.786775200Z"
    }
   },
   "id": "893b2c410ec0f8a8",
   "execution_count": 29
  },
  {
   "cell_type": "code",
   "outputs": [
    {
     "data": {
      "text/plain": "                    ID  timestamp item corporation location    supply   price  \\\n0      TG_A_J_20190101 2019-01-01   TG           A        J       0.0     0.0   \n1      TG_A_J_20190102 2019-01-02   TG           A        J       0.0     0.0   \n2      TG_A_J_20190103 2019-01-03   TG           A        J   60601.0  1728.0   \n3      TG_A_J_20190104 2019-01-04   TG           A        J   25000.0  1408.0   \n4      TG_A_J_20190105 2019-01-05   TG           A        J   32352.0  1250.0   \n...                ...        ...  ...         ...      ...       ...     ...   \n57869  CB_F_J_20230227 2023-02-27   CB           F        J  232312.0   652.0   \n57870  CB_F_J_20230228 2023-02-28   CB           F        J  224072.0   672.0   \n57871  CB_F_J_20230301 2023-03-01   CB           F        J  273800.0   621.0   \n57872  CB_F_J_20230302 2023-03-02   CB           F        J  238992.0   653.0   \n57873  CB_F_J_20230303 2023-03-03   CB           F        J  206360.0   643.0   \n\n       year  month  week  weekday  holiday      y-m  \n0      2019      1     1        1        0  2019-01  \n1      2019      1     1        2        0  2019-01  \n2      2019      1     1        3        0  2019-01  \n3      2019      1     1        4        0  2019-01  \n4      2019      1     1        5        1  2019-01  \n...     ...    ...   ...      ...      ...      ...  \n57869  2023      2     9        0        0  2023-02  \n57870  2023      2     9        1        0  2023-02  \n57871  2023      3     9        2        0  2023-03  \n57872  2023      3     9        3        0  2023-03  \n57873  2023      3     9        4        0  2023-03  \n\n[47213 rows x 13 columns]",
      "text/html": "<div>\n<style scoped>\n    .dataframe tbody tr th:only-of-type {\n        vertical-align: middle;\n    }\n\n    .dataframe tbody tr th {\n        vertical-align: top;\n    }\n\n    .dataframe thead th {\n        text-align: right;\n    }\n</style>\n<table border=\"1\" class=\"dataframe\">\n  <thead>\n    <tr style=\"text-align: right;\">\n      <th></th>\n      <th>ID</th>\n      <th>timestamp</th>\n      <th>item</th>\n      <th>corporation</th>\n      <th>location</th>\n      <th>supply</th>\n      <th>price</th>\n      <th>year</th>\n      <th>month</th>\n      <th>week</th>\n      <th>weekday</th>\n      <th>holiday</th>\n      <th>y-m</th>\n    </tr>\n  </thead>\n  <tbody>\n    <tr>\n      <th>0</th>\n      <td>TG_A_J_20190101</td>\n      <td>2019-01-01</td>\n      <td>TG</td>\n      <td>A</td>\n      <td>J</td>\n      <td>0.0</td>\n      <td>0.0</td>\n      <td>2019</td>\n      <td>1</td>\n      <td>1</td>\n      <td>1</td>\n      <td>0</td>\n      <td>2019-01</td>\n    </tr>\n    <tr>\n      <th>1</th>\n      <td>TG_A_J_20190102</td>\n      <td>2019-01-02</td>\n      <td>TG</td>\n      <td>A</td>\n      <td>J</td>\n      <td>0.0</td>\n      <td>0.0</td>\n      <td>2019</td>\n      <td>1</td>\n      <td>1</td>\n      <td>2</td>\n      <td>0</td>\n      <td>2019-01</td>\n    </tr>\n    <tr>\n      <th>2</th>\n      <td>TG_A_J_20190103</td>\n      <td>2019-01-03</td>\n      <td>TG</td>\n      <td>A</td>\n      <td>J</td>\n      <td>60601.0</td>\n      <td>1728.0</td>\n      <td>2019</td>\n      <td>1</td>\n      <td>1</td>\n      <td>3</td>\n      <td>0</td>\n      <td>2019-01</td>\n    </tr>\n    <tr>\n      <th>3</th>\n      <td>TG_A_J_20190104</td>\n      <td>2019-01-04</td>\n      <td>TG</td>\n      <td>A</td>\n      <td>J</td>\n      <td>25000.0</td>\n      <td>1408.0</td>\n      <td>2019</td>\n      <td>1</td>\n      <td>1</td>\n      <td>4</td>\n      <td>0</td>\n      <td>2019-01</td>\n    </tr>\n    <tr>\n      <th>4</th>\n      <td>TG_A_J_20190105</td>\n      <td>2019-01-05</td>\n      <td>TG</td>\n      <td>A</td>\n      <td>J</td>\n      <td>32352.0</td>\n      <td>1250.0</td>\n      <td>2019</td>\n      <td>1</td>\n      <td>1</td>\n      <td>5</td>\n      <td>1</td>\n      <td>2019-01</td>\n    </tr>\n    <tr>\n      <th>...</th>\n      <td>...</td>\n      <td>...</td>\n      <td>...</td>\n      <td>...</td>\n      <td>...</td>\n      <td>...</td>\n      <td>...</td>\n      <td>...</td>\n      <td>...</td>\n      <td>...</td>\n      <td>...</td>\n      <td>...</td>\n      <td>...</td>\n    </tr>\n    <tr>\n      <th>57869</th>\n      <td>CB_F_J_20230227</td>\n      <td>2023-02-27</td>\n      <td>CB</td>\n      <td>F</td>\n      <td>J</td>\n      <td>232312.0</td>\n      <td>652.0</td>\n      <td>2023</td>\n      <td>2</td>\n      <td>9</td>\n      <td>0</td>\n      <td>0</td>\n      <td>2023-02</td>\n    </tr>\n    <tr>\n      <th>57870</th>\n      <td>CB_F_J_20230228</td>\n      <td>2023-02-28</td>\n      <td>CB</td>\n      <td>F</td>\n      <td>J</td>\n      <td>224072.0</td>\n      <td>672.0</td>\n      <td>2023</td>\n      <td>2</td>\n      <td>9</td>\n      <td>1</td>\n      <td>0</td>\n      <td>2023-02</td>\n    </tr>\n    <tr>\n      <th>57871</th>\n      <td>CB_F_J_20230301</td>\n      <td>2023-03-01</td>\n      <td>CB</td>\n      <td>F</td>\n      <td>J</td>\n      <td>273800.0</td>\n      <td>621.0</td>\n      <td>2023</td>\n      <td>3</td>\n      <td>9</td>\n      <td>2</td>\n      <td>0</td>\n      <td>2023-03</td>\n    </tr>\n    <tr>\n      <th>57872</th>\n      <td>CB_F_J_20230302</td>\n      <td>2023-03-02</td>\n      <td>CB</td>\n      <td>F</td>\n      <td>J</td>\n      <td>238992.0</td>\n      <td>653.0</td>\n      <td>2023</td>\n      <td>3</td>\n      <td>9</td>\n      <td>3</td>\n      <td>0</td>\n      <td>2023-03</td>\n    </tr>\n    <tr>\n      <th>57873</th>\n      <td>CB_F_J_20230303</td>\n      <td>2023-03-03</td>\n      <td>CB</td>\n      <td>F</td>\n      <td>J</td>\n      <td>206360.0</td>\n      <td>643.0</td>\n      <td>2023</td>\n      <td>3</td>\n      <td>9</td>\n      <td>4</td>\n      <td>0</td>\n      <td>2023-03</td>\n    </tr>\n  </tbody>\n</table>\n<p>47213 rows × 13 columns</p>\n</div>"
     },
     "execution_count": 31,
     "metadata": {},
     "output_type": "execute_result"
    }
   ],
   "source": [
    "not_RD_train = train[train['item'] != 'RD']\n",
    "not_RD_train"
   ],
   "metadata": {
    "collapsed": false,
    "ExecuteTime": {
     "end_time": "2024-02-15T02:25:28.659259300Z",
     "start_time": "2024-02-15T02:25:28.629749600Z"
    }
   },
   "id": "6339a142d5d7e8b4",
   "execution_count": 31
  },
  {
   "cell_type": "code",
   "outputs": [
    {
     "data": {
      "text/plain": "           기간 item  수출 중량  수출 금액  수입 중량  수입 금액  무역수지\n536   2020-10   RD    450      8      0      0     8\n681   2021-04   RD    577      0      0      0     0\n705   2021-05   RD    312      0      0      0     0\n732   2021-06   RD    130      0      0      0     0\n861   2021-11   RD      0      0      1      0     0\n1254  2023-02   RD   4000      4      2      0     4",
      "text/html": "<div>\n<style scoped>\n    .dataframe tbody tr th:only-of-type {\n        vertical-align: middle;\n    }\n\n    .dataframe tbody tr th {\n        vertical-align: top;\n    }\n\n    .dataframe thead th {\n        text-align: right;\n    }\n</style>\n<table border=\"1\" class=\"dataframe\">\n  <thead>\n    <tr style=\"text-align: right;\">\n      <th></th>\n      <th>기간</th>\n      <th>item</th>\n      <th>수출 중량</th>\n      <th>수출 금액</th>\n      <th>수입 중량</th>\n      <th>수입 금액</th>\n      <th>무역수지</th>\n    </tr>\n  </thead>\n  <tbody>\n    <tr>\n      <th>536</th>\n      <td>2020-10</td>\n      <td>RD</td>\n      <td>450</td>\n      <td>8</td>\n      <td>0</td>\n      <td>0</td>\n      <td>8</td>\n    </tr>\n    <tr>\n      <th>681</th>\n      <td>2021-04</td>\n      <td>RD</td>\n      <td>577</td>\n      <td>0</td>\n      <td>0</td>\n      <td>0</td>\n      <td>0</td>\n    </tr>\n    <tr>\n      <th>705</th>\n      <td>2021-05</td>\n      <td>RD</td>\n      <td>312</td>\n      <td>0</td>\n      <td>0</td>\n      <td>0</td>\n      <td>0</td>\n    </tr>\n    <tr>\n      <th>732</th>\n      <td>2021-06</td>\n      <td>RD</td>\n      <td>130</td>\n      <td>0</td>\n      <td>0</td>\n      <td>0</td>\n      <td>0</td>\n    </tr>\n    <tr>\n      <th>861</th>\n      <td>2021-11</td>\n      <td>RD</td>\n      <td>0</td>\n      <td>0</td>\n      <td>1</td>\n      <td>0</td>\n      <td>0</td>\n    </tr>\n    <tr>\n      <th>1254</th>\n      <td>2023-02</td>\n      <td>RD</td>\n      <td>4000</td>\n      <td>4</td>\n      <td>2</td>\n      <td>0</td>\n      <td>4</td>\n    </tr>\n  </tbody>\n</table>\n</div>"
     },
     "execution_count": 32,
     "metadata": {},
     "output_type": "execute_result"
    }
   ],
   "source": [
    "RD_trade = trade[trade['item'] == 'RD']\n",
    "RD_trade"
   ],
   "metadata": {
    "collapsed": false,
    "ExecuteTime": {
     "end_time": "2024-02-15T02:25:50.312459900Z",
     "start_time": "2024-02-15T02:25:50.295009900Z"
    }
   },
   "id": "b43392c2bfbeb10b",
   "execution_count": 32
  },
  {
   "cell_type": "code",
   "outputs": [
    {
     "data": {
      "text/plain": "                    ID  timestamp item corporation location   supply   price  \\\n0      TG_A_J_20190101 2019-01-01   TG           A        J      0.0     0.0   \n1      TG_A_J_20190102 2019-01-02   TG           A        J      0.0     0.0   \n2      TG_A_J_20190103 2019-01-03   TG           A        J  60601.0  1728.0   \n3      TG_A_J_20190104 2019-01-04   TG           A        J  25000.0  1408.0   \n4      TG_A_J_20190105 2019-01-05   TG           A        J  32352.0  1250.0   \n...                ...        ...  ...         ...      ...      ...     ...   \n48555  BC_E_S_20230224 2023-02-24   BC           E        S   2104.0  2025.0   \n48556  BC_E_S_20230225 2023-02-25   BC           E        S   1032.0  2353.0   \n48557  BC_E_S_20230226 2023-02-26   BC           E        S      0.0     0.0   \n48558  BC_E_S_20230227 2023-02-27   BC           E        S   2200.0  2488.0   \n48559  BC_E_S_20230228 2023-02-28   BC           E        S   1024.0  3232.0   \n\n       year  month  week  weekday  holiday      y-m       기간  수출 중량  수출 금액  \\\n0      2019      1     1        1        0  2019-01  2019-01  58368    172   \n1      2019      1     1        2        0  2019-01  2019-01  58368    172   \n2      2019      1     1        3        0  2019-01  2019-01  58368    172   \n3      2019      1     1        4        0  2019-01  2019-01  58368    172   \n4      2019      1     1        5        1  2019-01  2019-01  58368    172   \n...     ...    ...   ...      ...      ...      ...      ...    ...    ...   \n48555  2023      2     8        4        0  2023-02  2023-02     24      0   \n48556  2023      2     8        5        1  2023-02  2023-02     24      0   \n48557  2023      2     8        6        1  2023-02  2023-02     24      0   \n48558  2023      2     9        0        0  2023-02  2023-02     24      0   \n48559  2023      2     9        1        0  2023-02  2023-02     24      0   \n\n        수입 중량  수입 금액  무역수지  \n0           0      0   172  \n1           0      0   172  \n2           0      0   172  \n3           0      0   172  \n4           0      0   172  \n...       ...    ...   ...  \n48555  332640    352  -352  \n48556  332640    352  -352  \n48557  332640    352  -352  \n48558  332640    352  -352  \n48559  332640    352  -352  \n\n[48560 rows x 19 columns]",
      "text/html": "<div>\n<style scoped>\n    .dataframe tbody tr th:only-of-type {\n        vertical-align: middle;\n    }\n\n    .dataframe tbody tr th {\n        vertical-align: top;\n    }\n\n    .dataframe thead th {\n        text-align: right;\n    }\n</style>\n<table border=\"1\" class=\"dataframe\">\n  <thead>\n    <tr style=\"text-align: right;\">\n      <th></th>\n      <th>ID</th>\n      <th>timestamp</th>\n      <th>item</th>\n      <th>corporation</th>\n      <th>location</th>\n      <th>supply</th>\n      <th>price</th>\n      <th>year</th>\n      <th>month</th>\n      <th>week</th>\n      <th>weekday</th>\n      <th>holiday</th>\n      <th>y-m</th>\n      <th>기간</th>\n      <th>수출 중량</th>\n      <th>수출 금액</th>\n      <th>수입 중량</th>\n      <th>수입 금액</th>\n      <th>무역수지</th>\n    </tr>\n  </thead>\n  <tbody>\n    <tr>\n      <th>0</th>\n      <td>TG_A_J_20190101</td>\n      <td>2019-01-01</td>\n      <td>TG</td>\n      <td>A</td>\n      <td>J</td>\n      <td>0.0</td>\n      <td>0.0</td>\n      <td>2019</td>\n      <td>1</td>\n      <td>1</td>\n      <td>1</td>\n      <td>0</td>\n      <td>2019-01</td>\n      <td>2019-01</td>\n      <td>58368</td>\n      <td>172</td>\n      <td>0</td>\n      <td>0</td>\n      <td>172</td>\n    </tr>\n    <tr>\n      <th>1</th>\n      <td>TG_A_J_20190102</td>\n      <td>2019-01-02</td>\n      <td>TG</td>\n      <td>A</td>\n      <td>J</td>\n      <td>0.0</td>\n      <td>0.0</td>\n      <td>2019</td>\n      <td>1</td>\n      <td>1</td>\n      <td>2</td>\n      <td>0</td>\n      <td>2019-01</td>\n      <td>2019-01</td>\n      <td>58368</td>\n      <td>172</td>\n      <td>0</td>\n      <td>0</td>\n      <td>172</td>\n    </tr>\n    <tr>\n      <th>2</th>\n      <td>TG_A_J_20190103</td>\n      <td>2019-01-03</td>\n      <td>TG</td>\n      <td>A</td>\n      <td>J</td>\n      <td>60601.0</td>\n      <td>1728.0</td>\n      <td>2019</td>\n      <td>1</td>\n      <td>1</td>\n      <td>3</td>\n      <td>0</td>\n      <td>2019-01</td>\n      <td>2019-01</td>\n      <td>58368</td>\n      <td>172</td>\n      <td>0</td>\n      <td>0</td>\n      <td>172</td>\n    </tr>\n    <tr>\n      <th>3</th>\n      <td>TG_A_J_20190104</td>\n      <td>2019-01-04</td>\n      <td>TG</td>\n      <td>A</td>\n      <td>J</td>\n      <td>25000.0</td>\n      <td>1408.0</td>\n      <td>2019</td>\n      <td>1</td>\n      <td>1</td>\n      <td>4</td>\n      <td>0</td>\n      <td>2019-01</td>\n      <td>2019-01</td>\n      <td>58368</td>\n      <td>172</td>\n      <td>0</td>\n      <td>0</td>\n      <td>172</td>\n    </tr>\n    <tr>\n      <th>4</th>\n      <td>TG_A_J_20190105</td>\n      <td>2019-01-05</td>\n      <td>TG</td>\n      <td>A</td>\n      <td>J</td>\n      <td>32352.0</td>\n      <td>1250.0</td>\n      <td>2019</td>\n      <td>1</td>\n      <td>1</td>\n      <td>5</td>\n      <td>1</td>\n      <td>2019-01</td>\n      <td>2019-01</td>\n      <td>58368</td>\n      <td>172</td>\n      <td>0</td>\n      <td>0</td>\n      <td>172</td>\n    </tr>\n    <tr>\n      <th>...</th>\n      <td>...</td>\n      <td>...</td>\n      <td>...</td>\n      <td>...</td>\n      <td>...</td>\n      <td>...</td>\n      <td>...</td>\n      <td>...</td>\n      <td>...</td>\n      <td>...</td>\n      <td>...</td>\n      <td>...</td>\n      <td>...</td>\n      <td>...</td>\n      <td>...</td>\n      <td>...</td>\n      <td>...</td>\n      <td>...</td>\n      <td>...</td>\n    </tr>\n    <tr>\n      <th>48555</th>\n      <td>BC_E_S_20230224</td>\n      <td>2023-02-24</td>\n      <td>BC</td>\n      <td>E</td>\n      <td>S</td>\n      <td>2104.0</td>\n      <td>2025.0</td>\n      <td>2023</td>\n      <td>2</td>\n      <td>8</td>\n      <td>4</td>\n      <td>0</td>\n      <td>2023-02</td>\n      <td>2023-02</td>\n      <td>24</td>\n      <td>0</td>\n      <td>332640</td>\n      <td>352</td>\n      <td>-352</td>\n    </tr>\n    <tr>\n      <th>48556</th>\n      <td>BC_E_S_20230225</td>\n      <td>2023-02-25</td>\n      <td>BC</td>\n      <td>E</td>\n      <td>S</td>\n      <td>1032.0</td>\n      <td>2353.0</td>\n      <td>2023</td>\n      <td>2</td>\n      <td>8</td>\n      <td>5</td>\n      <td>1</td>\n      <td>2023-02</td>\n      <td>2023-02</td>\n      <td>24</td>\n      <td>0</td>\n      <td>332640</td>\n      <td>352</td>\n      <td>-352</td>\n    </tr>\n    <tr>\n      <th>48557</th>\n      <td>BC_E_S_20230226</td>\n      <td>2023-02-26</td>\n      <td>BC</td>\n      <td>E</td>\n      <td>S</td>\n      <td>0.0</td>\n      <td>0.0</td>\n      <td>2023</td>\n      <td>2</td>\n      <td>8</td>\n      <td>6</td>\n      <td>1</td>\n      <td>2023-02</td>\n      <td>2023-02</td>\n      <td>24</td>\n      <td>0</td>\n      <td>332640</td>\n      <td>352</td>\n      <td>-352</td>\n    </tr>\n    <tr>\n      <th>48558</th>\n      <td>BC_E_S_20230227</td>\n      <td>2023-02-27</td>\n      <td>BC</td>\n      <td>E</td>\n      <td>S</td>\n      <td>2200.0</td>\n      <td>2488.0</td>\n      <td>2023</td>\n      <td>2</td>\n      <td>9</td>\n      <td>0</td>\n      <td>0</td>\n      <td>2023-02</td>\n      <td>2023-02</td>\n      <td>24</td>\n      <td>0</td>\n      <td>332640</td>\n      <td>352</td>\n      <td>-352</td>\n    </tr>\n    <tr>\n      <th>48559</th>\n      <td>BC_E_S_20230228</td>\n      <td>2023-02-28</td>\n      <td>BC</td>\n      <td>E</td>\n      <td>S</td>\n      <td>1024.0</td>\n      <td>3232.0</td>\n      <td>2023</td>\n      <td>2</td>\n      <td>9</td>\n      <td>1</td>\n      <td>0</td>\n      <td>2023-02</td>\n      <td>2023-02</td>\n      <td>24</td>\n      <td>0</td>\n      <td>332640</td>\n      <td>352</td>\n      <td>-352</td>\n    </tr>\n  </tbody>\n</table>\n<p>48560 rows × 19 columns</p>\n</div>"
     },
     "execution_count": 33,
     "metadata": {},
     "output_type": "execute_result"
    }
   ],
   "source": [
    "dr_merged = pd.merge(train, trade, left_on=['item', 'y-m'], right_on=['item', '기간'])\n",
    "dr_merged"
   ],
   "metadata": {
    "collapsed": false,
    "ExecuteTime": {
     "end_time": "2024-02-15T02:26:03.152702400Z",
     "start_time": "2024-02-15T02:26:03.123837300Z"
    }
   },
   "id": "ad396f92db447b22",
   "execution_count": 33
  },
  {
   "cell_type": "code",
   "outputs": [
    {
     "data": {
      "text/plain": "                    ID  timestamp item corporation location   supply   price  \\\n0      TG_A_J_20190101 2019-01-01   TG           A        J      0.0     0.0   \n1      TG_A_J_20190102 2019-01-02   TG           A        J      0.0     0.0   \n2      TG_A_J_20190103 2019-01-03   TG           A        J  60601.0  1728.0   \n3      TG_A_J_20190104 2019-01-04   TG           A        J  25000.0  1408.0   \n4      TG_A_J_20190105 2019-01-05   TG           A        J  32352.0  1250.0   \n...                ...        ...  ...         ...      ...      ...     ...   \n48555  BC_E_S_20230224 2023-02-24   BC           E        S   2104.0  2025.0   \n48556  BC_E_S_20230225 2023-02-25   BC           E        S   1032.0  2353.0   \n48557  BC_E_S_20230226 2023-02-26   BC           E        S      0.0     0.0   \n48558  BC_E_S_20230227 2023-02-27   BC           E        S   2200.0  2488.0   \n48559  BC_E_S_20230228 2023-02-28   BC           E        S   1024.0  3232.0   \n\n       year  month  week  weekday  holiday      y-m       기간  수출 중량  수출 금액  \\\n0      2019      1     1        1        0  2019-01  2019-01  58368    172   \n1      2019      1     1        2        0  2019-01  2019-01  58368    172   \n2      2019      1     1        3        0  2019-01  2019-01  58368    172   \n3      2019      1     1        4        0  2019-01  2019-01  58368    172   \n4      2019      1     1        5        1  2019-01  2019-01  58368    172   \n...     ...    ...   ...      ...      ...      ...      ...    ...    ...   \n48555  2023      2     8        4        0  2023-02  2023-02     24      0   \n48556  2023      2     8        5        1  2023-02  2023-02     24      0   \n48557  2023      2     8        6        1  2023-02  2023-02     24      0   \n48558  2023      2     9        0        0  2023-02  2023-02     24      0   \n48559  2023      2     9        1        0  2023-02  2023-02     24      0   \n\n        수입 중량  수입 금액  무역수지  \n0           0      0   172  \n1           0      0   172  \n2           0      0   172  \n3           0      0   172  \n4           0      0   172  \n...       ...    ...   ...  \n48555  332640    352  -352  \n48556  332640    352  -352  \n48557  332640    352  -352  \n48558  332640    352  -352  \n48559  332640    352  -352  \n\n[48560 rows x 19 columns]",
      "text/html": "<div>\n<style scoped>\n    .dataframe tbody tr th:only-of-type {\n        vertical-align: middle;\n    }\n\n    .dataframe tbody tr th {\n        vertical-align: top;\n    }\n\n    .dataframe thead th {\n        text-align: right;\n    }\n</style>\n<table border=\"1\" class=\"dataframe\">\n  <thead>\n    <tr style=\"text-align: right;\">\n      <th></th>\n      <th>ID</th>\n      <th>timestamp</th>\n      <th>item</th>\n      <th>corporation</th>\n      <th>location</th>\n      <th>supply</th>\n      <th>price</th>\n      <th>year</th>\n      <th>month</th>\n      <th>week</th>\n      <th>weekday</th>\n      <th>holiday</th>\n      <th>y-m</th>\n      <th>기간</th>\n      <th>수출 중량</th>\n      <th>수출 금액</th>\n      <th>수입 중량</th>\n      <th>수입 금액</th>\n      <th>무역수지</th>\n    </tr>\n  </thead>\n  <tbody>\n    <tr>\n      <th>0</th>\n      <td>TG_A_J_20190101</td>\n      <td>2019-01-01</td>\n      <td>TG</td>\n      <td>A</td>\n      <td>J</td>\n      <td>0.0</td>\n      <td>0.0</td>\n      <td>2019</td>\n      <td>1</td>\n      <td>1</td>\n      <td>1</td>\n      <td>0</td>\n      <td>2019-01</td>\n      <td>2019-01</td>\n      <td>58368</td>\n      <td>172</td>\n      <td>0</td>\n      <td>0</td>\n      <td>172</td>\n    </tr>\n    <tr>\n      <th>1</th>\n      <td>TG_A_J_20190102</td>\n      <td>2019-01-02</td>\n      <td>TG</td>\n      <td>A</td>\n      <td>J</td>\n      <td>0.0</td>\n      <td>0.0</td>\n      <td>2019</td>\n      <td>1</td>\n      <td>1</td>\n      <td>2</td>\n      <td>0</td>\n      <td>2019-01</td>\n      <td>2019-01</td>\n      <td>58368</td>\n      <td>172</td>\n      <td>0</td>\n      <td>0</td>\n      <td>172</td>\n    </tr>\n    <tr>\n      <th>2</th>\n      <td>TG_A_J_20190103</td>\n      <td>2019-01-03</td>\n      <td>TG</td>\n      <td>A</td>\n      <td>J</td>\n      <td>60601.0</td>\n      <td>1728.0</td>\n      <td>2019</td>\n      <td>1</td>\n      <td>1</td>\n      <td>3</td>\n      <td>0</td>\n      <td>2019-01</td>\n      <td>2019-01</td>\n      <td>58368</td>\n      <td>172</td>\n      <td>0</td>\n      <td>0</td>\n      <td>172</td>\n    </tr>\n    <tr>\n      <th>3</th>\n      <td>TG_A_J_20190104</td>\n      <td>2019-01-04</td>\n      <td>TG</td>\n      <td>A</td>\n      <td>J</td>\n      <td>25000.0</td>\n      <td>1408.0</td>\n      <td>2019</td>\n      <td>1</td>\n      <td>1</td>\n      <td>4</td>\n      <td>0</td>\n      <td>2019-01</td>\n      <td>2019-01</td>\n      <td>58368</td>\n      <td>172</td>\n      <td>0</td>\n      <td>0</td>\n      <td>172</td>\n    </tr>\n    <tr>\n      <th>4</th>\n      <td>TG_A_J_20190105</td>\n      <td>2019-01-05</td>\n      <td>TG</td>\n      <td>A</td>\n      <td>J</td>\n      <td>32352.0</td>\n      <td>1250.0</td>\n      <td>2019</td>\n      <td>1</td>\n      <td>1</td>\n      <td>5</td>\n      <td>1</td>\n      <td>2019-01</td>\n      <td>2019-01</td>\n      <td>58368</td>\n      <td>172</td>\n      <td>0</td>\n      <td>0</td>\n      <td>172</td>\n    </tr>\n    <tr>\n      <th>...</th>\n      <td>...</td>\n      <td>...</td>\n      <td>...</td>\n      <td>...</td>\n      <td>...</td>\n      <td>...</td>\n      <td>...</td>\n      <td>...</td>\n      <td>...</td>\n      <td>...</td>\n      <td>...</td>\n      <td>...</td>\n      <td>...</td>\n      <td>...</td>\n      <td>...</td>\n      <td>...</td>\n      <td>...</td>\n      <td>...</td>\n      <td>...</td>\n    </tr>\n    <tr>\n      <th>48555</th>\n      <td>BC_E_S_20230224</td>\n      <td>2023-02-24</td>\n      <td>BC</td>\n      <td>E</td>\n      <td>S</td>\n      <td>2104.0</td>\n      <td>2025.0</td>\n      <td>2023</td>\n      <td>2</td>\n      <td>8</td>\n      <td>4</td>\n      <td>0</td>\n      <td>2023-02</td>\n      <td>2023-02</td>\n      <td>24</td>\n      <td>0</td>\n      <td>332640</td>\n      <td>352</td>\n      <td>-352</td>\n    </tr>\n    <tr>\n      <th>48556</th>\n      <td>BC_E_S_20230225</td>\n      <td>2023-02-25</td>\n      <td>BC</td>\n      <td>E</td>\n      <td>S</td>\n      <td>1032.0</td>\n      <td>2353.0</td>\n      <td>2023</td>\n      <td>2</td>\n      <td>8</td>\n      <td>5</td>\n      <td>1</td>\n      <td>2023-02</td>\n      <td>2023-02</td>\n      <td>24</td>\n      <td>0</td>\n      <td>332640</td>\n      <td>352</td>\n      <td>-352</td>\n    </tr>\n    <tr>\n      <th>48557</th>\n      <td>BC_E_S_20230226</td>\n      <td>2023-02-26</td>\n      <td>BC</td>\n      <td>E</td>\n      <td>S</td>\n      <td>0.0</td>\n      <td>0.0</td>\n      <td>2023</td>\n      <td>2</td>\n      <td>8</td>\n      <td>6</td>\n      <td>1</td>\n      <td>2023-02</td>\n      <td>2023-02</td>\n      <td>24</td>\n      <td>0</td>\n      <td>332640</td>\n      <td>352</td>\n      <td>-352</td>\n    </tr>\n    <tr>\n      <th>48558</th>\n      <td>BC_E_S_20230227</td>\n      <td>2023-02-27</td>\n      <td>BC</td>\n      <td>E</td>\n      <td>S</td>\n      <td>2200.0</td>\n      <td>2488.0</td>\n      <td>2023</td>\n      <td>2</td>\n      <td>9</td>\n      <td>0</td>\n      <td>0</td>\n      <td>2023-02</td>\n      <td>2023-02</td>\n      <td>24</td>\n      <td>0</td>\n      <td>332640</td>\n      <td>352</td>\n      <td>-352</td>\n    </tr>\n    <tr>\n      <th>48559</th>\n      <td>BC_E_S_20230228</td>\n      <td>2023-02-28</td>\n      <td>BC</td>\n      <td>E</td>\n      <td>S</td>\n      <td>1024.0</td>\n      <td>3232.0</td>\n      <td>2023</td>\n      <td>2</td>\n      <td>9</td>\n      <td>1</td>\n      <td>0</td>\n      <td>2023-02</td>\n      <td>2023-02</td>\n      <td>24</td>\n      <td>0</td>\n      <td>332640</td>\n      <td>352</td>\n      <td>-352</td>\n    </tr>\n  </tbody>\n</table>\n<p>48560 rows × 19 columns</p>\n</div>"
     },
     "execution_count": 34,
     "metadata": {},
     "output_type": "execute_result"
    }
   ],
   "source": [
    "not_rd_merged = pd.merge(not_RD_train, trade, left_on=['item', 'y-m'], right_on=['item', '기간'])\n",
    "dr_merged"
   ],
   "metadata": {
    "collapsed": false,
    "ExecuteTime": {
     "end_time": "2024-02-15T02:26:08.553959400Z",
     "start_time": "2024-02-15T02:26:08.519651200Z"
    }
   },
   "id": "5cca7a07926508f6",
   "execution_count": 34
  },
  {
   "cell_type": "code",
   "outputs": [],
   "source": [
    "#원-핫 인코딩\n",
    "dr_merged = pd.get_dummies(dr_merged, columns=['item', 'corporation', 'location'], drop_first=True)"
   ],
   "metadata": {
    "collapsed": false,
    "ExecuteTime": {
     "end_time": "2024-02-15T02:26:14.414763700Z",
     "start_time": "2024-02-15T02:26:14.395377400Z"
    }
   },
   "id": "772bc7038cb08dd0",
   "execution_count": 35
  },
  {
   "cell_type": "code",
   "outputs": [
    {
     "data": {
      "text/plain": "                    ID  timestamp   supply   price  year  month  week  \\\n0      TG_A_J_20190101 2019-01-01      0.0     0.0  2019      1     1   \n1      TG_A_J_20190102 2019-01-02      0.0     0.0  2019      1     1   \n2      TG_A_J_20190103 2019-01-03  60601.0  1728.0  2019      1     1   \n3      TG_A_J_20190104 2019-01-04  25000.0  1408.0  2019      1     1   \n4      TG_A_J_20190105 2019-01-05  32352.0  1250.0  2019      1     1   \n...                ...        ...      ...     ...   ...    ...   ...   \n48555  BC_E_S_20230224 2023-02-24   2104.0  2025.0  2023      2     8   \n48556  BC_E_S_20230225 2023-02-25   1032.0  2353.0  2023      2     8   \n48557  BC_E_S_20230226 2023-02-26      0.0     0.0  2023      2     8   \n48558  BC_E_S_20230227 2023-02-27   2200.0  2488.0  2023      2     9   \n48559  BC_E_S_20230228 2023-02-28   1024.0  3232.0  2023      2     9   \n\n       weekday  holiday      y-m  ... item_CB  item_CR  item_RD  item_TG  \\\n0            1        0  2019-01  ...   False    False    False     True   \n1            2        0  2019-01  ...   False    False    False     True   \n2            3        0  2019-01  ...   False    False    False     True   \n3            4        0  2019-01  ...   False    False    False     True   \n4            5        1  2019-01  ...   False    False    False     True   \n...        ...      ...      ...  ...     ...      ...      ...      ...   \n48555        4        0  2023-02  ...   False    False    False    False   \n48556        5        1  2023-02  ...   False    False    False    False   \n48557        6        1  2023-02  ...   False    False    False    False   \n48558        0        0  2023-02  ...   False    False    False    False   \n48559        1        0  2023-02  ...   False    False    False    False   \n\n       corporation_B  corporation_C  corporation_D  corporation_E  \\\n0              False          False          False          False   \n1              False          False          False          False   \n2              False          False          False          False   \n3              False          False          False          False   \n4              False          False          False          False   \n...              ...            ...            ...            ...   \n48555          False          False          False           True   \n48556          False          False          False           True   \n48557          False          False          False           True   \n48558          False          False          False           True   \n48559          False          False          False           True   \n\n       corporation_F  location_S  \n0              False       False  \n1              False       False  \n2              False       False  \n3              False       False  \n4              False       False  \n...              ...         ...  \n48555          False        True  \n48556          False        True  \n48557          False        True  \n48558          False        True  \n48559          False        True  \n\n[48560 rows x 26 columns]",
      "text/html": "<div>\n<style scoped>\n    .dataframe tbody tr th:only-of-type {\n        vertical-align: middle;\n    }\n\n    .dataframe tbody tr th {\n        vertical-align: top;\n    }\n\n    .dataframe thead th {\n        text-align: right;\n    }\n</style>\n<table border=\"1\" class=\"dataframe\">\n  <thead>\n    <tr style=\"text-align: right;\">\n      <th></th>\n      <th>ID</th>\n      <th>timestamp</th>\n      <th>supply</th>\n      <th>price</th>\n      <th>year</th>\n      <th>month</th>\n      <th>week</th>\n      <th>weekday</th>\n      <th>holiday</th>\n      <th>y-m</th>\n      <th>...</th>\n      <th>item_CB</th>\n      <th>item_CR</th>\n      <th>item_RD</th>\n      <th>item_TG</th>\n      <th>corporation_B</th>\n      <th>corporation_C</th>\n      <th>corporation_D</th>\n      <th>corporation_E</th>\n      <th>corporation_F</th>\n      <th>location_S</th>\n    </tr>\n  </thead>\n  <tbody>\n    <tr>\n      <th>0</th>\n      <td>TG_A_J_20190101</td>\n      <td>2019-01-01</td>\n      <td>0.0</td>\n      <td>0.0</td>\n      <td>2019</td>\n      <td>1</td>\n      <td>1</td>\n      <td>1</td>\n      <td>0</td>\n      <td>2019-01</td>\n      <td>...</td>\n      <td>False</td>\n      <td>False</td>\n      <td>False</td>\n      <td>True</td>\n      <td>False</td>\n      <td>False</td>\n      <td>False</td>\n      <td>False</td>\n      <td>False</td>\n      <td>False</td>\n    </tr>\n    <tr>\n      <th>1</th>\n      <td>TG_A_J_20190102</td>\n      <td>2019-01-02</td>\n      <td>0.0</td>\n      <td>0.0</td>\n      <td>2019</td>\n      <td>1</td>\n      <td>1</td>\n      <td>2</td>\n      <td>0</td>\n      <td>2019-01</td>\n      <td>...</td>\n      <td>False</td>\n      <td>False</td>\n      <td>False</td>\n      <td>True</td>\n      <td>False</td>\n      <td>False</td>\n      <td>False</td>\n      <td>False</td>\n      <td>False</td>\n      <td>False</td>\n    </tr>\n    <tr>\n      <th>2</th>\n      <td>TG_A_J_20190103</td>\n      <td>2019-01-03</td>\n      <td>60601.0</td>\n      <td>1728.0</td>\n      <td>2019</td>\n      <td>1</td>\n      <td>1</td>\n      <td>3</td>\n      <td>0</td>\n      <td>2019-01</td>\n      <td>...</td>\n      <td>False</td>\n      <td>False</td>\n      <td>False</td>\n      <td>True</td>\n      <td>False</td>\n      <td>False</td>\n      <td>False</td>\n      <td>False</td>\n      <td>False</td>\n      <td>False</td>\n    </tr>\n    <tr>\n      <th>3</th>\n      <td>TG_A_J_20190104</td>\n      <td>2019-01-04</td>\n      <td>25000.0</td>\n      <td>1408.0</td>\n      <td>2019</td>\n      <td>1</td>\n      <td>1</td>\n      <td>4</td>\n      <td>0</td>\n      <td>2019-01</td>\n      <td>...</td>\n      <td>False</td>\n      <td>False</td>\n      <td>False</td>\n      <td>True</td>\n      <td>False</td>\n      <td>False</td>\n      <td>False</td>\n      <td>False</td>\n      <td>False</td>\n      <td>False</td>\n    </tr>\n    <tr>\n      <th>4</th>\n      <td>TG_A_J_20190105</td>\n      <td>2019-01-05</td>\n      <td>32352.0</td>\n      <td>1250.0</td>\n      <td>2019</td>\n      <td>1</td>\n      <td>1</td>\n      <td>5</td>\n      <td>1</td>\n      <td>2019-01</td>\n      <td>...</td>\n      <td>False</td>\n      <td>False</td>\n      <td>False</td>\n      <td>True</td>\n      <td>False</td>\n      <td>False</td>\n      <td>False</td>\n      <td>False</td>\n      <td>False</td>\n      <td>False</td>\n    </tr>\n    <tr>\n      <th>...</th>\n      <td>...</td>\n      <td>...</td>\n      <td>...</td>\n      <td>...</td>\n      <td>...</td>\n      <td>...</td>\n      <td>...</td>\n      <td>...</td>\n      <td>...</td>\n      <td>...</td>\n      <td>...</td>\n      <td>...</td>\n      <td>...</td>\n      <td>...</td>\n      <td>...</td>\n      <td>...</td>\n      <td>...</td>\n      <td>...</td>\n      <td>...</td>\n      <td>...</td>\n      <td>...</td>\n    </tr>\n    <tr>\n      <th>48555</th>\n      <td>BC_E_S_20230224</td>\n      <td>2023-02-24</td>\n      <td>2104.0</td>\n      <td>2025.0</td>\n      <td>2023</td>\n      <td>2</td>\n      <td>8</td>\n      <td>4</td>\n      <td>0</td>\n      <td>2023-02</td>\n      <td>...</td>\n      <td>False</td>\n      <td>False</td>\n      <td>False</td>\n      <td>False</td>\n      <td>False</td>\n      <td>False</td>\n      <td>False</td>\n      <td>True</td>\n      <td>False</td>\n      <td>True</td>\n    </tr>\n    <tr>\n      <th>48556</th>\n      <td>BC_E_S_20230225</td>\n      <td>2023-02-25</td>\n      <td>1032.0</td>\n      <td>2353.0</td>\n      <td>2023</td>\n      <td>2</td>\n      <td>8</td>\n      <td>5</td>\n      <td>1</td>\n      <td>2023-02</td>\n      <td>...</td>\n      <td>False</td>\n      <td>False</td>\n      <td>False</td>\n      <td>False</td>\n      <td>False</td>\n      <td>False</td>\n      <td>False</td>\n      <td>True</td>\n      <td>False</td>\n      <td>True</td>\n    </tr>\n    <tr>\n      <th>48557</th>\n      <td>BC_E_S_20230226</td>\n      <td>2023-02-26</td>\n      <td>0.0</td>\n      <td>0.0</td>\n      <td>2023</td>\n      <td>2</td>\n      <td>8</td>\n      <td>6</td>\n      <td>1</td>\n      <td>2023-02</td>\n      <td>...</td>\n      <td>False</td>\n      <td>False</td>\n      <td>False</td>\n      <td>False</td>\n      <td>False</td>\n      <td>False</td>\n      <td>False</td>\n      <td>True</td>\n      <td>False</td>\n      <td>True</td>\n    </tr>\n    <tr>\n      <th>48558</th>\n      <td>BC_E_S_20230227</td>\n      <td>2023-02-27</td>\n      <td>2200.0</td>\n      <td>2488.0</td>\n      <td>2023</td>\n      <td>2</td>\n      <td>9</td>\n      <td>0</td>\n      <td>0</td>\n      <td>2023-02</td>\n      <td>...</td>\n      <td>False</td>\n      <td>False</td>\n      <td>False</td>\n      <td>False</td>\n      <td>False</td>\n      <td>False</td>\n      <td>False</td>\n      <td>True</td>\n      <td>False</td>\n      <td>True</td>\n    </tr>\n    <tr>\n      <th>48559</th>\n      <td>BC_E_S_20230228</td>\n      <td>2023-02-28</td>\n      <td>1024.0</td>\n      <td>3232.0</td>\n      <td>2023</td>\n      <td>2</td>\n      <td>9</td>\n      <td>1</td>\n      <td>0</td>\n      <td>2023-02</td>\n      <td>...</td>\n      <td>False</td>\n      <td>False</td>\n      <td>False</td>\n      <td>False</td>\n      <td>False</td>\n      <td>False</td>\n      <td>False</td>\n      <td>True</td>\n      <td>False</td>\n      <td>True</td>\n    </tr>\n  </tbody>\n</table>\n<p>48560 rows × 26 columns</p>\n</div>"
     },
     "execution_count": 36,
     "metadata": {},
     "output_type": "execute_result"
    }
   ],
   "source": [
    "dr_merged"
   ],
   "metadata": {
    "collapsed": false,
    "ExecuteTime": {
     "end_time": "2024-02-15T02:26:18.029546800Z",
     "start_time": "2024-02-15T02:26:18.004446900Z"
    }
   },
   "id": "4168e2cc1cf7c657",
   "execution_count": 36
  },
  {
   "cell_type": "code",
   "outputs": [],
   "source": [
    "TG_train = train[train['item'] == 'TG']\n",
    "TG_trade = trade[trade['item'] == 'TG']"
   ],
   "metadata": {
    "collapsed": false,
    "ExecuteTime": {
     "end_time": "2024-02-15T02:26:58.140562100Z",
     "start_time": "2024-02-15T02:26:58.125256200Z"
    }
   },
   "id": "4b26da41a8dc974a",
   "execution_count": 37
  },
  {
   "cell_type": "code",
   "outputs": [],
   "source": [
    "TG_merged = pd.merge(TG_train, TG_trade, left_on=['item', 'y-m'], right_on=['item', '기간'])"
   ],
   "metadata": {
    "collapsed": false,
    "ExecuteTime": {
     "end_time": "2024-02-15T02:27:02.967653400Z",
     "start_time": "2024-02-15T02:27:02.946690100Z"
    }
   },
   "id": "86a5afa2b101b864",
   "execution_count": 38
  },
  {
   "cell_type": "code",
   "outputs": [
    {
     "data": {
      "text/plain": "                    ID  timestamp   supply   price  year  month  week  \\\n0      TG_A_J_20190101 2019-01-01      0.0     0.0  2019      1     1   \n1      TG_A_J_20190102 2019-01-02      0.0     0.0  2019      1     1   \n2      TG_A_J_20190103 2019-01-03  60601.0  1728.0  2019      1     1   \n3      TG_A_J_20190104 2019-01-04  25000.0  1408.0  2019      1     1   \n4      TG_A_J_20190105 2019-01-05  32352.0  1250.0  2019      1     1   \n...                ...        ...      ...     ...   ...    ...   ...   \n15195  TG_E_S_20230224 2023-02-24  25329.2  3026.0  2023      2     8   \n15196  TG_E_S_20230225 2023-02-25  30300.0  2946.0  2023      2     8   \n15197  TG_E_S_20230226 2023-02-26      0.0     0.0  2023      2     8   \n15198  TG_E_S_20230227 2023-02-27  24204.0  3418.0  2023      2     9   \n15199  TG_E_S_20230228 2023-02-28  13587.0  3141.0  2023      2     9   \n\n       weekday  holiday      y-m  ...  수출 중량  수출 금액  수입 중량  수입 금액  무역수지  \\\n0            1        0  2019-01  ...  58368    172      0      0   172   \n1            2        0  2019-01  ...  58368    172      0      0   172   \n2            3        0  2019-01  ...  58368    172      0      0   172   \n3            4        0  2019-01  ...  58368    172      0      0   172   \n4            5        1  2019-01  ...  58368    172      0      0   172   \n...        ...      ...      ...  ...    ...    ...    ...    ...   ...   \n15195        4        0  2023-02  ...   6895     34  27765     98   -64   \n15196        5        1  2023-02  ...   6895     34  27765     98   -64   \n15197        6        1  2023-02  ...   6895     34  27765     98   -64   \n15198        0        0  2023-02  ...   6895     34  27765     98   -64   \n15199        1        0  2023-02  ...   6895     34  27765     98   -64   \n\n       corporation_B  corporation_C  corporation_D  corporation_E  location_S  \n0              False          False          False          False       False  \n1              False          False          False          False       False  \n2              False          False          False          False       False  \n3              False          False          False          False       False  \n4              False          False          False          False       False  \n...              ...            ...            ...            ...         ...  \n15195          False          False          False           True        True  \n15196          False          False          False           True        True  \n15197          False          False          False           True        True  \n15198          False          False          False           True        True  \n15199          False          False          False           True        True  \n\n[15200 rows x 21 columns]",
      "text/html": "<div>\n<style scoped>\n    .dataframe tbody tr th:only-of-type {\n        vertical-align: middle;\n    }\n\n    .dataframe tbody tr th {\n        vertical-align: top;\n    }\n\n    .dataframe thead th {\n        text-align: right;\n    }\n</style>\n<table border=\"1\" class=\"dataframe\">\n  <thead>\n    <tr style=\"text-align: right;\">\n      <th></th>\n      <th>ID</th>\n      <th>timestamp</th>\n      <th>supply</th>\n      <th>price</th>\n      <th>year</th>\n      <th>month</th>\n      <th>week</th>\n      <th>weekday</th>\n      <th>holiday</th>\n      <th>y-m</th>\n      <th>...</th>\n      <th>수출 중량</th>\n      <th>수출 금액</th>\n      <th>수입 중량</th>\n      <th>수입 금액</th>\n      <th>무역수지</th>\n      <th>corporation_B</th>\n      <th>corporation_C</th>\n      <th>corporation_D</th>\n      <th>corporation_E</th>\n      <th>location_S</th>\n    </tr>\n  </thead>\n  <tbody>\n    <tr>\n      <th>0</th>\n      <td>TG_A_J_20190101</td>\n      <td>2019-01-01</td>\n      <td>0.0</td>\n      <td>0.0</td>\n      <td>2019</td>\n      <td>1</td>\n      <td>1</td>\n      <td>1</td>\n      <td>0</td>\n      <td>2019-01</td>\n      <td>...</td>\n      <td>58368</td>\n      <td>172</td>\n      <td>0</td>\n      <td>0</td>\n      <td>172</td>\n      <td>False</td>\n      <td>False</td>\n      <td>False</td>\n      <td>False</td>\n      <td>False</td>\n    </tr>\n    <tr>\n      <th>1</th>\n      <td>TG_A_J_20190102</td>\n      <td>2019-01-02</td>\n      <td>0.0</td>\n      <td>0.0</td>\n      <td>2019</td>\n      <td>1</td>\n      <td>1</td>\n      <td>2</td>\n      <td>0</td>\n      <td>2019-01</td>\n      <td>...</td>\n      <td>58368</td>\n      <td>172</td>\n      <td>0</td>\n      <td>0</td>\n      <td>172</td>\n      <td>False</td>\n      <td>False</td>\n      <td>False</td>\n      <td>False</td>\n      <td>False</td>\n    </tr>\n    <tr>\n      <th>2</th>\n      <td>TG_A_J_20190103</td>\n      <td>2019-01-03</td>\n      <td>60601.0</td>\n      <td>1728.0</td>\n      <td>2019</td>\n      <td>1</td>\n      <td>1</td>\n      <td>3</td>\n      <td>0</td>\n      <td>2019-01</td>\n      <td>...</td>\n      <td>58368</td>\n      <td>172</td>\n      <td>0</td>\n      <td>0</td>\n      <td>172</td>\n      <td>False</td>\n      <td>False</td>\n      <td>False</td>\n      <td>False</td>\n      <td>False</td>\n    </tr>\n    <tr>\n      <th>3</th>\n      <td>TG_A_J_20190104</td>\n      <td>2019-01-04</td>\n      <td>25000.0</td>\n      <td>1408.0</td>\n      <td>2019</td>\n      <td>1</td>\n      <td>1</td>\n      <td>4</td>\n      <td>0</td>\n      <td>2019-01</td>\n      <td>...</td>\n      <td>58368</td>\n      <td>172</td>\n      <td>0</td>\n      <td>0</td>\n      <td>172</td>\n      <td>False</td>\n      <td>False</td>\n      <td>False</td>\n      <td>False</td>\n      <td>False</td>\n    </tr>\n    <tr>\n      <th>4</th>\n      <td>TG_A_J_20190105</td>\n      <td>2019-01-05</td>\n      <td>32352.0</td>\n      <td>1250.0</td>\n      <td>2019</td>\n      <td>1</td>\n      <td>1</td>\n      <td>5</td>\n      <td>1</td>\n      <td>2019-01</td>\n      <td>...</td>\n      <td>58368</td>\n      <td>172</td>\n      <td>0</td>\n      <td>0</td>\n      <td>172</td>\n      <td>False</td>\n      <td>False</td>\n      <td>False</td>\n      <td>False</td>\n      <td>False</td>\n    </tr>\n    <tr>\n      <th>...</th>\n      <td>...</td>\n      <td>...</td>\n      <td>...</td>\n      <td>...</td>\n      <td>...</td>\n      <td>...</td>\n      <td>...</td>\n      <td>...</td>\n      <td>...</td>\n      <td>...</td>\n      <td>...</td>\n      <td>...</td>\n      <td>...</td>\n      <td>...</td>\n      <td>...</td>\n      <td>...</td>\n      <td>...</td>\n      <td>...</td>\n      <td>...</td>\n      <td>...</td>\n      <td>...</td>\n    </tr>\n    <tr>\n      <th>15195</th>\n      <td>TG_E_S_20230224</td>\n      <td>2023-02-24</td>\n      <td>25329.2</td>\n      <td>3026.0</td>\n      <td>2023</td>\n      <td>2</td>\n      <td>8</td>\n      <td>4</td>\n      <td>0</td>\n      <td>2023-02</td>\n      <td>...</td>\n      <td>6895</td>\n      <td>34</td>\n      <td>27765</td>\n      <td>98</td>\n      <td>-64</td>\n      <td>False</td>\n      <td>False</td>\n      <td>False</td>\n      <td>True</td>\n      <td>True</td>\n    </tr>\n    <tr>\n      <th>15196</th>\n      <td>TG_E_S_20230225</td>\n      <td>2023-02-25</td>\n      <td>30300.0</td>\n      <td>2946.0</td>\n      <td>2023</td>\n      <td>2</td>\n      <td>8</td>\n      <td>5</td>\n      <td>1</td>\n      <td>2023-02</td>\n      <td>...</td>\n      <td>6895</td>\n      <td>34</td>\n      <td>27765</td>\n      <td>98</td>\n      <td>-64</td>\n      <td>False</td>\n      <td>False</td>\n      <td>False</td>\n      <td>True</td>\n      <td>True</td>\n    </tr>\n    <tr>\n      <th>15197</th>\n      <td>TG_E_S_20230226</td>\n      <td>2023-02-26</td>\n      <td>0.0</td>\n      <td>0.0</td>\n      <td>2023</td>\n      <td>2</td>\n      <td>8</td>\n      <td>6</td>\n      <td>1</td>\n      <td>2023-02</td>\n      <td>...</td>\n      <td>6895</td>\n      <td>34</td>\n      <td>27765</td>\n      <td>98</td>\n      <td>-64</td>\n      <td>False</td>\n      <td>False</td>\n      <td>False</td>\n      <td>True</td>\n      <td>True</td>\n    </tr>\n    <tr>\n      <th>15198</th>\n      <td>TG_E_S_20230227</td>\n      <td>2023-02-27</td>\n      <td>24204.0</td>\n      <td>3418.0</td>\n      <td>2023</td>\n      <td>2</td>\n      <td>9</td>\n      <td>0</td>\n      <td>0</td>\n      <td>2023-02</td>\n      <td>...</td>\n      <td>6895</td>\n      <td>34</td>\n      <td>27765</td>\n      <td>98</td>\n      <td>-64</td>\n      <td>False</td>\n      <td>False</td>\n      <td>False</td>\n      <td>True</td>\n      <td>True</td>\n    </tr>\n    <tr>\n      <th>15199</th>\n      <td>TG_E_S_20230228</td>\n      <td>2023-02-28</td>\n      <td>13587.0</td>\n      <td>3141.0</td>\n      <td>2023</td>\n      <td>2</td>\n      <td>9</td>\n      <td>1</td>\n      <td>0</td>\n      <td>2023-02</td>\n      <td>...</td>\n      <td>6895</td>\n      <td>34</td>\n      <td>27765</td>\n      <td>98</td>\n      <td>-64</td>\n      <td>False</td>\n      <td>False</td>\n      <td>False</td>\n      <td>True</td>\n      <td>True</td>\n    </tr>\n  </tbody>\n</table>\n<p>15200 rows × 21 columns</p>\n</div>"
     },
     "execution_count": 39,
     "metadata": {},
     "output_type": "execute_result"
    }
   ],
   "source": [
    "#원-핫 인코딩\n",
    "TG_merged = pd.get_dummies(TG_merged, columns=['item', 'corporation', 'location'], drop_first=True)\n",
    "TG_merged"
   ],
   "metadata": {
    "collapsed": false,
    "ExecuteTime": {
     "end_time": "2024-02-15T02:27:06.735434500Z",
     "start_time": "2024-02-15T02:27:06.702617100Z"
    }
   },
   "id": "302bf1713151cfbd",
   "execution_count": 39
  },
  {
   "cell_type": "code",
   "outputs": [
    {
     "name": "stdout",
     "output_type": "stream",
     "text": [
      "[LightGBM] [Warning] Found whitespace in feature_names, replace with underlines\n",
      "[LightGBM] [Info] Auto-choosing row-wise multi-threading, the overhead of testing was 0.000537 seconds.\n",
      "You can set `force_row_wise=true` to remove the overhead.\n",
      "And if memory is not enough, you can set `force_col_wise=true`.\n",
      "[LightGBM] [Info] Total Bins 406\n",
      "[LightGBM] [Info] Number of data points in the train set: 12160, number of used features: 13\n",
      "[LightGBM] [Info] Start training from score 3190.266694\n",
      "Root Mean Squared Error: 736.9042038638041\n"
     ]
    }
   ],
   "source": [
    "#TG LGBM 모델링\n",
    "from lightgbm import LGBMRegressor\n",
    "import numpy as np\n",
    "import pandas as pd\n",
    "from sklearn.model_selection import train_test_split\n",
    "from sklearn.metrics import mean_squared_error\n",
    "\n",
    "# 특성과 타겟 데이터 분리\n",
    "columns_to_drop = ['price', 'ID', 'timestamp', '기간','수출 중량','수입 금액','무역수지','y-m']\n",
    "X = TG_merged.drop(columns=columns_to_drop)\n",
    "y = TG_merged['price']\n",
    "\n",
    "# 데이터를 학습용과 테스트용으로 나누기\n",
    "X_train, X_test, y_train, y_test = train_test_split(X, y, test_size=0.2, random_state=42)\n",
    "\n",
    "# LightGBM 회귀 모델 생성\n",
    "TG_lgbm_model = LGBMRegressor()\n",
    "\n",
    "# LightGBM 모델 학습\n",
    "TG_lgbm_model.fit(X_train, y_train)\n",
    "\n",
    "# 테스트 데이터에 대한 예측\n",
    "y_pred = TG_lgbm_model.predict(X_test)\n",
    "\n",
    "# 회귀 모델의 성능 평가 (RMSE 구하기)\n",
    "rmse = np.sqrt(mean_squared_error(y_test, y_pred))\n",
    "print(f'Root Mean Squared Error: {rmse}')"
   ],
   "metadata": {
    "collapsed": false,
    "ExecuteTime": {
     "end_time": "2024-02-15T02:27:21.019663300Z",
     "start_time": "2024-02-15T02:27:18.993237100Z"
    }
   },
   "id": "c2932dae65b6ea55",
   "execution_count": 40
  },
  {
   "cell_type": "code",
   "outputs": [],
   "source": [
    "RD_train = train[train['item'] == 'RD']"
   ],
   "metadata": {
    "collapsed": false,
    "ExecuteTime": {
     "end_time": "2024-02-15T02:27:27.120201600Z",
     "start_time": "2024-02-15T02:27:27.100179200Z"
    }
   },
   "id": "e32bc2c3ded242be",
   "execution_count": 41
  },
  {
   "cell_type": "code",
   "outputs": [
    {
     "data": {
      "text/plain": "                    ID  timestamp    supply  price  year  month  week  \\\n31983  RD_A_J_20190101 2019-01-01       0.0    0.0  2019      1     1   \n31984  RD_A_J_20190102 2019-01-02       0.0    0.0  2019      1     1   \n31985  RD_A_J_20190103 2019-01-03   37060.0  367.0  2019      1     1   \n31986  RD_A_J_20190104 2019-01-04   19260.0  460.0  2019      1     1   \n31987  RD_A_J_20190105 2019-01-05   32140.0  402.0  2019      1     1   \n...                ...        ...       ...    ...   ...    ...   ...   \n59392  RD_F_J_20230227 2023-02-27  452440.0  468.0  2023      2     9   \n59393  RD_F_J_20230228 2023-02-28  421980.0  531.0  2023      2     9   \n59394  RD_F_J_20230301 2023-03-01  382980.0  574.0  2023      3     9   \n59395  RD_F_J_20230302 2023-03-02  477220.0  523.0  2023      3     9   \n59396  RD_F_J_20230303 2023-03-03  427520.0  529.0  2023      3     9   \n\n       weekday  holiday      y-m  corporation_C  corporation_D  corporation_E  \\\n31983        1        0  2019-01          False          False          False   \n31984        2        0  2019-01          False          False          False   \n31985        3        0  2019-01          False          False          False   \n31986        4        0  2019-01          False          False          False   \n31987        5        1  2019-01          False          False          False   \n...        ...      ...      ...            ...            ...            ...   \n59392        0        0  2023-02          False          False          False   \n59393        1        0  2023-02          False          False          False   \n59394        2        0  2023-03          False          False          False   \n59395        3        0  2023-03          False          False          False   \n59396        4        0  2023-03          False          False          False   \n\n       corporation_F  location_S  \n31983          False       False  \n31984          False       False  \n31985          False       False  \n31986          False       False  \n31987          False       False  \n...              ...         ...  \n59392           True       False  \n59393           True       False  \n59394           True       False  \n59395           True       False  \n59396           True       False  \n\n[12184 rows x 15 columns]",
      "text/html": "<div>\n<style scoped>\n    .dataframe tbody tr th:only-of-type {\n        vertical-align: middle;\n    }\n\n    .dataframe tbody tr th {\n        vertical-align: top;\n    }\n\n    .dataframe thead th {\n        text-align: right;\n    }\n</style>\n<table border=\"1\" class=\"dataframe\">\n  <thead>\n    <tr style=\"text-align: right;\">\n      <th></th>\n      <th>ID</th>\n      <th>timestamp</th>\n      <th>supply</th>\n      <th>price</th>\n      <th>year</th>\n      <th>month</th>\n      <th>week</th>\n      <th>weekday</th>\n      <th>holiday</th>\n      <th>y-m</th>\n      <th>corporation_C</th>\n      <th>corporation_D</th>\n      <th>corporation_E</th>\n      <th>corporation_F</th>\n      <th>location_S</th>\n    </tr>\n  </thead>\n  <tbody>\n    <tr>\n      <th>31983</th>\n      <td>RD_A_J_20190101</td>\n      <td>2019-01-01</td>\n      <td>0.0</td>\n      <td>0.0</td>\n      <td>2019</td>\n      <td>1</td>\n      <td>1</td>\n      <td>1</td>\n      <td>0</td>\n      <td>2019-01</td>\n      <td>False</td>\n      <td>False</td>\n      <td>False</td>\n      <td>False</td>\n      <td>False</td>\n    </tr>\n    <tr>\n      <th>31984</th>\n      <td>RD_A_J_20190102</td>\n      <td>2019-01-02</td>\n      <td>0.0</td>\n      <td>0.0</td>\n      <td>2019</td>\n      <td>1</td>\n      <td>1</td>\n      <td>2</td>\n      <td>0</td>\n      <td>2019-01</td>\n      <td>False</td>\n      <td>False</td>\n      <td>False</td>\n      <td>False</td>\n      <td>False</td>\n    </tr>\n    <tr>\n      <th>31985</th>\n      <td>RD_A_J_20190103</td>\n      <td>2019-01-03</td>\n      <td>37060.0</td>\n      <td>367.0</td>\n      <td>2019</td>\n      <td>1</td>\n      <td>1</td>\n      <td>3</td>\n      <td>0</td>\n      <td>2019-01</td>\n      <td>False</td>\n      <td>False</td>\n      <td>False</td>\n      <td>False</td>\n      <td>False</td>\n    </tr>\n    <tr>\n      <th>31986</th>\n      <td>RD_A_J_20190104</td>\n      <td>2019-01-04</td>\n      <td>19260.0</td>\n      <td>460.0</td>\n      <td>2019</td>\n      <td>1</td>\n      <td>1</td>\n      <td>4</td>\n      <td>0</td>\n      <td>2019-01</td>\n      <td>False</td>\n      <td>False</td>\n      <td>False</td>\n      <td>False</td>\n      <td>False</td>\n    </tr>\n    <tr>\n      <th>31987</th>\n      <td>RD_A_J_20190105</td>\n      <td>2019-01-05</td>\n      <td>32140.0</td>\n      <td>402.0</td>\n      <td>2019</td>\n      <td>1</td>\n      <td>1</td>\n      <td>5</td>\n      <td>1</td>\n      <td>2019-01</td>\n      <td>False</td>\n      <td>False</td>\n      <td>False</td>\n      <td>False</td>\n      <td>False</td>\n    </tr>\n    <tr>\n      <th>...</th>\n      <td>...</td>\n      <td>...</td>\n      <td>...</td>\n      <td>...</td>\n      <td>...</td>\n      <td>...</td>\n      <td>...</td>\n      <td>...</td>\n      <td>...</td>\n      <td>...</td>\n      <td>...</td>\n      <td>...</td>\n      <td>...</td>\n      <td>...</td>\n      <td>...</td>\n    </tr>\n    <tr>\n      <th>59392</th>\n      <td>RD_F_J_20230227</td>\n      <td>2023-02-27</td>\n      <td>452440.0</td>\n      <td>468.0</td>\n      <td>2023</td>\n      <td>2</td>\n      <td>9</td>\n      <td>0</td>\n      <td>0</td>\n      <td>2023-02</td>\n      <td>False</td>\n      <td>False</td>\n      <td>False</td>\n      <td>True</td>\n      <td>False</td>\n    </tr>\n    <tr>\n      <th>59393</th>\n      <td>RD_F_J_20230228</td>\n      <td>2023-02-28</td>\n      <td>421980.0</td>\n      <td>531.0</td>\n      <td>2023</td>\n      <td>2</td>\n      <td>9</td>\n      <td>1</td>\n      <td>0</td>\n      <td>2023-02</td>\n      <td>False</td>\n      <td>False</td>\n      <td>False</td>\n      <td>True</td>\n      <td>False</td>\n    </tr>\n    <tr>\n      <th>59394</th>\n      <td>RD_F_J_20230301</td>\n      <td>2023-03-01</td>\n      <td>382980.0</td>\n      <td>574.0</td>\n      <td>2023</td>\n      <td>3</td>\n      <td>9</td>\n      <td>2</td>\n      <td>0</td>\n      <td>2023-03</td>\n      <td>False</td>\n      <td>False</td>\n      <td>False</td>\n      <td>True</td>\n      <td>False</td>\n    </tr>\n    <tr>\n      <th>59395</th>\n      <td>RD_F_J_20230302</td>\n      <td>2023-03-02</td>\n      <td>477220.0</td>\n      <td>523.0</td>\n      <td>2023</td>\n      <td>3</td>\n      <td>9</td>\n      <td>3</td>\n      <td>0</td>\n      <td>2023-03</td>\n      <td>False</td>\n      <td>False</td>\n      <td>False</td>\n      <td>True</td>\n      <td>False</td>\n    </tr>\n    <tr>\n      <th>59396</th>\n      <td>RD_F_J_20230303</td>\n      <td>2023-03-03</td>\n      <td>427520.0</td>\n      <td>529.0</td>\n      <td>2023</td>\n      <td>3</td>\n      <td>9</td>\n      <td>4</td>\n      <td>0</td>\n      <td>2023-03</td>\n      <td>False</td>\n      <td>False</td>\n      <td>False</td>\n      <td>True</td>\n      <td>False</td>\n    </tr>\n  </tbody>\n</table>\n<p>12184 rows × 15 columns</p>\n</div>"
     },
     "execution_count": 42,
     "metadata": {},
     "output_type": "execute_result"
    }
   ],
   "source": [
    "#원-핫 인코딩\n",
    "RD_encoding = pd.get_dummies(RD_train, columns=['item', 'corporation', 'location'], drop_first=True)\n",
    "RD_encoding"
   ],
   "metadata": {
    "collapsed": false,
    "ExecuteTime": {
     "end_time": "2024-02-15T02:27:30.789297300Z",
     "start_time": "2024-02-15T02:27:30.761061400Z"
    }
   },
   "id": "ba9759abb2a5f28a",
   "execution_count": 42
  },
  {
   "cell_type": "code",
   "outputs": [
    {
     "name": "stdout",
     "output_type": "stream",
     "text": [
      "[LightGBM] [Info] Auto-choosing row-wise multi-threading, the overhead of testing was 0.000448 seconds.\n",
      "You can set `force_row_wise=true` to remove the overhead.\n",
      "And if memory is not enough, you can set `force_col_wise=true`.\n",
      "[LightGBM] [Info] Total Bins 347\n",
      "[LightGBM] [Info] Number of data points in the train set: 9747, number of used features: 11\n",
      "[LightGBM] [Info] Start training from score 184.617831\n",
      "Root Mean Squared Error: 61.4544381090566\n"
     ]
    }
   ],
   "source": [
    "from lightgbm import LGBMRegressor\n",
    "import numpy as np\n",
    "import pandas as pd\n",
    "from sklearn.model_selection import train_test_split\n",
    "from sklearn.metrics import mean_squared_error\n",
    "\n",
    "# 특성과 타겟 데이터 분리\n",
    "columns_to_drop = ['price', 'ID', 'timestamp','y-m']\n",
    "X = RD_encoding.drop(columns=columns_to_drop)\n",
    "y = RD_encoding['price']\n",
    "\n",
    "# 데이터를 학습용과 테스트용으로 나누기\n",
    "X_train, X_test, y_train, y_test = train_test_split(X, y, test_size=0.2, random_state=42)\n",
    "\n",
    "# LightGBM 회귀 모델 생성\n",
    "RD_lgbm_model = LGBMRegressor()\n",
    "\n",
    "# LightGBM 모델 학습\n",
    "RD_lgbm_model.fit(X_train, y_train)\n",
    "\n",
    "# 테스트 데이터에 대한 예측\n",
    "y_pred = RD_lgbm_model.predict(X_test)\n",
    "\n",
    "# 회귀 모델의 성능 평가 (RMSE 구하기)\n",
    "rmse = np.sqrt(mean_squared_error(y_test, y_pred))\n",
    "print(f'Root Mean Squared Error: {rmse}')"
   ],
   "metadata": {
    "collapsed": false,
    "ExecuteTime": {
     "end_time": "2024-02-15T02:27:36.907747900Z",
     "start_time": "2024-02-15T02:27:36.833952100Z"
    }
   },
   "id": "94589524c77e7fa9",
   "execution_count": 43
  },
  {
   "cell_type": "code",
   "outputs": [
    {
     "name": "stdout",
     "output_type": "stream",
     "text": [
      "R2 점수: 0.9680\n",
      "MAE: 65.6582\n",
      "MSE: 37264.9427\n",
      "RMSE: 193.0413\n"
     ]
    }
   ],
   "source": [
    "from sklearn.metrics import r2_score, mean_absolute_error, mean_squared_error\n",
    "\n",
    "# R2 점수 계산\n",
    "r2 = r2_score(y_test, y_pred)\n",
    "\n",
    "# 평균 절대 오류 (MAE) 계산\n",
    "mae = mean_absolute_error(y_test, y_pred)\n",
    "\n",
    "# 평균 제곱 오류 (MSE) 계산\n",
    "mse = mean_squared_error(y_test, y_pred)\n",
    "\n",
    "# 루트 평균 제곱 오류 (RMSE) 계산\n",
    "rmse = np.sqrt(mse)\n",
    "\n",
    "# 모델 성능 평가 결과 출력\n",
    "print(f'R2 점수: {r2:.4f}')\n",
    "print(f'MAE: {mae:.4f}')\n",
    "print(f'MSE: {mse:.4f}')\n",
    "print(f'RMSE: {rmse:.4f}')"
   ],
   "metadata": {
    "collapsed": false,
    "ExecuteTime": {
     "end_time": "2024-02-15T02:36:39.343502800Z",
     "start_time": "2024-02-15T02:36:39.315373200Z"
    }
   },
   "id": "968d8b71d1c98a47",
   "execution_count": 58
  },
  {
   "cell_type": "code",
   "outputs": [],
   "source": [
    "Other_train = train[(train['item'] == 'BC') | (train['item'] == 'CR') | (train['item'] == 'CB')]\n",
    "Other_trade = trade[(trade['item'] == 'BC') | (trade['item'] == 'CR') | (trade['item'] == 'CB')]"
   ],
   "metadata": {
    "collapsed": false,
    "ExecuteTime": {
     "end_time": "2024-02-15T02:27:45.407344700Z",
     "start_time": "2024-02-15T02:27:45.380147700Z"
    }
   },
   "id": "964cf87a21c0604",
   "execution_count": 44
  },
  {
   "cell_type": "code",
   "outputs": [],
   "source": [
    "Other_merged = pd.merge(Other_train, Other_trade, left_on=['item', 'y-m'], right_on=['item', '기간'])"
   ],
   "metadata": {
    "collapsed": false,
    "ExecuteTime": {
     "end_time": "2024-02-15T02:27:50.485604800Z",
     "start_time": "2024-02-15T02:27:50.461008500Z"
    }
   },
   "id": "2b53303005e52447",
   "execution_count": 45
  },
  {
   "cell_type": "code",
   "outputs": [
    {
     "data": {
      "text/plain": "                    ID  timestamp   supply   price  year  month  week  \\\n0      CR_A_J_20190101 2019-01-01      0.0     0.0  2019      1     1   \n1      CR_A_J_20190102 2019-01-02      0.0     0.0  2019      1     1   \n2      CR_A_J_20190103 2019-01-03      0.0     0.0  2019      1     1   \n3      CR_A_J_20190104 2019-01-04  10240.0  1141.0  2019      1     1   \n4      CR_A_J_20190105 2019-01-05   8680.0  1133.0  2019      1     1   \n...                ...        ...      ...     ...   ...    ...   ...   \n31915  BC_E_S_20230224 2023-02-24   2104.0  2025.0  2023      2     8   \n31916  BC_E_S_20230225 2023-02-25   1032.0  2353.0  2023      2     8   \n31917  BC_E_S_20230226 2023-02-26      0.0     0.0  2023      2     8   \n31918  BC_E_S_20230227 2023-02-27   2200.0  2488.0  2023      2     9   \n31919  BC_E_S_20230228 2023-02-28   1024.0  3232.0  2023      2     9   \n\n       weekday  holiday      y-m  ... 수입 금액  무역수지  item_CB  item_CR  \\\n0            1        0  2019-01  ...  2955 -2934    False     True   \n1            2        0  2019-01  ...  2955 -2934    False     True   \n2            3        0  2019-01  ...  2955 -2934    False     True   \n3            4        0  2019-01  ...  2955 -2934    False     True   \n4            5        1  2019-01  ...  2955 -2934    False     True   \n...        ...      ...      ...  ...   ...   ...      ...      ...   \n31915        4        0  2023-02  ...   352  -352    False    False   \n31916        5        1  2023-02  ...   352  -352    False    False   \n31917        6        1  2023-02  ...   352  -352    False    False   \n31918        0        0  2023-02  ...   352  -352    False    False   \n31919        1        0  2023-02  ...   352  -352    False    False   \n\n       corporation_B  corporation_C  corporation_D  corporation_E  \\\n0              False          False          False          False   \n1              False          False          False          False   \n2              False          False          False          False   \n3              False          False          False          False   \n4              False          False          False          False   \n...              ...            ...            ...            ...   \n31915          False          False          False           True   \n31916          False          False          False           True   \n31917          False          False          False           True   \n31918          False          False          False           True   \n31919          False          False          False           True   \n\n       corporation_F  location_S  \n0              False       False  \n1              False       False  \n2              False       False  \n3              False       False  \n4              False       False  \n...              ...         ...  \n31915          False        True  \n31916          False        True  \n31917          False        True  \n31918          False        True  \n31919          False        True  \n\n[31920 rows x 24 columns]",
      "text/html": "<div>\n<style scoped>\n    .dataframe tbody tr th:only-of-type {\n        vertical-align: middle;\n    }\n\n    .dataframe tbody tr th {\n        vertical-align: top;\n    }\n\n    .dataframe thead th {\n        text-align: right;\n    }\n</style>\n<table border=\"1\" class=\"dataframe\">\n  <thead>\n    <tr style=\"text-align: right;\">\n      <th></th>\n      <th>ID</th>\n      <th>timestamp</th>\n      <th>supply</th>\n      <th>price</th>\n      <th>year</th>\n      <th>month</th>\n      <th>week</th>\n      <th>weekday</th>\n      <th>holiday</th>\n      <th>y-m</th>\n      <th>...</th>\n      <th>수입 금액</th>\n      <th>무역수지</th>\n      <th>item_CB</th>\n      <th>item_CR</th>\n      <th>corporation_B</th>\n      <th>corporation_C</th>\n      <th>corporation_D</th>\n      <th>corporation_E</th>\n      <th>corporation_F</th>\n      <th>location_S</th>\n    </tr>\n  </thead>\n  <tbody>\n    <tr>\n      <th>0</th>\n      <td>CR_A_J_20190101</td>\n      <td>2019-01-01</td>\n      <td>0.0</td>\n      <td>0.0</td>\n      <td>2019</td>\n      <td>1</td>\n      <td>1</td>\n      <td>1</td>\n      <td>0</td>\n      <td>2019-01</td>\n      <td>...</td>\n      <td>2955</td>\n      <td>-2934</td>\n      <td>False</td>\n      <td>True</td>\n      <td>False</td>\n      <td>False</td>\n      <td>False</td>\n      <td>False</td>\n      <td>False</td>\n      <td>False</td>\n    </tr>\n    <tr>\n      <th>1</th>\n      <td>CR_A_J_20190102</td>\n      <td>2019-01-02</td>\n      <td>0.0</td>\n      <td>0.0</td>\n      <td>2019</td>\n      <td>1</td>\n      <td>1</td>\n      <td>2</td>\n      <td>0</td>\n      <td>2019-01</td>\n      <td>...</td>\n      <td>2955</td>\n      <td>-2934</td>\n      <td>False</td>\n      <td>True</td>\n      <td>False</td>\n      <td>False</td>\n      <td>False</td>\n      <td>False</td>\n      <td>False</td>\n      <td>False</td>\n    </tr>\n    <tr>\n      <th>2</th>\n      <td>CR_A_J_20190103</td>\n      <td>2019-01-03</td>\n      <td>0.0</td>\n      <td>0.0</td>\n      <td>2019</td>\n      <td>1</td>\n      <td>1</td>\n      <td>3</td>\n      <td>0</td>\n      <td>2019-01</td>\n      <td>...</td>\n      <td>2955</td>\n      <td>-2934</td>\n      <td>False</td>\n      <td>True</td>\n      <td>False</td>\n      <td>False</td>\n      <td>False</td>\n      <td>False</td>\n      <td>False</td>\n      <td>False</td>\n    </tr>\n    <tr>\n      <th>3</th>\n      <td>CR_A_J_20190104</td>\n      <td>2019-01-04</td>\n      <td>10240.0</td>\n      <td>1141.0</td>\n      <td>2019</td>\n      <td>1</td>\n      <td>1</td>\n      <td>4</td>\n      <td>0</td>\n      <td>2019-01</td>\n      <td>...</td>\n      <td>2955</td>\n      <td>-2934</td>\n      <td>False</td>\n      <td>True</td>\n      <td>False</td>\n      <td>False</td>\n      <td>False</td>\n      <td>False</td>\n      <td>False</td>\n      <td>False</td>\n    </tr>\n    <tr>\n      <th>4</th>\n      <td>CR_A_J_20190105</td>\n      <td>2019-01-05</td>\n      <td>8680.0</td>\n      <td>1133.0</td>\n      <td>2019</td>\n      <td>1</td>\n      <td>1</td>\n      <td>5</td>\n      <td>1</td>\n      <td>2019-01</td>\n      <td>...</td>\n      <td>2955</td>\n      <td>-2934</td>\n      <td>False</td>\n      <td>True</td>\n      <td>False</td>\n      <td>False</td>\n      <td>False</td>\n      <td>False</td>\n      <td>False</td>\n      <td>False</td>\n    </tr>\n    <tr>\n      <th>...</th>\n      <td>...</td>\n      <td>...</td>\n      <td>...</td>\n      <td>...</td>\n      <td>...</td>\n      <td>...</td>\n      <td>...</td>\n      <td>...</td>\n      <td>...</td>\n      <td>...</td>\n      <td>...</td>\n      <td>...</td>\n      <td>...</td>\n      <td>...</td>\n      <td>...</td>\n      <td>...</td>\n      <td>...</td>\n      <td>...</td>\n      <td>...</td>\n      <td>...</td>\n      <td>...</td>\n    </tr>\n    <tr>\n      <th>31915</th>\n      <td>BC_E_S_20230224</td>\n      <td>2023-02-24</td>\n      <td>2104.0</td>\n      <td>2025.0</td>\n      <td>2023</td>\n      <td>2</td>\n      <td>8</td>\n      <td>4</td>\n      <td>0</td>\n      <td>2023-02</td>\n      <td>...</td>\n      <td>352</td>\n      <td>-352</td>\n      <td>False</td>\n      <td>False</td>\n      <td>False</td>\n      <td>False</td>\n      <td>False</td>\n      <td>True</td>\n      <td>False</td>\n      <td>True</td>\n    </tr>\n    <tr>\n      <th>31916</th>\n      <td>BC_E_S_20230225</td>\n      <td>2023-02-25</td>\n      <td>1032.0</td>\n      <td>2353.0</td>\n      <td>2023</td>\n      <td>2</td>\n      <td>8</td>\n      <td>5</td>\n      <td>1</td>\n      <td>2023-02</td>\n      <td>...</td>\n      <td>352</td>\n      <td>-352</td>\n      <td>False</td>\n      <td>False</td>\n      <td>False</td>\n      <td>False</td>\n      <td>False</td>\n      <td>True</td>\n      <td>False</td>\n      <td>True</td>\n    </tr>\n    <tr>\n      <th>31917</th>\n      <td>BC_E_S_20230226</td>\n      <td>2023-02-26</td>\n      <td>0.0</td>\n      <td>0.0</td>\n      <td>2023</td>\n      <td>2</td>\n      <td>8</td>\n      <td>6</td>\n      <td>1</td>\n      <td>2023-02</td>\n      <td>...</td>\n      <td>352</td>\n      <td>-352</td>\n      <td>False</td>\n      <td>False</td>\n      <td>False</td>\n      <td>False</td>\n      <td>False</td>\n      <td>True</td>\n      <td>False</td>\n      <td>True</td>\n    </tr>\n    <tr>\n      <th>31918</th>\n      <td>BC_E_S_20230227</td>\n      <td>2023-02-27</td>\n      <td>2200.0</td>\n      <td>2488.0</td>\n      <td>2023</td>\n      <td>2</td>\n      <td>9</td>\n      <td>0</td>\n      <td>0</td>\n      <td>2023-02</td>\n      <td>...</td>\n      <td>352</td>\n      <td>-352</td>\n      <td>False</td>\n      <td>False</td>\n      <td>False</td>\n      <td>False</td>\n      <td>False</td>\n      <td>True</td>\n      <td>False</td>\n      <td>True</td>\n    </tr>\n    <tr>\n      <th>31919</th>\n      <td>BC_E_S_20230228</td>\n      <td>2023-02-28</td>\n      <td>1024.0</td>\n      <td>3232.0</td>\n      <td>2023</td>\n      <td>2</td>\n      <td>9</td>\n      <td>1</td>\n      <td>0</td>\n      <td>2023-02</td>\n      <td>...</td>\n      <td>352</td>\n      <td>-352</td>\n      <td>False</td>\n      <td>False</td>\n      <td>False</td>\n      <td>False</td>\n      <td>False</td>\n      <td>True</td>\n      <td>False</td>\n      <td>True</td>\n    </tr>\n  </tbody>\n</table>\n<p>31920 rows × 24 columns</p>\n</div>"
     },
     "execution_count": 46,
     "metadata": {},
     "output_type": "execute_result"
    }
   ],
   "source": [
    "#원-핫 인코딩\n",
    "Other_merged = pd.get_dummies(Other_merged, columns=['item', 'corporation', 'location'], drop_first=True)\n",
    "Other_merged"
   ],
   "metadata": {
    "collapsed": false,
    "ExecuteTime": {
     "end_time": "2024-02-15T02:27:54.310793900Z",
     "start_time": "2024-02-15T02:27:54.255271700Z"
    }
   },
   "id": "95737f51c8641e14",
   "execution_count": 46
  },
  {
   "cell_type": "code",
   "outputs": [
    {
     "name": "stdout",
     "output_type": "stream",
     "text": [
      "[LightGBM] [Warning] Found whitespace in feature_names, replace with underlines\n",
      "[LightGBM] [Info] Auto-choosing row-wise multi-threading, the overhead of testing was 0.000851 seconds.\n",
      "You can set `force_row_wise=true` to remove the overhead.\n",
      "And if memory is not enough, you can set `force_col_wise=true`.\n",
      "[LightGBM] [Info] Total Bins 565\n",
      "[LightGBM] [Info] Number of data points in the train set: 25536, number of used features: 16\n",
      "[LightGBM] [Info] Start training from score 512.733239\n",
      "Root Mean Squared Error: 193.04129800393284\n"
     ]
    }
   ],
   "source": [
    "from lightgbm import LGBMRegressor\n",
    "import numpy as np\n",
    "import pandas as pd\n",
    "from sklearn.model_selection import train_test_split\n",
    "from sklearn.metrics import mean_squared_error\n",
    "\n",
    "# 특성과 타겟 데이터 분리\n",
    "columns_to_drop = ['price', 'ID', 'timestamp', '기간','수출 중량','수입 금액','무역수지','y-m']\n",
    "X = Other_merged.drop(columns=columns_to_drop)\n",
    "y = Other_merged['price']\n",
    "\n",
    "# 데이터를 학습용과 테스트용으로 나누기\n",
    "X_train, X_test, y_train, y_test = train_test_split(X, y, test_size=0.2, random_state=42)\n",
    "\n",
    "# LightGBM 회귀 모델 생성\n",
    "Other_lgbm_model = LGBMRegressor()\n",
    "\n",
    "# LightGBM 모델 학습\n",
    "Other_lgbm_model.fit(X_train, y_train)\n",
    "\n",
    "# 테스트 데이터에 대한 예측\n",
    "y_pred = Other_lgbm_model.predict(X_test)\n",
    "\n",
    "# 회귀 모델의 성능 평가 (RMSE 구하기)\n",
    "rmse = np.sqrt(mean_squared_error(y_test, y_pred))\n",
    "print(f'Root Mean Squared Error: {rmse}')"
   ],
   "metadata": {
    "collapsed": false,
    "ExecuteTime": {
     "end_time": "2024-02-15T02:28:01.717895700Z",
     "start_time": "2024-02-15T02:28:01.613072300Z"
    }
   },
   "id": "6da8a0844d783ed4",
   "execution_count": 47
  },
  {
   "cell_type": "code",
   "outputs": [
    {
     "name": "stdout",
     "output_type": "stream",
     "text": [
      "[LightGBM] [Warning] Found whitespace in feature_names, replace with underlines\n",
      "[LightGBM] [Info] Auto-choosing row-wise multi-threading, the overhead of testing was 0.000925 seconds.\n",
      "You can set `force_row_wise=true` to remove the overhead.\n",
      "And if memory is not enough, you can set `force_col_wise=true`.\n",
      "[LightGBM] [Info] Total Bins 565\n",
      "[LightGBM] [Info] Number of data points in the train set: 25536, number of used features: 16\n",
      "[LightGBM] [Info] Start training from score 512.733239\n",
      "[LightGBM] [Warning] Found whitespace in feature_names, replace with underlines\n",
      "[LightGBM] [Info] Auto-choosing row-wise multi-threading, the overhead of testing was 0.000766 seconds.\n",
      "You can set `force_row_wise=true` to remove the overhead.\n",
      "And if memory is not enough, you can set `force_col_wise=true`.\n",
      "[LightGBM] [Info] Total Bins 565\n",
      "[LightGBM] [Info] Number of data points in the train set: 25536, number of used features: 16\n",
      "[LightGBM] [Info] Start training from score 513.916197\n",
      "[LightGBM] [Warning] Found whitespace in feature_names, replace with underlines\n",
      "[LightGBM] [Info] Auto-choosing row-wise multi-threading, the overhead of testing was 0.000799 seconds.\n",
      "You can set `force_row_wise=true` to remove the overhead.\n",
      "And if memory is not enough, you can set `force_col_wise=true`.\n",
      "[LightGBM] [Info] Total Bins 565\n",
      "[LightGBM] [Info] Number of data points in the train set: 25536, number of used features: 16\n",
      "[LightGBM] [Info] Start training from score 514.886357\n",
      "[LightGBM] [Warning] Found whitespace in feature_names, replace with underlines\n",
      "[LightGBM] [Info] Auto-choosing row-wise multi-threading, the overhead of testing was 0.000880 seconds.\n",
      "You can set `force_row_wise=true` to remove the overhead.\n",
      "And if memory is not enough, you can set `force_col_wise=true`.\n",
      "[LightGBM] [Info] Total Bins 565\n",
      "[LightGBM] [Info] Number of data points in the train set: 25536, number of used features: 16\n",
      "[LightGBM] [Info] Start training from score 516.491659\n",
      "[LightGBM] [Warning] Found whitespace in feature_names, replace with underlines\n",
      "[LightGBM] [Info] Auto-choosing row-wise multi-threading, the overhead of testing was 0.000773 seconds.\n",
      "You can set `force_row_wise=true` to remove the overhead.\n",
      "And if memory is not enough, you can set `force_col_wise=true`.\n",
      "[LightGBM] [Info] Total Bins 565\n",
      "[LightGBM] [Info] Number of data points in the train set: 25536, number of used features: 16\n",
      "[LightGBM] [Info] Start training from score 518.518445\n",
      "K-Fold 교차 검증을 통한 Root Mean Squared Error: 195.5917033155741\n"
     ]
    }
   ],
   "source": [
    "from lightgbm import LGBMRegressor\n",
    "import numpy as np\n",
    "import pandas as pd\n",
    "from sklearn.model_selection import KFold, cross_val_score\n",
    "\n",
    "# 특성과 타겟 데이터 분리\n",
    "columns_to_drop = ['price', 'ID', 'timestamp', '기간','수출 중량','수입 금액','무역수지','y-m']\n",
    "X = Other_merged.drop(columns=columns_to_drop)\n",
    "y = Other_merged['price']\n",
    "\n",
    "# K-Fold 교차 검증\n",
    "kfold = KFold(n_splits=5, random_state=42, shuffle=True)\n",
    "\n",
    "# LightGBM 회귀 모델 생성\n",
    "Other_lgbm_model = LGBMRegressor()\n",
    "\n",
    "# K-Fold 교차 검증을 통한 평균 RMSE 계산\n",
    "scores = cross_val_score(Other_lgbm_model, X, y, cv=kfold, scoring='neg_mean_squared_error')\n",
    "rmse = np.sqrt(-np.mean(scores))\n",
    "\n",
    "# 결과 출력\n",
    "print(f'K-Fold 교차 검증을 통한 Root Mean Squared Error: {rmse}')"
   ],
   "metadata": {
    "collapsed": false,
    "ExecuteTime": {
     "end_time": "2024-02-15T03:54:21.484693Z",
     "start_time": "2024-02-15T03:54:21.001030700Z"
    }
   },
   "id": "565a1e97f411d4c5",
   "execution_count": 59
  },
  {
   "cell_type": "code",
   "outputs": [],
   "source": [],
   "metadata": {
    "collapsed": false
   },
   "id": "83ee87b664c5a115"
  }
 ],
 "metadata": {
  "kernelspec": {
   "display_name": "Python 3",
   "language": "python",
   "name": "python3"
  },
  "language_info": {
   "codemirror_mode": {
    "name": "ipython",
    "version": 2
   },
   "file_extension": ".py",
   "mimetype": "text/x-python",
   "name": "python",
   "nbconvert_exporter": "python",
   "pygments_lexer": "ipython2",
   "version": "2.7.6"
  }
 },
 "nbformat": 4,
 "nbformat_minor": 5
}
