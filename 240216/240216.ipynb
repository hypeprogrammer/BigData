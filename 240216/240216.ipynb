{
 "cells": [
  {
   "cell_type": "code",
   "outputs": [],
   "source": [
    "import pandas as pd\n",
    "import numpy as np\n",
    "import datetime\n",
    "import random\n",
    "import os\n",
    "import sys\n",
    "import holidays\n",
    "\n",
    "\n",
    "import sklearn\n",
    "from sklearn.ensemble import VotingRegressor\n",
    "from sklearn.preprocessing import LabelEncoder\n",
    "from sklearn.metrics import mean_squared_error\n",
    "\n",
    "\n",
    "import xgboost\n",
    "from xgboost import XGBRegressor\n",
    "import catboost\n",
    "from catboost import CatBoostRegressor"
   ],
   "metadata": {
    "collapsed": false,
    "ExecuteTime": {
     "end_time": "2024-02-16T06:46:20.057470300Z",
     "start_time": "2024-02-16T06:46:20.043461700Z"
    }
   },
   "id": "f2cdbec0d6fcfe40",
   "execution_count": 8
  },
  {
   "cell_type": "code",
   "outputs": [
    {
     "data": {
      "text/plain": "                    ID   timestamp item corporation location  supply(kg)  \\\n0      TG_A_J_20190101  2019-01-01   TG           A        J         0.0   \n1      TG_A_J_20190102  2019-01-02   TG           A        J         0.0   \n2      TG_A_J_20190103  2019-01-03   TG           A        J     60601.0   \n3      TG_A_J_20190104  2019-01-04   TG           A        J     25000.0   \n4      TG_A_J_20190105  2019-01-05   TG           A        J     32352.0   \n...                ...         ...  ...         ...      ...         ...   \n59392  RD_F_J_20230227  2023-02-27   RD           F        J    452440.0   \n59393  RD_F_J_20230228  2023-02-28   RD           F        J    421980.0   \n59394  RD_F_J_20230301  2023-03-01   RD           F        J    382980.0   \n59395  RD_F_J_20230302  2023-03-02   RD           F        J    477220.0   \n59396  RD_F_J_20230303  2023-03-03   RD           F        J    427520.0   \n\n       price(원/kg)  \n0              0.0  \n1              0.0  \n2           1728.0  \n3           1408.0  \n4           1250.0  \n...            ...  \n59392        468.0  \n59393        531.0  \n59394        574.0  \n59395        523.0  \n59396        529.0  \n\n[59397 rows x 7 columns]",
      "text/html": "<div>\n<style scoped>\n    .dataframe tbody tr th:only-of-type {\n        vertical-align: middle;\n    }\n\n    .dataframe tbody tr th {\n        vertical-align: top;\n    }\n\n    .dataframe thead th {\n        text-align: right;\n    }\n</style>\n<table border=\"1\" class=\"dataframe\">\n  <thead>\n    <tr style=\"text-align: right;\">\n      <th></th>\n      <th>ID</th>\n      <th>timestamp</th>\n      <th>item</th>\n      <th>corporation</th>\n      <th>location</th>\n      <th>supply(kg)</th>\n      <th>price(원/kg)</th>\n    </tr>\n  </thead>\n  <tbody>\n    <tr>\n      <th>0</th>\n      <td>TG_A_J_20190101</td>\n      <td>2019-01-01</td>\n      <td>TG</td>\n      <td>A</td>\n      <td>J</td>\n      <td>0.0</td>\n      <td>0.0</td>\n    </tr>\n    <tr>\n      <th>1</th>\n      <td>TG_A_J_20190102</td>\n      <td>2019-01-02</td>\n      <td>TG</td>\n      <td>A</td>\n      <td>J</td>\n      <td>0.0</td>\n      <td>0.0</td>\n    </tr>\n    <tr>\n      <th>2</th>\n      <td>TG_A_J_20190103</td>\n      <td>2019-01-03</td>\n      <td>TG</td>\n      <td>A</td>\n      <td>J</td>\n      <td>60601.0</td>\n      <td>1728.0</td>\n    </tr>\n    <tr>\n      <th>3</th>\n      <td>TG_A_J_20190104</td>\n      <td>2019-01-04</td>\n      <td>TG</td>\n      <td>A</td>\n      <td>J</td>\n      <td>25000.0</td>\n      <td>1408.0</td>\n    </tr>\n    <tr>\n      <th>4</th>\n      <td>TG_A_J_20190105</td>\n      <td>2019-01-05</td>\n      <td>TG</td>\n      <td>A</td>\n      <td>J</td>\n      <td>32352.0</td>\n      <td>1250.0</td>\n    </tr>\n    <tr>\n      <th>...</th>\n      <td>...</td>\n      <td>...</td>\n      <td>...</td>\n      <td>...</td>\n      <td>...</td>\n      <td>...</td>\n      <td>...</td>\n    </tr>\n    <tr>\n      <th>59392</th>\n      <td>RD_F_J_20230227</td>\n      <td>2023-02-27</td>\n      <td>RD</td>\n      <td>F</td>\n      <td>J</td>\n      <td>452440.0</td>\n      <td>468.0</td>\n    </tr>\n    <tr>\n      <th>59393</th>\n      <td>RD_F_J_20230228</td>\n      <td>2023-02-28</td>\n      <td>RD</td>\n      <td>F</td>\n      <td>J</td>\n      <td>421980.0</td>\n      <td>531.0</td>\n    </tr>\n    <tr>\n      <th>59394</th>\n      <td>RD_F_J_20230301</td>\n      <td>2023-03-01</td>\n      <td>RD</td>\n      <td>F</td>\n      <td>J</td>\n      <td>382980.0</td>\n      <td>574.0</td>\n    </tr>\n    <tr>\n      <th>59395</th>\n      <td>RD_F_J_20230302</td>\n      <td>2023-03-02</td>\n      <td>RD</td>\n      <td>F</td>\n      <td>J</td>\n      <td>477220.0</td>\n      <td>523.0</td>\n    </tr>\n    <tr>\n      <th>59396</th>\n      <td>RD_F_J_20230303</td>\n      <td>2023-03-03</td>\n      <td>RD</td>\n      <td>F</td>\n      <td>J</td>\n      <td>427520.0</td>\n      <td>529.0</td>\n    </tr>\n  </tbody>\n</table>\n<p>59397 rows × 7 columns</p>\n</div>"
     },
     "execution_count": 3,
     "metadata": {},
     "output_type": "execute_result"
    }
   ],
   "source": [
    "train = pd.read_csv(\"./train.csv\")\n",
    "test = pd.read_csv(\"./test.csv\")\n",
    "train"
   ],
   "metadata": {
    "collapsed": false,
    "ExecuteTime": {
     "end_time": "2024-02-16T02:43:24.850755Z",
     "start_time": "2024-02-16T02:43:24.764023200Z"
    }
   },
   "id": "72e37a4b103eed3c",
   "execution_count": 3
  },
  {
   "cell_type": "code",
   "outputs": [],
   "source": [
    "df = pd.concat([train,test]).reset_index(drop = True)"
   ],
   "metadata": {
    "collapsed": false,
    "ExecuteTime": {
     "end_time": "2024-02-16T03:59:42.532682200Z",
     "start_time": "2024-02-16T03:59:42.513671300Z"
    }
   },
   "id": "316148a32773e5f0",
   "execution_count": 4
  },
  {
   "cell_type": "code",
   "outputs": [],
   "source": [
    "df.rename(columns={'supply(kg)':'supply', 'price(원/kg)':'price'},inplace=True)"
   ],
   "metadata": {
    "collapsed": false,
    "ExecuteTime": {
     "end_time": "2024-02-16T03:59:46.461037500Z",
     "start_time": "2024-02-16T03:59:46.448877800Z"
    }
   },
   "id": "6dec2ab7f4f01b2f",
   "execution_count": 5
  },
  {
   "cell_type": "code",
   "outputs": [],
   "source": [
    "def pre_all(train, test):\n",
    "    print(f\"전처리 전 train 크기 : {train.shape}\")\n",
    "    print(f\"전처리 전 test 크기 : {test.shape}\")\n",
    "    print(\"=================전처리 중=================\")\n",
    "\n",
    "    # 합쳐서 전처리하기\n",
    "    train[\"timestamp\"] = pd.to_datetime(train[\"timestamp\"])\n",
    "    test[\"timestamp\"] = pd.to_datetime(test[\"timestamp\"])\n",
    "    df = pd.concat([train,test]).reset_index(drop = True)\n",
    "\n",
    "    df.rename(columns={'supply(kg)':'supply', 'price(원/kg)':'price'},inplace=True)\n",
    "\n",
    "    #년/월/일 추가\n",
    "    df['year']=df['timestamp'].dt.year\n",
    "    df['month']=df['timestamp'].dt.month\n",
    "    df['day']=df['timestamp'].dt.day\n",
    "\n",
    "    #요일 추가\n",
    "    df['week_day']=df['timestamp'].dt.weekday\n",
    "\n",
    "    # 년-월 변수 추가 : year-month의 형태, 개월단위 누적값\n",
    "    le = LabelEncoder()\n",
    "    df[\"year_month\"] = df[\"timestamp\"].map(lambda x :str(x.year) + \"-\"+str(x.month))\n",
    "\n",
    "    # 라벨 인코딩\n",
    "    df[\"year_month\"] = le.fit_transform(df[\"year_month\"])\n",
    "\n",
    "\n",
    "    # 주차 변수 추가\n",
    "    df[\"week\"] = df[\"timestamp\"].map(lambda x: datetime.datetime(x.year, x.month, x.day).isocalendar()[1])\n",
    "\n",
    "    # 주차 누적값\n",
    "    week_list=[]\n",
    "    for i in range(len(df['year'])) :\n",
    "        if df['year'][i] == 2019 :\n",
    "            week_list.append(int(df['week'][i]))\n",
    "        elif df['year'][i] == 2020 :\n",
    "            week_list.append(int(df['week'][i])+52)\n",
    "        elif df['year'][i] == 2021 :\n",
    "            week_list.append(int(df['week'][i])+52+53)\n",
    "        elif df['year'][i] == 2022 :\n",
    "            week_list.append(int(df['week'][i])+52+53+53)\n",
    "        elif df['year'][i] == 2023 :\n",
    "            week_list.append(int(df['week'][i])+52+53+53+52)\n",
    "    df['week_num']= week_list\n",
    "\n",
    "    # datetime 패키지에서 19년 12월 마지막주가 첫째주로 들어가는거 발견하여 수정\n",
    "    df.loc[df['timestamp']=='2019-12-30','week_num']=52\n",
    "    df.loc[df['timestamp']=='2019-12-31','week_num']=52\n",
    "\n",
    "\n",
    "    # 공휴일 변수 추가\n",
    "    def make_holi(x):\n",
    "        kr_holi = holidays.KR()\n",
    "\n",
    "        if x in kr_holi:\n",
    "            return 1\n",
    "        else:\n",
    "            return 0\n",
    "\n",
    "    df[\"holiday\"] = df[\"timestamp\"].map(lambda x : make_holi(x))\n",
    "\n",
    "\n",
    "    # train, test 분리하기\n",
    "    train = df[~df[\"price\"].isnull()].sort_values(\"timestamp\").reset_index(drop = True)\n",
    "    test = df[df[\"price\"].isnull()].sort_values(\"timestamp\").reset_index(drop=True)\n",
    "\n",
    "\n",
    "    print(f\"전처리 후 train 크기 : {train.shape}\")\n",
    "    print(f\"전처리 후 test 크기 : {test.shape}\")\n",
    "\n",
    "    return train, test"
   ],
   "metadata": {
    "collapsed": false,
    "ExecuteTime": {
     "end_time": "2024-02-16T04:30:09.790843900Z",
     "start_time": "2024-02-16T04:30:09.772843500Z"
    }
   },
   "id": "6e5c326d94202846",
   "execution_count": 8
  },
  {
   "cell_type": "code",
   "outputs": [
    {
     "name": "stdout",
     "output_type": "stream",
     "text": [
      "전처리 전 train 크기 : (59397, 7)\n",
      "전처리 전 test 크기 : (1092, 5)\n",
      "=================전처리 중=================\n",
      "전처리 후 train 크기 : (59397, 15)\n",
      "전처리 후 test 크기 : (1092, 15)\n"
     ]
    }
   ],
   "source": [
    "train_pre, test_pre = pre_all(train, test)"
   ],
   "metadata": {
    "collapsed": false,
    "ExecuteTime": {
     "end_time": "2024-02-16T04:31:32.972556200Z",
     "start_time": "2024-02-16T04:30:15.161028500Z"
    }
   },
   "id": "344a19d2811c5380",
   "execution_count": 9
  },
  {
   "cell_type": "code",
   "outputs": [
    {
     "data": {
      "text/plain": "                    ID  timestamp item corporation location    supply   price  \\\n0      TG_A_J_20190101 2019-01-01   TG           A        J       0.0     0.0   \n1      CB_A_S_20190101 2019-01-01   CB           A        S       0.0     0.0   \n2      RD_D_J_20190101 2019-01-01   RD           D        J       0.0     0.0   \n3      BC_D_J_20190101 2019-01-01   BC           D        J       0.0     0.0   \n4      CB_F_J_20190101 2019-01-01   CB           F        J       0.0     0.0   \n...                ...        ...  ...         ...      ...       ...     ...   \n59392  CR_E_S_20230303 2023-03-03   CR           E        S       0.0     0.0   \n59393  BC_A_S_20230303 2023-03-03   BC           A        S    3776.0  2875.0   \n59394  CB_E_J_20230303 2023-03-03   CB           E        J       0.0     0.0   \n59395  BC_D_J_20230303 2023-03-03   BC           D        J    1776.0  3059.0   \n59396  RD_F_J_20230303 2023-03-03   RD           F        J  427520.0   529.0   \n\n       year  month  day  week_day  year_month  week  week_num  holiday  \n0      2019      1    1         1           0     1         1        1  \n1      2019      1    1         1           0     1         1        1  \n2      2019      1    1         1           0     1         1        1  \n3      2019      1    1         1           0     1         1        1  \n4      2019      1    1         1           0     1         1        1  \n...     ...    ...  ...       ...         ...   ...       ...      ...  \n59392  2023      3    3         4          50     9       219        0  \n59393  2023      3    3         4          50     9       219        0  \n59394  2023      3    3         4          50     9       219        0  \n59395  2023      3    3         4          50     9       219        0  \n59396  2023      3    3         4          50     9       219        0  \n\n[59397 rows x 15 columns]",
      "text/html": "<div>\n<style scoped>\n    .dataframe tbody tr th:only-of-type {\n        vertical-align: middle;\n    }\n\n    .dataframe tbody tr th {\n        vertical-align: top;\n    }\n\n    .dataframe thead th {\n        text-align: right;\n    }\n</style>\n<table border=\"1\" class=\"dataframe\">\n  <thead>\n    <tr style=\"text-align: right;\">\n      <th></th>\n      <th>ID</th>\n      <th>timestamp</th>\n      <th>item</th>\n      <th>corporation</th>\n      <th>location</th>\n      <th>supply</th>\n      <th>price</th>\n      <th>year</th>\n      <th>month</th>\n      <th>day</th>\n      <th>week_day</th>\n      <th>year_month</th>\n      <th>week</th>\n      <th>week_num</th>\n      <th>holiday</th>\n    </tr>\n  </thead>\n  <tbody>\n    <tr>\n      <th>0</th>\n      <td>TG_A_J_20190101</td>\n      <td>2019-01-01</td>\n      <td>TG</td>\n      <td>A</td>\n      <td>J</td>\n      <td>0.0</td>\n      <td>0.0</td>\n      <td>2019</td>\n      <td>1</td>\n      <td>1</td>\n      <td>1</td>\n      <td>0</td>\n      <td>1</td>\n      <td>1</td>\n      <td>1</td>\n    </tr>\n    <tr>\n      <th>1</th>\n      <td>CB_A_S_20190101</td>\n      <td>2019-01-01</td>\n      <td>CB</td>\n      <td>A</td>\n      <td>S</td>\n      <td>0.0</td>\n      <td>0.0</td>\n      <td>2019</td>\n      <td>1</td>\n      <td>1</td>\n      <td>1</td>\n      <td>0</td>\n      <td>1</td>\n      <td>1</td>\n      <td>1</td>\n    </tr>\n    <tr>\n      <th>2</th>\n      <td>RD_D_J_20190101</td>\n      <td>2019-01-01</td>\n      <td>RD</td>\n      <td>D</td>\n      <td>J</td>\n      <td>0.0</td>\n      <td>0.0</td>\n      <td>2019</td>\n      <td>1</td>\n      <td>1</td>\n      <td>1</td>\n      <td>0</td>\n      <td>1</td>\n      <td>1</td>\n      <td>1</td>\n    </tr>\n    <tr>\n      <th>3</th>\n      <td>BC_D_J_20190101</td>\n      <td>2019-01-01</td>\n      <td>BC</td>\n      <td>D</td>\n      <td>J</td>\n      <td>0.0</td>\n      <td>0.0</td>\n      <td>2019</td>\n      <td>1</td>\n      <td>1</td>\n      <td>1</td>\n      <td>0</td>\n      <td>1</td>\n      <td>1</td>\n      <td>1</td>\n    </tr>\n    <tr>\n      <th>4</th>\n      <td>CB_F_J_20190101</td>\n      <td>2019-01-01</td>\n      <td>CB</td>\n      <td>F</td>\n      <td>J</td>\n      <td>0.0</td>\n      <td>0.0</td>\n      <td>2019</td>\n      <td>1</td>\n      <td>1</td>\n      <td>1</td>\n      <td>0</td>\n      <td>1</td>\n      <td>1</td>\n      <td>1</td>\n    </tr>\n    <tr>\n      <th>...</th>\n      <td>...</td>\n      <td>...</td>\n      <td>...</td>\n      <td>...</td>\n      <td>...</td>\n      <td>...</td>\n      <td>...</td>\n      <td>...</td>\n      <td>...</td>\n      <td>...</td>\n      <td>...</td>\n      <td>...</td>\n      <td>...</td>\n      <td>...</td>\n      <td>...</td>\n    </tr>\n    <tr>\n      <th>59392</th>\n      <td>CR_E_S_20230303</td>\n      <td>2023-03-03</td>\n      <td>CR</td>\n      <td>E</td>\n      <td>S</td>\n      <td>0.0</td>\n      <td>0.0</td>\n      <td>2023</td>\n      <td>3</td>\n      <td>3</td>\n      <td>4</td>\n      <td>50</td>\n      <td>9</td>\n      <td>219</td>\n      <td>0</td>\n    </tr>\n    <tr>\n      <th>59393</th>\n      <td>BC_A_S_20230303</td>\n      <td>2023-03-03</td>\n      <td>BC</td>\n      <td>A</td>\n      <td>S</td>\n      <td>3776.0</td>\n      <td>2875.0</td>\n      <td>2023</td>\n      <td>3</td>\n      <td>3</td>\n      <td>4</td>\n      <td>50</td>\n      <td>9</td>\n      <td>219</td>\n      <td>0</td>\n    </tr>\n    <tr>\n      <th>59394</th>\n      <td>CB_E_J_20230303</td>\n      <td>2023-03-03</td>\n      <td>CB</td>\n      <td>E</td>\n      <td>J</td>\n      <td>0.0</td>\n      <td>0.0</td>\n      <td>2023</td>\n      <td>3</td>\n      <td>3</td>\n      <td>4</td>\n      <td>50</td>\n      <td>9</td>\n      <td>219</td>\n      <td>0</td>\n    </tr>\n    <tr>\n      <th>59395</th>\n      <td>BC_D_J_20230303</td>\n      <td>2023-03-03</td>\n      <td>BC</td>\n      <td>D</td>\n      <td>J</td>\n      <td>1776.0</td>\n      <td>3059.0</td>\n      <td>2023</td>\n      <td>3</td>\n      <td>3</td>\n      <td>4</td>\n      <td>50</td>\n      <td>9</td>\n      <td>219</td>\n      <td>0</td>\n    </tr>\n    <tr>\n      <th>59396</th>\n      <td>RD_F_J_20230303</td>\n      <td>2023-03-03</td>\n      <td>RD</td>\n      <td>F</td>\n      <td>J</td>\n      <td>427520.0</td>\n      <td>529.0</td>\n      <td>2023</td>\n      <td>3</td>\n      <td>3</td>\n      <td>4</td>\n      <td>50</td>\n      <td>9</td>\n      <td>219</td>\n      <td>0</td>\n    </tr>\n  </tbody>\n</table>\n<p>59397 rows × 15 columns</p>\n</div>"
     },
     "execution_count": 10,
     "metadata": {},
     "output_type": "execute_result"
    }
   ],
   "source": [
    "train_pre"
   ],
   "metadata": {
    "collapsed": false,
    "ExecuteTime": {
     "end_time": "2024-02-16T04:31:54.086545200Z",
     "start_time": "2024-02-16T04:31:54.077035500Z"
    }
   },
   "id": "d0e6101d215b8d4",
   "execution_count": 10
  },
  {
   "cell_type": "code",
   "outputs": [],
   "source": [
    "def remove_extreme_outliers(df, item, threshold):\n",
    "    idx = df[(df[\"item\"] == item) & (df[\"price\"] > threshold)].index\n",
    "    mean_price = df[(df[\"item\"] == item) & (df[\"price\"] != 0)][\"price\"].mean()\n",
    "    df.loc[idx, \"price\"] = mean_price"
   ],
   "metadata": {
    "collapsed": false,
    "ExecuteTime": {
     "end_time": "2024-02-16T04:40:06.491038400Z",
     "start_time": "2024-02-16T04:40:06.483035200Z"
    }
   },
   "id": "40a855cbf8bdb7b2",
   "execution_count": 11
  },
  {
   "cell_type": "code",
   "outputs": [],
   "source": [
    "# 감귤이 아닌 것\n",
    "def filter_not_tg(df, item):\n",
    "    return df[df[\"item\"] != item]"
   ],
   "metadata": {
    "collapsed": false,
    "ExecuteTime": {
     "end_time": "2024-02-16T04:53:20.868187Z",
     "start_time": "2024-02-16T04:53:20.854186700Z"
    }
   },
   "id": "cf6febce103f8b40",
   "execution_count": 15
  },
  {
   "cell_type": "code",
   "outputs": [],
   "source": [
    "# 인코딩\n",
    "def encode_data(df, target_columns):\n",
    "    return pd.get_dummies(df.sort_values(by=[\"timestamp\"]).reset_index(drop=True), columns=target_columns)"
   ],
   "metadata": {
    "collapsed": false,
    "ExecuteTime": {
     "end_time": "2024-02-16T05:11:29.896875300Z",
     "start_time": "2024-02-16T05:11:29.890870Z"
    }
   },
   "id": "a5efe944a872255a",
   "execution_count": 40
  },
  {
   "cell_type": "code",
   "outputs": [],
   "source": [
    "remove_extreme_outliers(train_pre, \"TG\", 20000)\n",
    "remove_extreme_outliers(train_pre, \"RD\", 5000)\n",
    "remove_extreme_outliers(train_pre, \"BC\", 8000)\n",
    "remove_extreme_outliers(train_pre, \"CB\", 2300)"
   ],
   "metadata": {
    "collapsed": false,
    "ExecuteTime": {
     "end_time": "2024-02-16T04:53:43.150704800Z",
     "start_time": "2024-02-16T04:53:43.118374400Z"
    }
   },
   "id": "f03e76e3e09fb8e5",
   "execution_count": 16
  },
  {
   "cell_type": "code",
   "outputs": [],
   "source": [
    "# 감귤이 아닌 것 필터링\n",
    "train_not_tg = filter_not_tg(train_pre, \"TG\")\n",
    "test_not_tg = filter_not_tg(test_pre, \"TG\")"
   ],
   "metadata": {
    "collapsed": false,
    "ExecuteTime": {
     "end_time": "2024-02-16T05:00:02.876821100Z",
     "start_time": "2024-02-16T05:00:02.864712700Z"
    }
   },
   "id": "84399628af4e6f3a",
   "execution_count": 24
  },
  {
   "cell_type": "code",
   "outputs": [],
   "source": [
    "# Supply가 포함된 컬럼 삭제\n",
    "def drop_columns_with_substring(df, substring):\n",
    "    columns_to_drop = [col for col in df.columns if substring in col]\n",
    "    return df.drop(columns=columns_to_drop)"
   ],
   "metadata": {
    "collapsed": false,
    "ExecuteTime": {
     "end_time": "2024-02-16T05:12:52.492739400Z",
     "start_time": "2024-02-16T05:12:52.468229600Z"
    }
   },
   "id": "da82a8a7b6a2ca27",
   "execution_count": 42
  },
  {
   "cell_type": "code",
   "outputs": [],
   "source": [
    "# Supply가 포함된 컬럼 삭제 후 인코딩\n",
    "target_columns = [\"item\", \"corporation\", \"location\"]\n",
    "Xy = encode_data(drop_columns_with_substring(train_not_tg, \"supply\"), target_columns)\n",
    "answer_notg = encode_data(test_not_tg, target_columns)"
   ],
   "metadata": {
    "collapsed": false,
    "ExecuteTime": {
     "end_time": "2024-02-16T05:13:23.889152900Z",
     "start_time": "2024-02-16T05:13:23.837855Z"
    }
   },
   "id": "3e3941d8b8e45332",
   "execution_count": 44
  },
  {
   "cell_type": "code",
   "outputs": [
    {
     "name": "stdout",
     "output_type": "stream",
     "text": [
      "train의 컬럼 : Index(['ID', 'timestamp', 'price', 'year', 'month', 'day', 'week_day',\n",
      "       'year_month', 'week', 'week_num', 'holiday', 'item_BC', 'item_CB',\n",
      "       'item_CR', 'item_RD', 'corporation_A', 'corporation_B', 'corporation_C',\n",
      "       'corporation_D', 'corporation_E', 'corporation_F', 'location_J',\n",
      "       'location_S'],\n",
      "      dtype='object')\n",
      "test의 컬럼 : Index(['ID', 'timestamp', 'supply', 'price', 'year', 'month', 'day',\n",
      "       'week_day', 'year_month', 'week', 'week_num', 'holiday', 'item_BC',\n",
      "       'item_CB', 'item_CR', 'item_RD', 'corporation_A', 'corporation_B',\n",
      "       'corporation_C', 'corporation_D', 'corporation_E', 'corporation_F',\n",
      "       'location_J', 'location_S'],\n",
      "      dtype='object')\n"
     ]
    }
   ],
   "source": [
    "print(f\"train의 컬럼 : {Xy.columns}\")\n",
    "print(f\"test의 컬럼 : {answer_notg.columns}\")"
   ],
   "metadata": {
    "collapsed": false,
    "ExecuteTime": {
     "end_time": "2024-02-16T05:13:33.274534200Z",
     "start_time": "2024-02-16T05:13:33.264535400Z"
    }
   },
   "id": "96c2338bdf2699c2",
   "execution_count": 45
  },
  {
   "cell_type": "code",
   "outputs": [],
   "source": [
    "from sklearn.model_selection import RandomizedSearchCV\n",
    "from catboost import CatBoostRegressor\n",
    "from xgboost import XGBRegressor\n",
    "from sklearn.ensemble import VotingRegressor"
   ],
   "metadata": {
    "collapsed": false,
    "ExecuteTime": {
     "end_time": "2024-02-16T06:03:46.988260600Z",
     "start_time": "2024-02-16T06:03:46.978260400Z"
    }
   },
   "id": "7f59da383d2a12c3",
   "execution_count": 62
  },
  {
   "cell_type": "code",
   "outputs": [
    {
     "name": "stdout",
     "output_type": "stream",
     "text": [
      "train의 컬럼 : Index(['ID', 'timestamp', 'item', 'corporation', 'location', 'supply', 'price',\n",
      "       'year', 'month', 'day', 'week_day', 'year_month', 'week', 'week_num',\n",
      "       'holiday'],\n",
      "      dtype='object')\n",
      "test의 컬럼 : Index(['ID', 'timestamp', 'item', 'corporation', 'location', 'supply', 'price',\n",
      "       'year', 'month', 'day', 'week_day', 'year_month', 'week', 'week_num',\n",
      "       'holiday'],\n",
      "      dtype='object')\n",
      "Index(['ID', 'timestamp', 'price', 'year', 'month', 'day', 'week_day',\n",
      "       'year_month', 'week', 'week_num', 'holiday', 'item_BC', 'item_CB',\n",
      "       'item_CR', 'item_RD', 'corporation_A', 'corporation_B', 'corporation_C',\n",
      "       'corporation_D', 'corporation_E', 'corporation_F', 'location_J',\n",
      "       'location_S'],\n",
      "      dtype='object')\n"
     ]
    }
   ],
   "source": [
    "## 전처리\n",
    "\n",
    "# 극 이상치 제거\n",
    "tg_idx = train_pre[(train_pre[\"item\"]==\"TG\") & (train_pre[\"price\"]>20000)].index\n",
    "rd_idx = train_pre[(train_pre[\"item\"]==\"RD\") & (train_pre[\"price\"]>5000)].index\n",
    "bc_idx = train_pre[(train_pre[\"item\"]==\"BC\") & (train_pre[\"price\"]>8000)].index\n",
    "cb_idx = train_pre[(train_pre[\"item\"]==\"CB\") & (train_pre[\"price\"]>2300)].index\n",
    "\n",
    "train_pre.loc[tg_idx,\"price\"] = train_pre[(train_pre[\"item\"]==\"TG\") & (train_pre[\"price\"]!=0)][\"price\"].mean()\n",
    "train_pre.loc[rd_idx,\"price\"] = train_pre[(train_pre[\"item\"]==\"RD\") & (train_pre[\"price\"]!=0)][\"price\"].mean()\n",
    "train_pre.loc[bc_idx,\"price\"] = train_pre[(train_pre[\"item\"]==\"BC\") & (train_pre[\"price\"]!=0)][\"price\"].mean()\n",
    "train_pre.loc[cb_idx,\"price\"] = train_pre[(train_pre[\"item\"]==\"CB\") & (train_pre[\"price\"]!=0)][\"price\"].mean()\n",
    "\n",
    "\n",
    "# 감귤이 아닌것\n",
    "print(f\"train의 컬럼 : {train_pre.columns}\")\n",
    "print(f\"test의 컬럼 : {test_pre.columns}\")\n",
    "\n",
    "train_notg = train_pre[train_pre[\"item\"] !=\"TG\"]\n",
    "test_notg = test_pre[test_pre[\"item\"] != \"TG\"]\n",
    "\n",
    "\n",
    "#인코딩\n",
    "Xy = pd.get_dummies(train_notg.sort_values(by = [\"timestamp\"]).reset_index(drop=True).drop(columns = [\"supply\"]), columns = [\"item\",\"corporation\",\"location\"])\n",
    "answer_notg = pd.get_dummies(test_notg.drop(columns = [\"timestamp\",\"supply\",\"price\"]), columns = [ \"item\",\"corporation\",\"location\"])\n",
    "print(Xy.columns)"
   ],
   "metadata": {
    "collapsed": false,
    "ExecuteTime": {
     "end_time": "2024-02-16T06:05:17.889345400Z",
     "start_time": "2024-02-16T06:05:17.820811900Z"
    }
   },
   "id": "46022a14e792094c",
   "execution_count": 65
  },
  {
   "cell_type": "code",
   "outputs": [
    {
     "name": "stdout",
     "output_type": "stream",
     "text": [
      "0:\tlearn: 934.3461033\ttotal: 12.1ms\tremaining: 12.1s\n",
      "999:\tlearn: 376.6995081\ttotal: 12.7s\tremaining: 0us\n"
     ]
    },
    {
     "data": {
      "text/plain": "                   ID       answer\n2     BC_B_J_20230304  2384.968678\n4     BC_B_S_20230304   100.733655\n6     BC_C_J_20230304  2293.269558\n7     BC_A_S_20230304  2751.574472\n10    BC_D_J_20230304  2776.219702\n...               ...          ...\n1085  RD_D_S_20230331   457.576344\n1086  CR_C_J_20230331  1783.102829\n1088  RD_D_J_20230331   398.828636\n1089  CR_D_J_20230331  1822.411070\n1091  RD_F_J_20230331   552.992025\n\n[812 rows x 2 columns]",
      "text/html": "<div>\n<style scoped>\n    .dataframe tbody tr th:only-of-type {\n        vertical-align: middle;\n    }\n\n    .dataframe tbody tr th {\n        vertical-align: top;\n    }\n\n    .dataframe thead th {\n        text-align: right;\n    }\n</style>\n<table border=\"1\" class=\"dataframe\">\n  <thead>\n    <tr style=\"text-align: right;\">\n      <th></th>\n      <th>ID</th>\n      <th>answer</th>\n    </tr>\n  </thead>\n  <tbody>\n    <tr>\n      <th>2</th>\n      <td>BC_B_J_20230304</td>\n      <td>2384.968678</td>\n    </tr>\n    <tr>\n      <th>4</th>\n      <td>BC_B_S_20230304</td>\n      <td>100.733655</td>\n    </tr>\n    <tr>\n      <th>6</th>\n      <td>BC_C_J_20230304</td>\n      <td>2293.269558</td>\n    </tr>\n    <tr>\n      <th>7</th>\n      <td>BC_A_S_20230304</td>\n      <td>2751.574472</td>\n    </tr>\n    <tr>\n      <th>10</th>\n      <td>BC_D_J_20230304</td>\n      <td>2776.219702</td>\n    </tr>\n    <tr>\n      <th>...</th>\n      <td>...</td>\n      <td>...</td>\n    </tr>\n    <tr>\n      <th>1085</th>\n      <td>RD_D_S_20230331</td>\n      <td>457.576344</td>\n    </tr>\n    <tr>\n      <th>1086</th>\n      <td>CR_C_J_20230331</td>\n      <td>1783.102829</td>\n    </tr>\n    <tr>\n      <th>1088</th>\n      <td>RD_D_J_20230331</td>\n      <td>398.828636</td>\n    </tr>\n    <tr>\n      <th>1089</th>\n      <td>CR_D_J_20230331</td>\n      <td>1822.411070</td>\n    </tr>\n    <tr>\n      <th>1091</th>\n      <td>RD_F_J_20230331</td>\n      <td>552.992025</td>\n    </tr>\n  </tbody>\n</table>\n<p>812 rows × 2 columns</p>\n</div>"
     },
     "execution_count": 66,
     "metadata": {},
     "output_type": "execute_result"
    }
   ],
   "source": [
    "## 앙상블 모델 정의\n",
    "\n",
    "cat = CatBoostRegressor(random_state = 2024,\n",
    "                        n_estimators = 1000,\n",
    "                        learning_rate = 0.01,\n",
    "                        depth = 10,\n",
    "                        l2_leaf_reg = 3,\n",
    "                        metric_period = 1000)\n",
    "\n",
    "xgb = XGBRegressor(n_estimators = 1000, random_state = 2024, learning_rate = 0.01, max_depth = 10)\n",
    "\n",
    "\n",
    "# voting\n",
    "vote_model = VotingRegressor(\n",
    "    estimators =[(\"cat\",cat), (\"xgb\", xgb)]\n",
    ")\n",
    "\n",
    "vote_model.fit(Xy.drop(columns = [\"timestamp\", \"ID\",\"price\"]), Xy[\"price\"])\n",
    "\n",
    "pred = vote_model.predict(answer_notg.drop(columns = [\"ID\"]))\n",
    "for idx in range(len(pred)):\n",
    "    if pred[idx]<0:\n",
    "        pred[idx]= 0\n",
    "answer_notg[\"answer\"] = pred\n",
    "\n",
    "answer_notg[[\"ID\",\"answer\"]]"
   ],
   "metadata": {
    "collapsed": false,
    "ExecuteTime": {
     "end_time": "2024-02-16T06:05:45.146485Z",
     "start_time": "2024-02-16T06:05:26.447027500Z"
    }
   },
   "id": "7d94d7671d08219b",
   "execution_count": 66
  },
  {
   "cell_type": "code",
   "outputs": [
    {
     "name": "stdout",
     "output_type": "stream",
     "text": [
      "Mean Absolute Error (MAE): 122.97016223558009\n"
     ]
    }
   ],
   "source": [
    "from sklearn.metrics import mean_absolute_error\n",
    "\n",
    "# 예측값 계산\n",
    "pred = vote_model.predict(Xy.drop(columns=[\"timestamp\", \"ID\", \"price\"]))\n",
    "\n",
    "# 음수 값 처리\n",
    "pred = np.maximum(pred, 0)\n",
    "\n",
    "# 실제값\n",
    "true_values = Xy[\"price\"]\n",
    "\n",
    "# MAE 계산\n",
    "mae = mean_absolute_error(true_values, pred)\n",
    "\n",
    "print(\"Mean Absolute Error (MAE):\", mae)\n"
   ],
   "metadata": {
    "collapsed": false,
    "ExecuteTime": {
     "end_time": "2024-02-16T06:19:23.639843800Z",
     "start_time": "2024-02-16T06:19:23.037628200Z"
    }
   },
   "id": "e040622df31667d0",
   "execution_count": 67
  },
  {
   "cell_type": "code",
   "outputs": [
    {
     "name": "stdout",
     "output_type": "stream",
     "text": [
      "Root Mean Squared Error (RMSE): 275.05159797602477\n"
     ]
    }
   ],
   "source": [
    "from sklearn.metrics import mean_squared_error\n",
    "\n",
    "# 예측값 계산\n",
    "pred = vote_model.predict(Xy.drop(columns=[\"timestamp\", \"ID\", \"price\"]))\n",
    "\n",
    "# 음수 값 처리\n",
    "pred = np.maximum(pred, 0)\n",
    "\n",
    "# 실제값\n",
    "true_values = Xy[\"price\"]\n",
    "\n",
    "# RMSE 계산\n",
    "rmse = np.sqrt(mean_squared_error(true_values, pred))\n",
    "\n",
    "print(\"Root Mean Squared Error (RMSE):\", rmse)\n"
   ],
   "metadata": {
    "collapsed": false,
    "ExecuteTime": {
     "end_time": "2024-02-16T06:19:44.602775100Z",
     "start_time": "2024-02-16T06:19:44.011971200Z"
    }
   },
   "id": "a1c88fba24cc9ba1",
   "execution_count": 68
  },
  {
   "cell_type": "code",
   "outputs": [
    {
     "name": "stdout",
     "output_type": "stream",
     "text": [
      "전처리 전 train 크기 : (59397, 7)\n",
      "전처리 전 test 크기 : (1092, 5)\n",
      "=================전처리 중=================\n",
      "전처리 후 train 크기 : (59397, 15)\n",
      "전처리 후 test 크기 : (1092, 15)\n",
      "train의 컬럼 : Index(['ID', 'timestamp', 'price', 'year', 'month', 'day', 'week_day',\n",
      "       'year_month', 'week', 'week_num', 'holiday', 'item_TG', 'corporation_A',\n",
      "       'corporation_B', 'corporation_C', 'corporation_D', 'corporation_E',\n",
      "       'location_J', 'location_S'],\n",
      "      dtype='object')\n",
      "test의 컬럼 : Index(['ID', 'year', 'month', 'day', 'week_day', 'year_month', 'week',\n",
      "       'week_num', 'holiday', 'item_TG', 'corporation_A', 'corporation_B',\n",
      "       'corporation_C', 'corporation_D', 'corporation_E', 'location_J',\n",
      "       'location_S'],\n",
      "      dtype='object')\n"
     ]
    }
   ],
   "source": [
    "train_pre, test_pre = pre_all(train, test)\n",
    "\n",
    "# 공휴일이지만 안쉬는 날 제외하기\n",
    "no_holi = list(train_pre[(train_pre[\"item\"] ==\"TG\") &(train_pre[\"holiday\"]==1) & (train_pre[\"price\"]!=0)].groupby(\"timestamp\").count().reset_index()[\"timestamp\"])\n",
    "noholi_idx = train_pre[train_pre[\"timestamp\"].isin(no_holi)][\"holiday\"].index\n",
    "for idx in noholi_idx:\n",
    "    train_pre.loc[idx, \"holiday\"] = 0\n",
    "\n",
    "# train 및 test 시간 순서로 정렬하기\n",
    "train_tg = train_pre[train_pre[\"item\"] == \"TG\"].sort_values(by = [\"timestamp\"]).reset_index(drop= True)\n",
    "test_tg = test_pre[test_pre[\"item\"] == \"TG\"].sort_values(by = [\"timestamp\"]).reset_index(drop= True)\n",
    "\n",
    "Xy = pd.get_dummies(train_tg, columns = [ \"item\",\"corporation\",\"location\"]).drop(columns = [\"supply\"])\n",
    "answer_tg1 = pd.get_dummies(test_tg, columns = [ \"item\",\"corporation\",\"location\"]).drop(columns = [\"timestamp\",\"supply\",\"price\"])\n",
    "print(f\"train의 컬럼 : {Xy.columns}\")\n",
    "print(f\"test의 컬럼 : {answer_tg1.columns}\")\n",
    "Xy[\"price\"] = np.sqrt(Xy[\"price\"])"
   ],
   "metadata": {
    "collapsed": false,
    "ExecuteTime": {
     "end_time": "2024-02-16T06:26:17.594411400Z",
     "start_time": "2024-02-16T06:25:06.322560600Z"
    }
   },
   "id": "ddd89f5c783c072b",
   "execution_count": 69
  },
  {
   "cell_type": "code",
   "outputs": [
    {
     "name": "stdout",
     "output_type": "stream",
     "text": [
      "0:\tlearn: 30.9664058\ttotal: 13.6ms\tremaining: 13.6s\n",
      "999:\tlearn: 15.5181153\ttotal: 11.7s\tremaining: 0us\n"
     ]
    },
    {
     "data": {
      "text/plain": "                  ID       answer\n0    TG_A_J_20230304  2563.261796\n1    TG_E_S_20230304  3458.001764\n2    TG_E_J_20230304   377.066719\n3    TG_D_S_20230304  3662.783068\n4    TG_D_J_20230304   607.878918\n..               ...          ...\n275  TG_D_J_20230331  2804.801999\n276  TG_D_S_20230331  4860.908623\n277  TG_A_S_20230331  5304.802147\n278  TG_E_S_20230331  4859.787923\n279  TG_E_J_20230331  1911.300384\n\n[280 rows x 2 columns]",
      "text/html": "<div>\n<style scoped>\n    .dataframe tbody tr th:only-of-type {\n        vertical-align: middle;\n    }\n\n    .dataframe tbody tr th {\n        vertical-align: top;\n    }\n\n    .dataframe thead th {\n        text-align: right;\n    }\n</style>\n<table border=\"1\" class=\"dataframe\">\n  <thead>\n    <tr style=\"text-align: right;\">\n      <th></th>\n      <th>ID</th>\n      <th>answer</th>\n    </tr>\n  </thead>\n  <tbody>\n    <tr>\n      <th>0</th>\n      <td>TG_A_J_20230304</td>\n      <td>2563.261796</td>\n    </tr>\n    <tr>\n      <th>1</th>\n      <td>TG_E_S_20230304</td>\n      <td>3458.001764</td>\n    </tr>\n    <tr>\n      <th>2</th>\n      <td>TG_E_J_20230304</td>\n      <td>377.066719</td>\n    </tr>\n    <tr>\n      <th>3</th>\n      <td>TG_D_S_20230304</td>\n      <td>3662.783068</td>\n    </tr>\n    <tr>\n      <th>4</th>\n      <td>TG_D_J_20230304</td>\n      <td>607.878918</td>\n    </tr>\n    <tr>\n      <th>...</th>\n      <td>...</td>\n      <td>...</td>\n    </tr>\n    <tr>\n      <th>275</th>\n      <td>TG_D_J_20230331</td>\n      <td>2804.801999</td>\n    </tr>\n    <tr>\n      <th>276</th>\n      <td>TG_D_S_20230331</td>\n      <td>4860.908623</td>\n    </tr>\n    <tr>\n      <th>277</th>\n      <td>TG_A_S_20230331</td>\n      <td>5304.802147</td>\n    </tr>\n    <tr>\n      <th>278</th>\n      <td>TG_E_S_20230331</td>\n      <td>4859.787923</td>\n    </tr>\n    <tr>\n      <th>279</th>\n      <td>TG_E_J_20230331</td>\n      <td>1911.300384</td>\n    </tr>\n  </tbody>\n</table>\n<p>280 rows × 2 columns</p>\n</div>"
     },
     "execution_count": 70,
     "metadata": {},
     "output_type": "execute_result"
    }
   ],
   "source": [
    "# # 모델 정의\n",
    "cat = CatBoostRegressor(random_state = 2024,\n",
    "                        n_estimators = 1000,\n",
    "                        learning_rate = 0.01,\n",
    "                        depth = 10,\n",
    "                        l2_leaf_reg = 3,\n",
    "                        metric_period = 1000)\n",
    "\n",
    "xgb = XGBRegressor(n_estimators = 1000, random_state = 2024, learning_rate = 0.01, max_depth = 10)\n",
    "\n",
    "\n",
    "# voting\n",
    "vote_model = VotingRegressor(\n",
    "    estimators =[(\"cat\",cat), (\"xgb\", xgb)]\n",
    ")\n",
    "\n",
    "vote_model.fit(Xy.drop(columns = [\"timestamp\", \"ID\",\"price\"]), Xy[\"price\"])\n",
    "\n",
    "pred = vote_model.predict(answer_tg1.drop(columns = [\"ID\"]))\n",
    "for idx in range(len(pred)):\n",
    "    if pred[idx]<0:\n",
    "        pred[idx]= 0\n",
    "answer_tg1[\"answer\"] = np.power(pred,2)\n",
    "\n",
    "answer_tg1[[\"ID\",\"answer\"]]"
   ],
   "metadata": {
    "collapsed": false,
    "ExecuteTime": {
     "end_time": "2024-02-16T06:26:50.364934700Z",
     "start_time": "2024-02-16T06:26:33.504280Z"
    }
   },
   "id": "6e82f32f54ca748b",
   "execution_count": 70
  },
  {
   "cell_type": "code",
   "outputs": [
    {
     "name": "stdout",
     "output_type": "stream",
     "text": [
      "Root Mean Squared Error (RMSE): 12.098172279546729\n"
     ]
    }
   ],
   "source": [
    "from sklearn.metrics import mean_squared_error\n",
    "\n",
    "# 예측값 계산\n",
    "pred = vote_model.predict(Xy.drop(columns=[\"timestamp\", \"ID\", \"price\"]))\n",
    "\n",
    "# 음수 값 처리\n",
    "pred = np.maximum(pred, 0)\n",
    "\n",
    "# 실제값\n",
    "true_values = Xy[\"price\"]\n",
    "\n",
    "# RMSE 계산\n",
    "rmse = np.sqrt(mean_squared_error(true_values, pred))\n",
    "\n",
    "print(\"Root Mean Squared Error (RMSE):\", rmse)"
   ],
   "metadata": {
    "collapsed": false,
    "ExecuteTime": {
     "end_time": "2024-02-16T06:27:10.613082600Z",
     "start_time": "2024-02-16T06:27:10.486707Z"
    }
   },
   "id": "9d4a72e00f9aaf2a",
   "execution_count": 71
  },
  {
   "cell_type": "code",
   "outputs": [
    {
     "name": "stdout",
     "output_type": "stream",
     "text": [
      "0:\tlearn: 31.0106097\ttotal: 12.1ms\tremaining: 12.1s\n",
      "999:\tlearn: 15.4883333\ttotal: 9.74s\tremaining: 0us\n",
      "0:\tlearn: 30.8871835\ttotal: 10.5ms\tremaining: 10.5s\n",
      "999:\tlearn: 15.2709308\ttotal: 11.2s\tremaining: 0us\n",
      "0:\tlearn: 31.0308251\ttotal: 14.1ms\tremaining: 14.1s\n",
      "999:\tlearn: 15.2863358\ttotal: 11.6s\tremaining: 0us\n",
      "0:\tlearn: 30.9086205\ttotal: 12.6ms\tremaining: 12.6s\n",
      "999:\tlearn: 15.3324203\ttotal: 11.9s\tremaining: 0us\n",
      "0:\tlearn: 31.0034726\ttotal: 22ms\tremaining: 22s\n",
      "999:\tlearn: 15.4562047\ttotal: 12.4s\tremaining: 0us\n",
      "Cross-Validated RMSE Scores: [16.32447666 16.92014942 16.68813997 16.87667956 16.46993766]\n",
      "Mean RMSE: 16.655876653224997\n"
     ]
    }
   ],
   "source": [
    "from sklearn.model_selection import cross_val_score, KFold\n",
    "\n",
    "# 예측값 계산\n",
    "pred = vote_model.predict(Xy.drop(columns=[\"timestamp\", \"ID\", \"price\"]))\n",
    "\n",
    "# 음수 값 처리\n",
    "pred = np.maximum(pred, 0)\n",
    "\n",
    "# 실제값\n",
    "true_values = Xy[\"price\"]\n",
    "\n",
    "# k-fold 교차 검증 설정\n",
    "kfold = KFold(n_splits=5, shuffle=True, random_state=2024)\n",
    "\n",
    "# 교차 검증 수행 및 RMSE 계산\n",
    "rmse_scores = np.sqrt(-cross_val_score(vote_model, Xy.drop(columns=[\"timestamp\", \"ID\", \"price\"]), true_values, scoring=\"neg_mean_squared_error\", cv=kfold))\n",
    "\n",
    "# 결과 출력\n",
    "print(\"Cross-Validated RMSE Scores:\", rmse_scores)\n",
    "print(\"Mean RMSE:\", np.mean(rmse_scores))\n"
   ],
   "metadata": {
    "collapsed": false,
    "ExecuteTime": {
     "end_time": "2024-02-16T06:29:54.725845800Z",
     "start_time": "2024-02-16T06:28:32.710411200Z"
    }
   },
   "id": "fcadef95f8eb303f",
   "execution_count": 72
  },
  {
   "cell_type": "code",
   "outputs": [
    {
     "name": "stdout",
     "output_type": "stream",
     "text": [
      "Index(['ID', 'timestamp', 'price', 'year', 'month', 'day', 'week_day',\n",
      "       'year_month', 'week', 'week_num', 'holiday', 'corporation_A',\n",
      "       'corporation_B', 'corporation_C', 'corporation_D', 'corporation_E',\n",
      "       'location_J', 'location_S'],\n",
      "      dtype='object')\n"
     ]
    }
   ],
   "source": [
    "train_tg2 = train_pre[train_pre[\"item\"] ==\"TG\"]\n",
    "test_tg2 = test_pre[test_pre[\"item\"] == \"TG\"]\n",
    "\n",
    "Xy2 = pd.get_dummies(train_tg2.sort_values(by = [\"timestamp\", \"corporation\",\"location\"]).reset_index(drop=True).drop(columns = [\"item\",\"supply\"]), columns = [ \"corporation\",\"location\"])\n",
    "answer_tg2 = pd.get_dummies(test_tg2.drop(columns = [\"timestamp\",\"supply\",\"price\",\"item\"]), columns = [ \"corporation\",\"location\"])\n",
    "print(Xy2.columns)\n",
    "\n",
    "# 종속변수 루트값\n",
    "Xy2[\"price\"] = np.sqrt(Xy2[\"price\"])"
   ],
   "metadata": {
    "collapsed": false,
    "ExecuteTime": {
     "end_time": "2024-02-16T06:34:40.838735700Z",
     "start_time": "2024-02-16T06:34:40.785734800Z"
    }
   },
   "id": "80862ab4563232aa",
   "execution_count": 73
  },
  {
   "cell_type": "code",
   "outputs": [
    {
     "ename": "NameError",
     "evalue": "name 'CatBoostRegressor' is not defined",
     "output_type": "error",
     "traceback": [
      "\u001B[1;31m---------------------------------------------------------------------------\u001B[0m",
      "\u001B[1;31mNameError\u001B[0m                                 Traceback (most recent call last)",
      "Cell \u001B[1;32mIn[2], line 7\u001B[0m\n\u001B[0;32m      4\u001B[0m max_depths \u001B[38;5;241m=\u001B[39m \u001B[38;5;241m10\u001B[39m\n\u001B[0;32m      5\u001B[0m l2_leaf_reg \u001B[38;5;241m=\u001B[39m \u001B[38;5;241m3\u001B[39m\n\u001B[1;32m----> 7\u001B[0m cat \u001B[38;5;241m=\u001B[39m \u001B[43mCatBoostRegressor\u001B[49m(random_state \u001B[38;5;241m=\u001B[39m \u001B[38;5;241m2024\u001B[39m,\n\u001B[0;32m      8\u001B[0m                         n_estimators \u001B[38;5;241m=\u001B[39m n_estimators,\n\u001B[0;32m      9\u001B[0m                         learning_rate \u001B[38;5;241m=\u001B[39m lrs,\n\u001B[0;32m     10\u001B[0m                         depth \u001B[38;5;241m=\u001B[39m max_depths,\n\u001B[0;32m     11\u001B[0m                         l2_leaf_reg \u001B[38;5;241m=\u001B[39m l2_leaf_reg,\n\u001B[0;32m     12\u001B[0m                         metric_period \u001B[38;5;241m=\u001B[39m \u001B[38;5;241m1000\u001B[39m)\n\u001B[0;32m     14\u001B[0m cat\u001B[38;5;241m.\u001B[39mfit(Xy2\u001B[38;5;241m.\u001B[39mdrop(columns \u001B[38;5;241m=\u001B[39m [\u001B[38;5;124m\"\u001B[39m\u001B[38;5;124mtimestamp\u001B[39m\u001B[38;5;124m\"\u001B[39m, \u001B[38;5;124m\"\u001B[39m\u001B[38;5;124mID\u001B[39m\u001B[38;5;124m\"\u001B[39m,\u001B[38;5;124m\"\u001B[39m\u001B[38;5;124mprice\u001B[39m\u001B[38;5;124m\"\u001B[39m]), Xy2[\u001B[38;5;124m\"\u001B[39m\u001B[38;5;124mprice\u001B[39m\u001B[38;5;124m\"\u001B[39m])\n\u001B[0;32m     16\u001B[0m pred2 \u001B[38;5;241m=\u001B[39m cat\u001B[38;5;241m.\u001B[39mpredict(answer_tg2\u001B[38;5;241m.\u001B[39mdrop(columns \u001B[38;5;241m=\u001B[39m [\u001B[38;5;124m\"\u001B[39m\u001B[38;5;124mID\u001B[39m\u001B[38;5;124m\"\u001B[39m]))\n",
      "\u001B[1;31mNameError\u001B[0m: name 'CatBoostRegressor' is not defined"
     ]
    }
   ],
   "source": [
    "# 모델 정의 및 훈련 예측\n",
    "n_estimators =1000\n",
    "lrs = 0.05\n",
    "max_depths = 10\n",
    "l2_leaf_reg = 3\n",
    "\n",
    "cat = CatBoostRegressor(random_state = 2024,\n",
    "                        n_estimators = n_estimators,\n",
    "                        learning_rate = lrs,\n",
    "                        depth = max_depths,\n",
    "                        l2_leaf_reg = l2_leaf_reg,\n",
    "                        metric_period = 1000)\n",
    "\n",
    "cat.fit(Xy2.drop(columns = [\"timestamp\", \"ID\",\"price\"]), Xy2[\"price\"])\n",
    "\n",
    "pred2 = cat.predict(answer_tg2.drop(columns = [\"ID\"]))\n",
    "for idx in range(len(pred2)):\n",
    "    if pred2[idx]<0:\n",
    "        pred2[idx]= 0\n",
    "answer_tg2[\"answer\"] = np.power(pred2,2)\n",
    "\n",
    "answer_tg2[[\"ID\",\"answer\"]]"
   ],
   "metadata": {
    "collapsed": false,
    "ExecuteTime": {
     "end_time": "2024-02-16T06:46:41.356154100Z",
     "start_time": "2024-02-16T06:46:41.316020Z"
    }
   },
   "id": "a1b8a2932272a7a8",
   "execution_count": 2
  },
  {
   "cell_type": "code",
   "outputs": [
    {
     "ename": "NameError",
     "evalue": "name 'KFold' is not defined",
     "output_type": "error",
     "traceback": [
      "\u001B[1;31m---------------------------------------------------------------------------\u001B[0m",
      "\u001B[1;31mNameError\u001B[0m                                 Traceback (most recent call last)",
      "Cell \u001B[1;32mIn[1], line 2\u001B[0m\n\u001B[0;32m      1\u001B[0m \u001B[38;5;66;03m# k-fold 교차 검증 설정\u001B[39;00m\n\u001B[1;32m----> 2\u001B[0m kfold \u001B[38;5;241m=\u001B[39m \u001B[43mKFold\u001B[49m(n_splits\u001B[38;5;241m=\u001B[39m\u001B[38;5;241m5\u001B[39m, shuffle\u001B[38;5;241m=\u001B[39m\u001B[38;5;28;01mTrue\u001B[39;00m, random_state\u001B[38;5;241m=\u001B[39m\u001B[38;5;241m2024\u001B[39m)\n\u001B[0;32m      4\u001B[0m \u001B[38;5;66;03m# 예측값 계산\u001B[39;00m\n\u001B[0;32m      5\u001B[0m pred2 \u001B[38;5;241m=\u001B[39m cat\u001B[38;5;241m.\u001B[39mpredict(Xy2\u001B[38;5;241m.\u001B[39mdrop(columns\u001B[38;5;241m=\u001B[39m[\u001B[38;5;124m\"\u001B[39m\u001B[38;5;124mtimestamp\u001B[39m\u001B[38;5;124m\"\u001B[39m, \u001B[38;5;124m\"\u001B[39m\u001B[38;5;124mID\u001B[39m\u001B[38;5;124m\"\u001B[39m, \u001B[38;5;124m\"\u001B[39m\u001B[38;5;124mprice\u001B[39m\u001B[38;5;124m\"\u001B[39m]))\n",
      "\u001B[1;31mNameError\u001B[0m: name 'KFold' is not defined"
     ]
    }
   ],
   "source": [
    "# k-fold 교차 검증 설정\n",
    "kfold = KFold(n_splits=5, shuffle=True, random_state=2024)\n",
    "\n",
    "# 예측값 계산\n",
    "pred2 = cat.predict(Xy2.drop(columns=[\"timestamp\", \"ID\", \"price\"]))\n",
    "\n",
    "# 음수 값 처리\n",
    "pred2 = np.maximum(pred2, 0)\n",
    "\n",
    "# 실제값\n",
    "true_values2 = Xy2[\"price\"]\n",
    "\n",
    "# 교차 검증 수행 및 RMSE 계산\n",
    "rmse_scores = np.sqrt(-cross_val_score(cat, Xy2.drop(columns=[\"timestamp\", \"ID\", \"price\"]), true_values2, scoring=\"neg_mean_squared_error\", cv=kfold))\n",
    "\n",
    "# 결과 출력\n",
    "print(\"Cross-Validated RMSE Scores:\", rmse_scores)\n",
    "print(\"Mean RMSE:\", np.mean(rmse_scores))\n"
   ],
   "metadata": {
    "collapsed": false,
    "ExecuteTime": {
     "end_time": "2024-02-16T06:46:32.784075800Z",
     "start_time": "2024-02-16T06:46:32.134731900Z"
    }
   },
   "id": "e6cbe4f2c867c07e",
   "execution_count": 1
  },
  {
   "cell_type": "code",
   "outputs": [
    {
     "ename": "NameError",
     "evalue": "name 'answer_tg1' is not defined",
     "output_type": "error",
     "traceback": [
      "\u001B[1;31m---------------------------------------------------------------------------\u001B[0m",
      "\u001B[1;31mNameError\u001B[0m                                 Traceback (most recent call last)",
      "Cell \u001B[1;32mIn[9], line 1\u001B[0m\n\u001B[1;32m----> 1\u001B[0m total1 \u001B[38;5;241m=\u001B[39m pd\u001B[38;5;241m.\u001B[39mconcat([\u001B[43manswer_tg1\u001B[49m[[\u001B[38;5;124m\"\u001B[39m\u001B[38;5;124mID\u001B[39m\u001B[38;5;124m\"\u001B[39m,\u001B[38;5;124m\"\u001B[39m\u001B[38;5;124manswer\u001B[39m\u001B[38;5;124m\"\u001B[39m]],answer_notg[[\u001B[38;5;124m\"\u001B[39m\u001B[38;5;124mID\u001B[39m\u001B[38;5;124m\"\u001B[39m,\u001B[38;5;124m\"\u001B[39m\u001B[38;5;124manswer\u001B[39m\u001B[38;5;124m\"\u001B[39m]]])\n\u001B[0;32m      2\u001B[0m total2 \u001B[38;5;241m=\u001B[39m pd\u001B[38;5;241m.\u001B[39mconcat([answer_tg2[[\u001B[38;5;124m\"\u001B[39m\u001B[38;5;124mID\u001B[39m\u001B[38;5;124m\"\u001B[39m,\u001B[38;5;124m\"\u001B[39m\u001B[38;5;124manswer\u001B[39m\u001B[38;5;124m\"\u001B[39m]],answer_notg[[\u001B[38;5;124m\"\u001B[39m\u001B[38;5;124mID\u001B[39m\u001B[38;5;124m\"\u001B[39m,\u001B[38;5;124m\"\u001B[39m\u001B[38;5;124manswer\u001B[39m\u001B[38;5;124m\"\u001B[39m]]])\n",
      "\u001B[1;31mNameError\u001B[0m: name 'answer_tg1' is not defined"
     ]
    }
   ],
   "source": [
    "total1 = pd.concat([answer_tg1[[\"ID\",\"answer\"]],answer_notg[[\"ID\",\"answer\"]]])\n",
    "total2 = pd.concat([answer_tg2[[\"ID\",\"answer\"]],answer_notg[[\"ID\",\"answer\"]]])"
   ],
   "metadata": {
    "collapsed": false,
    "ExecuteTime": {
     "end_time": "2024-02-16T06:46:23.548308800Z",
     "start_time": "2024-02-16T06:46:23.520794100Z"
    }
   },
   "id": "2318681b5c7379e3",
   "execution_count": 9
  },
  {
   "cell_type": "code",
   "outputs": [],
   "source": [],
   "metadata": {
    "collapsed": false
   },
   "id": "76238431c4dde379"
  }
 ],
 "metadata": {
  "kernelspec": {
   "display_name": "Python 3",
   "language": "python",
   "name": "python3"
  },
  "language_info": {
   "codemirror_mode": {
    "name": "ipython",
    "version": 2
   },
   "file_extension": ".py",
   "mimetype": "text/x-python",
   "name": "python",
   "nbconvert_exporter": "python",
   "pygments_lexer": "ipython2",
   "version": "2.7.6"
  }
 },
 "nbformat": 4,
 "nbformat_minor": 5
}
